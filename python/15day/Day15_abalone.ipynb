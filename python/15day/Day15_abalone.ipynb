{
 "cells": [
  {
   "cell_type": "markdown",
   "id": "d25494db",
   "metadata": {},
   "source": [
    "#### 전복\n",
    "data url : https://archive.ics.uci.edu/ml/machine-learning-databases/abalone/abalone.data\n",
    "\n",
    "1. [함수]requests 패키지를 이용해 데이터 가져와서 ndarray로 변환\n",
    "\n",
    "2. [함수]성별이 'M'인 데이터를 필터, Length 와 Diameter 간 상관도를 반환\n",
    "\n",
    "3. __name__ 값이 __main__이면, 1,2 함수를 실행, 2번 함수의 반환값을 프린트\n",
    "\n",
    "bonus: sqlite3 데이터베이스 생성\n",
    "\n",
    "참고:https://docs.python.org/3/library/sqlite3.html\n",
    "\n",
    "테이블 DDL\n",
    "create table abalone(\n",
    "     length number,\n",
    "     diameter number);"
   ]
  },
  {
   "cell_type": "code",
   "execution_count": 64,
   "id": "305addb8",
   "metadata": {},
   "outputs": [],
   "source": [
    "import requests\n",
    "import numpy as np\n",
    "import matplotlib.pyplot as plt\n",
    "import sqlite3"
   ]
  },
  {
   "cell_type": "code",
   "execution_count": 65,
   "id": "57ec354b",
   "metadata": {},
   "outputs": [],
   "source": [
    "def read_data_np():\n",
    "    r=requests.get('https://archive.ics.uci.edu/ml/machine-learning-databases/abalone/abalone.data')\n",
    "    raw_data=r.text.split('\\n')\n",
    "    abl_data=[]\n",
    "    for e in raw_data:\n",
    "        abl_data.append(e.split(','))\n",
    "    np_data = np.array(abl_data[:-1])\n",
    "    return np_data"
   ]
  },
  {
   "cell_type": "code",
   "execution_count": 62,
   "id": "fecbc2a8",
   "metadata": {},
   "outputs": [],
   "source": [
    "def l_w_corr(np_data):\n",
    "    filter1 = np_data[:,0] == 'M'\n",
    "    np_data_M = np_data[filter1][:,0:3]\n",
    "    np_data_l_w = np_data_M[:,1:3].astype(np.float64)\n",
    "    return np.corrcoef(np_data_l_w[:,0],np_data_l_w[:,1])"
   ]
  },
  {
   "cell_type": "code",
   "execution_count": 67,
   "id": "28aa09db",
   "metadata": {},
   "outputs": [
    {
     "ename": "IndentationError",
     "evalue": "unindent does not match any outer indentation level (<tokenize>, line 4)",
     "output_type": "error",
     "traceback": [
      "\u001b[1;36m  File \u001b[1;32m<tokenize>:4\u001b[1;36m\u001b[0m\n\u001b[1;33m    print(out)\u001b[0m\n\u001b[1;37m    ^\u001b[0m\n\u001b[1;31mIndentationError\u001b[0m\u001b[1;31m:\u001b[0m unindent does not match any outer indentation level\n"
     ]
    }
   ],
   "source": [
    "if __name__ == '__main__':\n",
    "\td = read_data_np()\n",
    "\tout = l_w_corr(d)\n",
    "    print(out)"
   ]
  }
 ],
 "metadata": {
  "kernelspec": {
   "display_name": "Python 3 (ipykernel)",
   "language": "python",
   "name": "python3"
  },
  "language_info": {
   "codemirror_mode": {
    "name": "ipython",
    "version": 3
   },
   "file_extension": ".py",
   "mimetype": "text/x-python",
   "name": "python",
   "nbconvert_exporter": "python",
   "pygments_lexer": "ipython3",
   "version": "3.10.9"
  }
 },
 "nbformat": 4,
 "nbformat_minor": 5
}
