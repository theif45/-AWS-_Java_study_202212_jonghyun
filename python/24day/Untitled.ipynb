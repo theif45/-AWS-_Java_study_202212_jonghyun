{
 "cells": [
  {
   "cell_type": "code",
   "execution_count": 2,
   "id": "c4f3c815",
   "metadata": {},
   "outputs": [
    {
     "name": "stdout",
     "output_type": "stream",
     "text": [
      "['HYGothic-Extra', 'sans-serif']\n"
     ]
    }
   ],
   "source": [
    "import numpy as np\n",
    "import pandas as pd\n",
    "import matplotlib.pyplot as plt\n",
    "import matplotlib\n",
    "import matplotlib\n",
    "matplotlib.use('TkAgg')\n",
    "import matplotlib.animation as animation\n",
    "from matplotlib import font_manager, rc\n",
    "\n",
    "current_font_list = matplotlib.rcParams['font.family']\n",
    "\n",
    "font_path = \"C:/Windows/Fonts/H2GTRE.TTF\"\n",
    "font = font_manager.FontProperties(fname=font_path).get_name()\n",
    "# rc('font', family=font)\n",
    "matplotlib.rcParams['font.family'] = [font]+current_font_list\n",
    "print(matplotlib.rcParams['font.family'])"
   ]
  },
  {
   "cell_type": "code",
   "execution_count": 3,
   "id": "55c15b01",
   "metadata": {},
   "outputs": [
    {
     "name": "stderr",
     "output_type": "stream",
     "text": [
      "C:\\Users\\ITPS\\AppData\\Local\\Temp\\ipykernel_10032\\999848205.py:1: UserWarning: Starting a Matplotlib GUI outside of the main thread will likely fail.\n",
      "  fig, ax = plt.subplots()\n",
      "C:\\Users\\ITPS\\AppData\\Local\\Temp\\ipykernel_10032\\999848205.py:30: UserWarning: Starting a Matplotlib GUI outside of the main thread will likely fail.\n",
      "  plt.show()\n"
     ]
    }
   ],
   "source": [
    "fig, ax = plt.subplots()\n",
    "t = np.linspace(0, 3, 40)\n",
    "g = -9.81\n",
    "v0 = 12\n",
    "z = g * t**2 / 2 + v0 * t\n",
    "\n",
    "v02 = 5\n",
    "z2 = g * t**2 / 2 + v02 * t\n",
    "\n",
    "scat = ax.scatter(t[0], z[0], c=\"b\", s=5, label=f'v0 = {v0} m/s')\n",
    "line2 = ax.plot(t[0], z2[0], label=f'v0 = {v02} m/s')[0]\n",
    "ax.set(xlim=[0, 3], ylim=[-4, 10], xlabel='Time [s]', ylabel='Z [m]')\n",
    "ax.legend()\n",
    "\n",
    "\n",
    "def update(frame):\n",
    "    # for each frame, update the data stored on each artist.\n",
    "    x = t[:frame]\n",
    "    y = z[:frame]\n",
    "    # update the scatter plot:\n",
    "    data = np.stack([x, y]).T\n",
    "    scat.set_offsets(data)\n",
    "    # update the line plot:\n",
    "    line2.set_xdata(t[:frame])\n",
    "    line2.set_ydata(z2[:frame])\n",
    "    return (scat, line2)\n",
    "\n",
    "\n",
    "ani = animation.FuncAnimation(fig=fig, func=update, frames=40, interval=30)\n",
    "plt.show()"
   ]
  }
 ],
 "metadata": {
  "kernelspec": {
   "display_name": "Python 3 (ipykernel)",
   "language": "python",
   "name": "python3"
  },
  "language_info": {
   "codemirror_mode": {
    "name": "ipython",
    "version": 3
   },
   "file_extension": ".py",
   "mimetype": "text/x-python",
   "name": "python",
   "nbconvert_exporter": "python",
   "pygments_lexer": "ipython3",
   "version": "3.10.9"
  }
 },
 "nbformat": 4,
 "nbformat_minor": 5
}
