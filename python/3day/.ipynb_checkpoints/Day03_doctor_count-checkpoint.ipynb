{
 "cells": [
  {
   "cell_type": "code",
   "execution_count": 4,
   "id": "79a47527",
   "metadata": {},
   "outputs": [],
   "source": [
    "csv_data=[]\n",
    "with open('전국건강증진센터표준데이터.csv') as f:\n",
    "    for line in f:\n",
    "        csv_data.append(line.split(','))"
   ]
  },
  {
   "cell_type": "code",
   "execution_count": 7,
   "id": "6a23ee60",
   "metadata": {},
   "outputs": [
    {
     "name": "stdout",
     "output_type": "stream",
     "text": [
      "{24}\n"
     ]
    }
   ],
   "source": [
    "len_list=[]\n",
    "for e in csv_data:\n",
    "    len_list.append(len(e))\n",
    "print(set(len_list))"
   ]
  },
  {
   "cell_type": "code",
   "execution_count": 8,
   "id": "ceb26835",
   "metadata": {},
   "outputs": [
    {
     "name": "stdout",
     "output_type": "stream",
     "text": [
      "11\n"
     ]
    }
   ],
   "source": [
    "doctor_index = csv_data[0].index('의사수')\n",
    "print(doctor_index)"
   ]
  },
  {
   "cell_type": "code",
   "execution_count": 9,
   "id": "4d362a24",
   "metadata": {},
   "outputs": [
    {
     "name": "stdout",
     "output_type": "stream",
     "text": [
      "0 건강증진센터명\n",
      "1 건강증진센터구분\n",
      "2 소재지도로명주소\n",
      "3 소재지지번주소\n",
      "4 위도\n",
      "5 경도\n",
      "6 건강증진업무내용\n",
      "7 운영시작시각\n",
      "8 운영종료시각\n",
      "9 휴무일정보\n",
      "10 건물면적\n",
      "11 의사수\n",
      "12 간호사수\n",
      "13 사회복지사수\n",
      "14 영양사수\n",
      "15 기타인력현황\n",
      "16 기타이용안내\n",
      "17 운영기관전화번호\n",
      "18 운영기관명\n",
      "19 관리기관전화번호\n",
      "20 관리기관명\n",
      "21 데이터기준일자\n",
      "22 제공기관코드\n",
      "23 제공기관명\n",
      "\n"
     ]
    }
   ],
   "source": [
    "for i,e in enumerate(csv_data[0]):\n",
    "    print(i,e)"
   ]
  },
  {
   "cell_type": "code",
   "execution_count": 11,
   "id": "200a7949",
   "metadata": {},
   "outputs": [
    {
     "name": "stdout",
     "output_type": "stream",
     "text": [
      "['0', '0', '1', '0', '0', '1', '0', '1', '1', '1', '1', '0', '1', '1', '1', '1', '1', '1', '0', '0', '1', '1', '1', '0', '1', '0', '0', '0', '0', '0', '0', '1', '1', '12', '1', '0', '0', '1', '0', '0', '0', '0', '0', '0', '0', '0', '0', '0', '0', '1', '0', '0', '0', '0', '1', '1', '2', '1', '0', '1', '0', '1', '1', '0', '1', '0', '1', '1', '1', '1', '1', '1', '0', '1', '0', '0', '2', '1', '0', '1', '1', '0', '0', '1', '0', '1', '0', '0', '0', '0', '0', '1', '0', '0', '1', '1', '1', '1', '1', '0', '0', '0', '1', '1', '1', '1', '1', '0', '1', '0', '0', '0', '1', '0', '0', '1', '0', '1', '1', '1', '1', '1', '0', '0', '0', '0', '0', '0', '0', '0', '1', '0', '0', '0', '0', '0', '0', '0', '0', '0', '1', '1', '1', '1', '0', '0', '0', '0', '0', '1', '0', '1', '0', '0', '0', '0', '0', '1', '0', '1', '1', '1', '1', '0', '1', '1', '0', '0', '7', '1', '0', '0', '0', '0', '0', '1', '0', '1', '1', '5', '1', '1', '0', '0', '0', '0', '0', '1', '1', '1', '1', '2', '0', '0', '0', '0', '0', '1', '0', '1', '0', '1', '1', '0', '0', '0', '1', '1', '1', '1', '0', '0', '0', '0', '0', '0', '1', '1', '1', '2', '0', '0', '0', '0', '1', '1', '0', '0', '0', '1', '1', '1', '0', '1', '0', '0', '0', '1', '4', '0', '1', '0', '0', '0', '0', '0', '0', '0', '0', '0', '0', '0', '0', '0', '0', '0', '0', '1', '0', '0', '0', '0', '1', '1', '1', '0', '0', '0', '1', '0', '0', '0', '0', '0', '0', '1', '1', '4', '1', '0', '1', '0', '0', '0', '1', '0', '1', '0', '1', '1', '0', '1']\n",
      "center count:  292\n",
      "center with no doctor:  167\n"
     ]
    }
   ],
   "source": [
    "doctor_count=[]\n",
    "for e in csv_data[1:]:\n",
    "    doctor_count.append(e[doctor_index])\n",
    "print(doctor_count)\n",
    "print('center count: ', len(doctor_count))\n",
    "print('center with no doctor: ', doctor_count.count('0'))"
   ]
  },
  {
   "cell_type": "code",
   "execution_count": 17,
   "id": "2391d84f",
   "metadata": {},
   "outputs": [
    {
     "name": "stdout",
     "output_type": "stream",
     "text": [
      "total doctor count:  156\n"
     ]
    }
   ],
   "source": [
    "# print(doctor_count)\n",
    "for i, c in enumerate(doctor_count):\n",
    "    try:\n",
    "        doctor_count[i] = int(c)\n",
    "    except:\n",
    "        doctor_count[i] = 0\n",
    "print('total doctor count: ', sum(doctor_count))"
   ]
  }
 ],
 "metadata": {
  "kernelspec": {
   "display_name": "Python 3 (ipykernel)",
   "language": "python",
   "name": "python3"
  },
  "language_info": {
   "codemirror_mode": {
    "name": "ipython",
    "version": 3
   },
   "file_extension": ".py",
   "mimetype": "text/x-python",
   "name": "python",
   "nbconvert_exporter": "python",
   "pygments_lexer": "ipython3",
   "version": "3.10.9"
  }
 },
 "nbformat": 4,
 "nbformat_minor": 5
}
