{
 "cells": [
  {
   "cell_type": "code",
   "execution_count": null,
   "id": "a4fb37d7",
   "metadata": {},
   "outputs": [],
   "source": [
    "import numpy as np\n",
    "\n",
    "csv_data=[]\n",
    "with open('전국로컬푸드인증정보표준데이터.csv') as f:\n",
    "    for line in f:\n",
    "        csv_data.append(my_split(line))\n",
    "print(csv_data)\n",
    "length=[]\n",
    "for e in csv_data:\n",
    "    length.append(len(e))\n",
    "print(set(length))\n",
    "for i,e in enumerate(csv_data[0]):\n",
    "    print(i,e)\n",
    "pass1 = []\n",
    "ad=[]\n",
    "for s in csv_data[1:]:\n",
    "#     print(s[8])\n",
    "    ad.append(s[4])\n",
    "    pass1.append(s[8].replace('\"','').replace(',','+').replace(' ','').split('+'))\n",
    "# print(ad)\n",
    "print(pass1)\n",
    "dict1 = dict(zip(ad,pass1))\n",
    "print(dict1)\n",
    "pass2=[]\n",
    "ad2=[]\n",
    "for i,s in enumerate(pass1):\n",
    "    for e in s:\n",
    "        ad2.append(ad[i])\n",
    "        pass2.append(e)\n",
    "# print(pass2)\n",
    "# print(ad2)\n",
    "dict2 = dict(zip(pass2,ad2))\n",
    "print(dict2)\n",
    "pass3=set(pass2)\n",
    "print(pass3)\n",
    "k_data=[]\n",
    "v_data=[]\n",
    "for i,e in enumerate(pass3):\n",
    "    k_data.append(e)\n",
    "    v_data.append(pass2.count(e))\n",
    "dict_data = dict(zip(k_data,v_data))\n",
    "dict_data = dict(sorted(dict_data.items(), key=lambda x:x[1], reverse=True))\n",
    "print(dict_data)"
   ]
  }
 ],
 "metadata": {
  "kernelspec": {
   "display_name": "Python 3 (ipykernel)",
   "language": "python",
   "name": "python3"
  },
  "language_info": {
   "codemirror_mode": {
    "name": "ipython",
    "version": 3
   },
   "file_extension": ".py",
   "mimetype": "text/x-python",
   "name": "python",
   "nbconvert_exporter": "python",
   "pygments_lexer": "ipython3",
   "version": "3.10.9"
  }
 },
 "nbformat": 4,
 "nbformat_minor": 5
}
