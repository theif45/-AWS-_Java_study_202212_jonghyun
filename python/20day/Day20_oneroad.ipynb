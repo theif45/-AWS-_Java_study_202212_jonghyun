{
 "cells": [
  {
   "cell_type": "markdown",
   "id": "6563207d",
   "metadata": {},
   "source": [
    "### 전국일방통행도로표준데이터\n",
    "- 데이터 전처리\n",
    "\n",
    "    시도명, 지정사유, 지정연도, 도로폭, 도로차로수, 보차분리여부\n",
    "\n",
    "- 결측치 처리(column 개별 기준)\n",
    "\n",
    "- 오류치 처리(unit의 차이)\n",
    "\n",
    "- 이상치 처리(iqr 사용)\n",
    "\n",
    "- 전처리 내용 정리"
   ]
  },
  {
   "cell_type": "code",
   "execution_count": 1,
   "id": "05532b2e",
   "metadata": {},
   "outputs": [],
   "source": [
    "import numpy as np\n",
    "import pandas as pd\n",
    "import matplotlib.pyplot as plt\n",
    "\n",
    "pd_rawdata = pd.read_csv('전국일방통행도로표준데이터.csv', encoding='cp949')\n",
    "# print(pd_rawdata.columns)\n",
    "columns_selection = ['시도명','지정사유','지정연도','도로폭','도로차로수','보차분리여부']\n",
    "pd_data = pd_rawdata[columns_selection]\n",
    "del pd_rawdata"
   ]
  },
  {
   "cell_type": "code",
   "execution_count": 2,
   "id": "4626ebfa",
   "metadata": {},
   "outputs": [
    {
     "name": "stdout",
     "output_type": "stream",
     "text": [
      "시도명 False\n",
      "지정사유 True\n",
      "True     1567\n",
      "False     592\n",
      "Name: 지정사유, dtype: int64\n",
      "지정연도 True\n",
      "True     1609\n",
      "False     550\n",
      "Name: 지정연도, dtype: int64\n",
      "도로폭 False\n",
      "도로차로수 True\n",
      "False    2158\n",
      "True        1\n",
      "Name: 도로차로수, dtype: int64\n",
      "보차분리여부 False\n"
     ]
    }
   ],
   "source": [
    "for e in pd_data:\n",
    "    print(e, pd_data[e].hasnans)\n",
    "    if pd_data[e].hasnans == True:\n",
    "        print(pd_data[e].isna().value_counts())"
   ]
  },
  {
   "cell_type": "code",
   "execution_count": 3,
   "id": "6ad83417",
   "metadata": {},
   "outputs": [],
   "source": [
    "# pd_data[['시도명','지정사유','보차분리여부']] = pd_data[['시도명','지정사유','보차분리여부']].astype('category')\n",
    "# print(pd_data.dtypes)"
   ]
  },
  {
   "cell_type": "code",
   "execution_count": 4,
   "id": "a92cb94a",
   "metadata": {},
   "outputs": [
    {
     "data": {
      "text/plain": [
       "서울특별시      755\n",
       "경기도        384\n",
       "경상북도       329\n",
       "경상남도       152\n",
       "전라남도       115\n",
       "충청남도       113\n",
       "강원도         68\n",
       "광주광역시       58\n",
       "제주특별자치도     55\n",
       "인천광역시       51\n",
       "충청북도        42\n",
       "전라북도        37\n",
       "Name: 시도명, dtype: int64"
      ]
     },
     "execution_count": 4,
     "metadata": {},
     "output_type": "execute_result"
    }
   ],
   "source": [
    "# 시도명\n",
    "# 결측치 없음\n",
    "# 오류치 10 --> 시군구명 홍천구으로 강원도로 변경\n",
    "pd_data['시도명'].replace('10','강원도',inplace=True)\n",
    "pd_data['시도명'].value_counts()"
   ]
  },
  {
   "cell_type": "code",
   "execution_count": 5,
   "id": "0ccfeebe",
   "metadata": {},
   "outputs": [
    {
     "data": {
      "text/plain": [
       "False    2159\n",
       "Name: 지정사유, dtype: int64"
      ]
     },
     "execution_count": 5,
     "metadata": {},
     "output_type": "execute_result"
    }
   ],
   "source": [
    "#지정사유\n",
    "#결측치 있음\n",
    "#NaN --> 통행원활로 변경\n",
    "# pd_data['지정사유']\n",
    "pd_data['지정사유'] = pd_data['지정사유'].replace(np.NaN,'통행원활')\n",
    "pd_data['지정사유'].isna().value_counts()\n",
    "# pd_data['지정사유'].value_counts()"
   ]
  },
  {
   "cell_type": "code",
   "execution_count": 6,
   "id": "e0ee37b8",
   "metadata": {},
   "outputs": [
    {
     "data": {
      "text/plain": [
       "False    2159\n",
       "Name: 지정연도, dtype: int64"
      ]
     },
     "execution_count": 6,
     "metadata": {},
     "output_type": "execute_result"
    }
   ],
   "source": [
    "#지정연도\n",
    "#결측치 있음\n",
    "#NaN --> 0.0변경\n",
    "pd_data['지정연도'] = pd_data['지정연도'].replace(np.NaN,'0.0')\n",
    "pd_data['지정연도'].isna().value_counts()\n",
    "# pd_data['지정연도'].value_counts()"
   ]
  },
  {
   "cell_type": "code",
   "execution_count": 17,
   "id": "15300539",
   "metadata": {},
   "outputs": [
    {
     "data": {
      "text/plain": [
       "0       5.0\n",
       "1       5.0\n",
       "2       9.0\n",
       "3       4.0\n",
       "4       4.0\n",
       "       ... \n",
       "2154    6.0\n",
       "2155    6.0\n",
       "2156    6.0\n",
       "2157    6.0\n",
       "2158    9.5\n",
       "Name: 도로폭, Length: 2159, dtype: float64"
      ]
     },
     "execution_count": 17,
     "metadata": {},
     "output_type": "execute_result"
    }
   ],
   "source": [
    "#도로폭\n",
    "#결측치 없음\n",
    "# pd_data['도로폭'].isna().value_counts()\n",
    "# pd_data['도로폭'].value_counts()"
   ]
  },
  {
   "cell_type": "code",
   "execution_count": 13,
   "id": "0ae576c5",
   "metadata": {},
   "outputs": [
    {
     "name": "stdout",
     "output_type": "stream",
     "text": [
      "Series([], Name: 도로폭, dtype: float64)\n"
     ]
    }
   ],
   "source": [
    "#도로차로수\n",
    "#결측치 있음\n",
    "f1 = pd_data['도로차로수'] == np.NaN\n",
    "print(pd_data.loc[f1,'도로폭'])\n",
    "# pd_data['도로차로수'].isna().value_counts()\n",
    "# pd_data['도로차로수'].value_counts()\n",
    "#오류치 있음\n",
    "# 60 --> 1차로"
   ]
  }
 ],
 "metadata": {
  "kernelspec": {
   "display_name": "Python 3 (ipykernel)",
   "language": "python",
   "name": "python3"
  },
  "language_info": {
   "codemirror_mode": {
    "name": "ipython",
    "version": 3
   },
   "file_extension": ".py",
   "mimetype": "text/x-python",
   "name": "python",
   "nbconvert_exporter": "python",
   "pygments_lexer": "ipython3",
   "version": "3.10.9"
  }
 },
 "nbformat": 4,
 "nbformat_minor": 5
}
