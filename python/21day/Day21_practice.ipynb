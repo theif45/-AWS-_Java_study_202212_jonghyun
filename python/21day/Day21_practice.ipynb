{
 "cells": [
  {
   "cell_type": "markdown",
   "id": "8270f509",
   "metadata": {},
   "source": [
    "각 개별 jupyter note에서 전처리 후, pickle 또는 csv 저장\n",
    "1. 전국일방통행도로표준데이터\n",
    "    * 시도명, 지정사유, 지정연도, 도로폭, 도로차로수, 보차분리여부\n",
    "2. 전국어린이보호구역표준데이터 시도명 작업필요\n",
    "    * 시설종류, 관할경찰서명, CCTV설치여부, CCTV설치대수, 제공기관명, 보호구역도로폭\n",
    "3. 전국노인장애인보호구역표준데이터\n",
    "    * 시도명, 제한속도, CCTV설치여부, CCTV설치대수, 보호구역도로폭\n",
    "4. 새로운 jupyter note에서 종합\n",
    "    * 시도명, 어린이보호구역 CCTV 설치대수, 노인장애인보호구역 CCTV 설치대수, 일방통행 보차분리 ycount"
   ]
  }
 ],
 "metadata": {
  "kernelspec": {
   "display_name": "Python 3 (ipykernel)",
   "language": "python",
   "name": "python3"
  },
  "language_info": {
   "codemirror_mode": {
    "name": "ipython",
    "version": 3
   },
   "file_extension": ".py",
   "mimetype": "text/x-python",
   "name": "python",
   "nbconvert_exporter": "python",
   "pygments_lexer": "ipython3",
   "version": "3.10.9"
  }
 },
 "nbformat": 4,
 "nbformat_minor": 5
}
