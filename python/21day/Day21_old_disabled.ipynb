{
 "cells": [
  {
   "cell_type": "code",
   "execution_count": 1,
   "id": "01168034",
   "metadata": {},
   "outputs": [],
   "source": [
    "import numpy as np\n",
    "import pandas as pd\n",
    "\n",
    "pd_raw = pd.read_csv('전국노인장애인보호구역표준데이터.csv', encoding='cp949')\n",
    "# pd_raw.columns\n",
    "col_selection = ['시도명','제한속도','CCTV설치여부','CCTV설치대수','보호구역도로폭']\n",
    "pd_data = pd_raw[col_selection]"
   ]
  },
  {
   "cell_type": "code",
   "execution_count": 2,
   "id": "79f62178",
   "metadata": {},
   "outputs": [
    {
     "name": "stdout",
     "output_type": "stream",
     "text": [
      "(2518, 5)\n",
      "시도명          object\n",
      "제한속도          int64\n",
      "CCTV설치여부     object\n",
      "CCTV설치대수    float64\n",
      "보호구역도로폭      object\n",
      "dtype: object\n"
     ]
    }
   ],
   "source": [
    "print(pd_data.shape)\n",
    "print(pd_data.dtypes)"
   ]
  },
  {
   "cell_type": "code",
   "execution_count": 3,
   "id": "4bb71ddd",
   "metadata": {},
   "outputs": [
    {
     "name": "stdout",
     "output_type": "stream",
     "text": [
      "['서울특별시' '경상북도' '충청남도' '강원도' '경기도' '전라북도' '대전광역시' '경상남도' '인천광역시' '울산광역시'\n",
      " '부산광역시' '대구광역시' '충청북도' '전라남도' '광주광역시' '세종특별자치시' '제주특별자치도']\n",
      "False\n"
     ]
    }
   ],
   "source": [
    "# 시도명\n",
    "print(pd_data['시도명'].unique())\n",
    "print(pd_data['시도명'].hasnans)\n",
    "# 결측치,오류치,이상치: 없음"
   ]
  },
  {
   "cell_type": "code",
   "execution_count": 4,
   "id": "7cce78de",
   "metadata": {},
   "outputs": [
    {
     "name": "stdout",
     "output_type": "stream",
     "text": [
      "[30 50 60 40 38 39 41 42 43 44 45 46 47 48 49 51 52 53 54 55 31 32 33 34\n",
      " 35 36 37 20]\n",
      "False\n",
      "30.0 30.0\n",
      "False    2361\n",
      "True      157\n",
      "Name: 제한속도, dtype: int64\n",
      "[30. nan]\n",
      "True\n"
     ]
    }
   ],
   "source": [
    "# 제한속도\n",
    "print(pd_data['제한속도'].unique())\n",
    "print(pd_data['제한속도'].hasnans)\n",
    "# 결측치,오류치: 없음\n",
    "\n",
    "# 이상치:30제외 --> np.NaN으로 변경 후 dropna()\n",
    "q1, q3 = pd_data['제한속도'].quantile([0.25,0.75])\n",
    "iqr = q3 - q1\n",
    "upper = q3 + 1.5*iqr\n",
    "lower = q1 - 1.5*iqr\n",
    "print(lower, upper)\n",
    "filter1 = pd_data['제한속도'] != 30\n",
    "print(filter1.value_counts())\n",
    "pd_data.loc[filter1, '제한속도'] = np.NAN\n",
    "\n",
    "print(pd_data['제한속도'].unique())\n",
    "print(pd_data['제한속도'].hasnans)"
   ]
  },
  {
   "cell_type": "code",
   "execution_count": 5,
   "id": "060fbe21",
   "metadata": {},
   "outputs": [
    {
     "name": "stdout",
     "output_type": "stream",
     "text": [
      "['Y' 'N']\n",
      "False\n"
     ]
    }
   ],
   "source": [
    "# CCTV설치여부\n",
    "print(pd_data['CCTV설치여부'].unique())\n",
    "print(pd_data['CCTV설치여부'].hasnans)\n",
    "# 결측치,오류치,이상치: 없음"
   ]
  },
  {
   "cell_type": "code",
   "execution_count": 6,
   "id": "00e2c1e6",
   "metadata": {},
   "outputs": [
    {
     "name": "stdout",
     "output_type": "stream",
     "text": [
      "[ 1. nan  0.  2.  4.  3.  5.  8.  9.]\n",
      "True\n",
      "True     1551\n",
      "False     967\n",
      "Name: CCTV설치대수, dtype: int64\n",
      "False    2518\n",
      "Name: CCTV설치대수, dtype: int64\n",
      "[1. 0. 2. 4. 3. 5. 8. 9.]\n",
      "False\n"
     ]
    }
   ],
   "source": [
    "# CCTV설치대수\n",
    "print(pd_data['CCTV설치대수'].unique())\n",
    "print(pd_data['CCTV설치대수'].hasnans)\n",
    "# print(pd_data['CCTV설치대수'].value_counts())\n",
    "# 결측치: 설치여부 Y --> 1, 설치여부 N --> 0\n",
    "na_filter = pd_data['CCTV설치대수'].isna()\n",
    "print(na_filter.value_counts())\n",
    "filter1 = pd_data['CCTV설치여부'] == 'N'\n",
    "pd_data.loc[filter1,'CCTV설치대수'] = 0\n",
    "\n",
    "filter1 = (pd_data['CCTV설치여부'] == 'Y')\n",
    "pd_data.loc[filter1,'CCTV설치대수'] = pd_data.loc[filter1,'CCTV설치대수'].replace(np.NaN,1)\n",
    "na_filter = pd_data['CCTV설치대수'].isna()\n",
    "print(na_filter.value_counts())\n",
    "\n",
    "# 오류치: 없음\n",
    "\n",
    "# 이상치: 없음\n",
    "# print(pd_data['CCTV설치대수'].value_counts())\n",
    "# q1, q3 = pd_data['CCTV설치대수'].quantile([0.25,0.75])\n",
    "# iqr = q3 - q1\n",
    "# upper = q3 + 1.5*iqr\n",
    "# lower = q1 - 1.5*iqr\n",
    "# print(lower, upper)\n",
    "# filter1 = pd_data['제한속도'] != 30\n",
    "# print(filter1.value_counts())\n",
    "# pd_data.loc[filter1, '제한속도'] = np.NAN\n",
    "\n",
    "print(pd_data['CCTV설치대수'].unique())\n",
    "print(pd_data['CCTV설치대수'].hasnans)"
   ]
  },
  {
   "cell_type": "code",
   "execution_count": 7,
   "id": "635dd414",
   "metadata": {},
   "outputs": [
    {
     "name": "stdout",
     "output_type": "stream",
     "text": [
      "['3' '6' '7' '8' '9' nan '7.5' '6.5' '15' '11' '4' '20' '12' '13' '28'\n",
      " '20~34' '10' '15~20' '24' '25' '5' '14' '6~12' '16' '17~22' '4.5~5' '4.5'\n",
      " '20~23' '6~8' '33' '30' '12~13' '10~12' '8~9' '9~10' '4~30' '7~12' '35'\n",
      " '9.6~14.6' '14~25' '12~20' '21' '5~20' '1' '6~14' '5~7' '5~6' '7~11'\n",
      " '8~20' '4~8' '4~7' '18' '16~20' '5.5' '23' '6~10' '10~30' '6~7' '8~10'\n",
      " '36' '6~25' '22' '5.2' '10~15' '8.5' '6.5~12' '5~10' '0' '29' '5~8' '5~9'\n",
      " '33~35' '8 ~25' '7~9' '13~14' '5~11' '5~30' '5~15' '10~14' '26' '7~8'\n",
      " '4.5~6.5' '18~36' '5~16' '17' '10~35' '19' '8~12' '6~9' '7.5~12' '4~8.5'\n",
      " '5.0~11' '7.5~8' '8.5~25' '8.5~11' '6~13' '7~10' '40' '8~14' '20~30'\n",
      " '3~5' '8~35' '12~16' '13~15' '7~15' '5.7' '8.4' '3~4' '6.3~14.8' '2']\n",
      "True\n",
      "6          301\n",
      "8          281\n",
      "7          189\n",
      "7~11        85\n",
      "10          68\n",
      "          ... \n",
      "4~30         1\n",
      "4.5~6.5      1\n",
      "18~36        1\n",
      "5~16         1\n",
      "5~20         1\n",
      "Name: 보호구역도로폭, Length: 109, dtype: int64\n",
      "False    1484\n",
      "True     1034\n",
      "Name: 보호구역도로폭, dtype: int64\n",
      "8.924292     1034\n",
      "6.000000      309\n",
      "8.000000      287\n",
      "7.000000      233\n",
      "9.000000      109\n",
      "             ... \n",
      "34.000000       1\n",
      "29.000000       1\n",
      "0.000000        1\n",
      "9.250000        1\n",
      "16.500000       1\n",
      "Name: 보호구역도로폭, Length: 64, dtype: int64\n",
      "4.113561320754717 11.810731132075471\n",
      "False    2207\n",
      "True      311\n",
      "Name: 보호구역도로폭, dtype: int64\n",
      "[        nan  6.          7.          8.          9.          8.92429245\n",
      "  7.5         6.5        11.         10.          5.          4.75\n",
      "  4.5         8.5         9.5         5.5         5.2         9.25\n",
      " 10.5         9.75        6.25        7.75        5.7         8.4\n",
      " 10.55      ]\n",
      "True\n"
     ]
    },
    {
     "name": "stderr",
     "output_type": "stream",
     "text": [
      "C:\\Users\\ITPS\\AppData\\Local\\Temp\\ipykernel_8956\\2113389347.py:21: SettingWithCopyWarning: \n",
      "A value is trying to be set on a copy of a slice from a DataFrame.\n",
      "Try using .loc[row_indexer,col_indexer] = value instead\n",
      "\n",
      "See the caveats in the documentation: https://pandas.pydata.org/pandas-docs/stable/user_guide/indexing.html#returning-a-view-versus-a-copy\n",
      "  pd_data['보호구역도로폭'] = y\n"
     ]
    }
   ],
   "source": [
    "# 보호구역도로폭\n",
    "print(pd_data['보호구역도로폭'].unique())\n",
    "print(pd_data['보호구역도로폭'].hasnans)\n",
    "print(pd_data['보호구역도로폭'].value_counts())\n",
    "\n",
    "# 결측치: \n",
    "na_filter = pd_data['보호구역도로폭'].isna()\n",
    "print(na_filter.value_counts())\n",
    "\n",
    "# 오류치\n",
    "# 숫자a~숫자b 형태의 문자열 --> '숫자a'와 '숫자b'의 평균치(np.float64) 값으로 대체\n",
    "def a1(x):\n",
    "    if type(x) == type(' '):\n",
    "        if '~' in x:\n",
    "            m = np.array(x.split('~')).astype(np.float64).mean()\n",
    "            return str(m)\n",
    "        return str(x)\n",
    "y= pd_data['보호구역도로폭'].apply(a1)\n",
    "y = y.astype(np.float64)\n",
    "y = y.replace(np.NaN, y.mean())\n",
    "pd_data['보호구역도로폭'] = y\n",
    "\n",
    "# 이상치: 없음\n",
    "print(pd_data['보호구역도로폭'].value_counts())\n",
    "q1, q3 = pd_data['보호구역도로폭'].quantile([0.25,0.75])\n",
    "iqr = q3 - q1\n",
    "upper = q3 + 1.5*iqr\n",
    "lower = q1 - 1.5*iqr\n",
    "print(lower, upper)\n",
    "filter1 = (pd_data['보호구역도로폭'] > upper) | (pd_data['보호구역도로폭'] < lower)\n",
    "print(filter1.value_counts())\n",
    "pd_data.loc[filter1, '보호구역도로폭'] = np.NAN\n",
    "\n",
    "print(pd_data['보호구역도로폭'].unique())\n",
    "print(pd_data['보호구역도로폭'].hasnans)"
   ]
  },
  {
   "cell_type": "code",
   "execution_count": 8,
   "id": "cbc50a9e",
   "metadata": {},
   "outputs": [
    {
     "name": "stdout",
     "output_type": "stream",
     "text": [
      "(2518, 5)\n",
      "(2117, 5)\n"
     ]
    }
   ],
   "source": [
    "pd_data_f = pd_data.dropna()\n",
    "print(pd_data.shape)\n",
    "print(pd_data_f.shape)"
   ]
  }
 ],
 "metadata": {
  "kernelspec": {
   "display_name": "Python 3 (ipykernel)",
   "language": "python",
   "name": "python3"
  },
  "language_info": {
   "codemirror_mode": {
    "name": "ipython",
    "version": 3
   },
   "file_extension": ".py",
   "mimetype": "text/x-python",
   "name": "python",
   "nbconvert_exporter": "python",
   "pygments_lexer": "ipython3",
   "version": "3.10.9"
  }
 },
 "nbformat": 4,
 "nbformat_minor": 5
}
