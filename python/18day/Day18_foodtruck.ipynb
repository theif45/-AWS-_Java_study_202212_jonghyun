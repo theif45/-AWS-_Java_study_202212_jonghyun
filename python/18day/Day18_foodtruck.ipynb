{
 "cells": [
  {
   "cell_type": "markdown",
   "id": "ffc653b5",
   "metadata": {},
   "source": [
    "## 전국푸드트럭허가구역표준데이터\n",
    "- 전국/지자체별 푸드트럭 허가구역 갯수\n",
    "- 전국/지자체별 푸드트럭 운영대수"
   ]
  },
  {
   "cell_type": "code",
   "execution_count": 1,
   "id": "a08f6eea",
   "metadata": {},
   "outputs": [],
   "source": [
    "import numpy as np\n",
    "import pandas as pd\n",
    "import matplotlib.pyplot as plt\n",
    "\n",
    "food_df = pd.read_csv('전국푸드트럭허가구역표준데이터.csv', encoding='cp949')"
   ]
  },
  {
   "cell_type": "code",
   "execution_count": 21,
   "id": "753523f7",
   "metadata": {},
   "outputs": [
    {
     "name": "stdout",
     "output_type": "stream",
     "text": [
      "허가구역명            object\n",
      "장소유형              int64\n",
      "시도명              object\n",
      "시군구명             object\n",
      "소재지도로명주소         object\n",
      "소재지지번주소          object\n",
      "위도              float64\n",
      "경도              float64\n",
      "푸드트럭운영대수        float64\n",
      "허가구역사용료          object\n",
      "허가구역운영시작일자       object\n",
      "허가구역운영종료일자       object\n",
      "허가구역휴무일          object\n",
      "허가구역평일운영시작시각     object\n",
      "허가구역평일운영종료시각     object\n",
      "허가구역주말운영시작시각     object\n",
      "허가구역주말운영종료시각     object\n",
      "1월운영시작시각         object\n",
      "1월운영종료시각         object\n",
      "2월운영시작시각         object\n",
      "2월운영종료시각         object\n",
      "3월운영시작시각         object\n",
      "3월운영종료시각         object\n",
      "4월운영시작시각         object\n",
      "4월운영종료시각         object\n",
      "5월운영시작시각         object\n",
      "5월운영종료시각         object\n",
      "6월운영시작시각         object\n",
      "6월운영종료시각         object\n",
      "7월운영시작시각         object\n",
      "7월운영종료시각         object\n",
      "8월운영시작시각         object\n",
      "8월운영종료시각         object\n",
      "9월운영시작시각         object\n",
      "9월운영종료시각         object\n",
      "10월운영시작시각        object\n",
      "10월운영종료시각        object\n",
      "11월운영시작시각        object\n",
      "11월운영종료시각        object\n",
      "12월운영시작시각        object\n",
      "12월운영종료시각        object\n",
      "판매제한품목           object\n",
      "관리기관명            object\n",
      "관리기관전화번호         object\n",
      "데이터기준일자          object\n",
      "제공기관코드           object\n",
      "제공기관명            object\n",
      "dtype: object\n",
      "47 43\n"
     ]
    }
   ],
   "source": [
    "# print(food_df.shape)\n",
    "print(food_df.dtypes)\n",
    "num_descr_df = food_df.describe()\n",
    "# print(num_descr_df.columns)\n",
    "# print(food_df.columns)\n",
    "lista = list(food_df.columns)\n",
    "for e in list(num_descr_df.columns):\n",
    "    lista.remove(e)\n",
    "print(len(food_df.columns),len(lista))\n",
    "# food_df[lista].describe()"
   ]
  },
  {
   "cell_type": "code",
   "execution_count": 27,
   "id": "0b878959",
   "metadata": {},
   "outputs": [
    {
     "name": "stdout",
     "output_type": "stream",
     "text": [
      "0      2018\n",
      "1      2018\n",
      "2      2019\n",
      "3      2020\n",
      "4      2022\n",
      "       ... \n",
      "337    2021\n",
      "338    2021\n",
      "339    2022\n",
      "340    2022\n",
      "341    2022\n",
      "Name: 허가구역운영시작일자, Length: 342, dtype: int64\n"
     ]
    }
   ],
   "source": [
    "x = food_df['허가구역운영시작일자'].astype(np.datetime64)\n",
    "print(x)"
   ]
  },
  {
   "cell_type": "code",
   "execution_count": 46,
   "id": "603894a6",
   "metadata": {},
   "outputs": [
    {
     "data": {
      "text/html": [
       "<div>\n",
       "<style scoped>\n",
       "    .dataframe tbody tr th:only-of-type {\n",
       "        vertical-align: middle;\n",
       "    }\n",
       "\n",
       "    .dataframe tbody tr th {\n",
       "        vertical-align: top;\n",
       "    }\n",
       "\n",
       "    .dataframe thead th {\n",
       "        text-align: right;\n",
       "    }\n",
       "</style>\n",
       "<table border=\"1\" class=\"dataframe\">\n",
       "  <thead>\n",
       "    <tr style=\"text-align: right;\">\n",
       "      <th></th>\n",
       "      <th>label</th>\n",
       "      <th>codes</th>\n",
       "    </tr>\n",
       "  </thead>\n",
       "  <tbody>\n",
       "    <tr>\n",
       "      <th>217</th>\n",
       "      <td>화요일+수요일</td>\n",
       "      <td>57</td>\n",
       "    </tr>\n",
       "    <tr>\n",
       "      <th>5</th>\n",
       "      <td>화+수+목+금+토+일</td>\n",
       "      <td>56</td>\n",
       "    </tr>\n",
       "    <tr>\n",
       "      <th>101</th>\n",
       "      <td>화+수+목+금+토+일</td>\n",
       "      <td>56</td>\n",
       "    </tr>\n",
       "    <tr>\n",
       "      <th>199</th>\n",
       "      <td>행사종료일</td>\n",
       "      <td>55</td>\n",
       "    </tr>\n",
       "    <tr>\n",
       "      <th>200</th>\n",
       "      <td>행사종료일</td>\n",
       "      <td>55</td>\n",
       "    </tr>\n",
       "    <tr>\n",
       "      <th>...</th>\n",
       "      <td>...</td>\n",
       "      <td>...</td>\n",
       "    </tr>\n",
       "    <tr>\n",
       "      <th>115</th>\n",
       "      <td>1개월 내 3~4일 비정기적 휴무</td>\n",
       "      <td>1</td>\n",
       "    </tr>\n",
       "    <tr>\n",
       "      <th>68</th>\n",
       "      <td>-</td>\n",
       "      <td>0</td>\n",
       "    </tr>\n",
       "    <tr>\n",
       "      <th>69</th>\n",
       "      <td>-</td>\n",
       "      <td>0</td>\n",
       "    </tr>\n",
       "    <tr>\n",
       "      <th>70</th>\n",
       "      <td>-</td>\n",
       "      <td>0</td>\n",
       "    </tr>\n",
       "    <tr>\n",
       "      <th>71</th>\n",
       "      <td>-</td>\n",
       "      <td>0</td>\n",
       "    </tr>\n",
       "  </tbody>\n",
       "</table>\n",
       "<p>342 rows × 2 columns</p>\n",
       "</div>"
      ],
      "text/plain": [
       "                  label  codes\n",
       "217             화요일+수요일     57\n",
       "5           화+수+목+금+토+일     56\n",
       "101         화+수+목+금+토+일     56\n",
       "199               행사종료일     55\n",
       "200               행사종료일     55\n",
       "..                  ...    ...\n",
       "115  1개월 내 3~4일 비정기적 휴무      1\n",
       "68                    -      0\n",
       "69                    -      0\n",
       "70                    -      0\n",
       "71                    -      0\n",
       "\n",
       "[342 rows x 2 columns]"
      ]
     },
     "execution_count": 46,
     "metadata": {},
     "output_type": "execute_result"
    }
   ],
   "source": [
    "# food_df['허가구역휴무일'].value_counts()\n",
    "x = food_df['허가구역휴무일'].astype('category')\n",
    "# print(x)\n",
    "# print(x.cat.codes)\n",
    "df1 = pd.DataFrame({'label':x, 'codes':x.cat.codes})\n",
    "df1.sort_values(['codes','label'], ascending=False)"
   ]
  },
  {
   "cell_type": "code",
   "execution_count": 2,
   "id": "a5cd4d1d",
   "metadata": {},
   "outputs": [
    {
     "name": "stdout",
     "output_type": "stream",
     "text": [
      "(0, '허가구역명')\n",
      "(1, '장소유형')\n",
      "(2, '시도명')\n",
      "(3, '시군구명')\n",
      "(4, '소재지도로명주소')\n",
      "(5, '소재지지번주소')\n",
      "(6, '위도')\n",
      "(7, '경도')\n",
      "(8, '푸드트럭운영대수')\n",
      "(9, '허가구역사용료')\n",
      "(10, '허가구역운영시작일자')\n",
      "(11, '허가구역운영종료일자')\n",
      "(12, '허가구역휴무일')\n",
      "(13, '허가구역평일운영시작시각')\n",
      "(14, '허가구역평일운영종료시각')\n",
      "(15, '허가구역주말운영시작시각')\n",
      "(16, '허가구역주말운영종료시각')\n",
      "(17, '1월운영시작시각')\n",
      "(18, '1월운영종료시각')\n",
      "(19, '2월운영시작시각')\n",
      "(20, '2월운영종료시각')\n",
      "(21, '3월운영시작시각')\n",
      "(22, '3월운영종료시각')\n",
      "(23, '4월운영시작시각')\n",
      "(24, '4월운영종료시각')\n",
      "(25, '5월운영시작시각')\n",
      "(26, '5월운영종료시각')\n",
      "(27, '6월운영시작시각')\n",
      "(28, '6월운영종료시각')\n",
      "(29, '7월운영시작시각')\n",
      "(30, '7월운영종료시각')\n",
      "(31, '8월운영시작시각')\n",
      "(32, '8월운영종료시각')\n",
      "(33, '9월운영시작시각')\n",
      "(34, '9월운영종료시각')\n",
      "(35, '10월운영시작시각')\n",
      "(36, '10월운영종료시각')\n",
      "(37, '11월운영시작시각')\n",
      "(38, '11월운영종료시각')\n",
      "(39, '12월운영시작시각')\n",
      "(40, '12월운영종료시각')\n",
      "(41, '판매제한품목')\n",
      "(42, '관리기관명')\n",
      "(43, '관리기관전화번호')\n",
      "(44, '데이터기준일자')\n",
      "(45, '제공기관코드')\n",
      "(46, '제공기관명')\n"
     ]
    }
   ],
   "source": [
    "for i in enumerate(food_df.columns):\n",
    "    print(i)"
   ]
  },
  {
   "cell_type": "code",
   "execution_count": 3,
   "id": "6b7d7c72",
   "metadata": {},
   "outputs": [
    {
     "data": {
      "text/plain": [
       "경기도        80\n",
       "경상남도       48\n",
       "충청북도       41\n",
       "강원도        34\n",
       "충청남도       24\n",
       "서울특별시      17\n",
       "제주특별자치도    17\n",
       "광주광역시      14\n",
       "전라남도       13\n",
       "대구광역시      12\n",
       "경상북도       11\n",
       "부산광역시       9\n",
       "인천광역시       8\n",
       "전라북도        7\n",
       "대전광역시       6\n",
       "울산광역시       1\n",
       "Name: 시도명, dtype: int64"
      ]
     },
     "execution_count": 3,
     "metadata": {},
     "output_type": "execute_result"
    }
   ],
   "source": [
    "national_site_count = food_df.shape[0]\n",
    "food_df['시도명'].value_counts()"
   ]
  },
  {
   "cell_type": "code",
   "execution_count": 12,
   "id": "a15aa73a",
   "metadata": {},
   "outputs": [
    {
     "name": "stdout",
     "output_type": "stream",
     "text": [
      "         푸드트럭운영대수\n",
      "count  251.000000\n",
      "mean     1.768924\n",
      "std      2.952015\n",
      "min      0.000000\n",
      "25%      1.000000\n",
      "50%      1.000000\n",
      "75%      1.000000\n",
      "max     25.000000\n"
     ]
    }
   ],
   "source": [
    "# print(food_df['시도명'].describe())\n",
    "# print(food_df['푸드트럭운영대수'].describe())\n",
    "print(food_df[['시도명','푸드트럭운영대수']].describe())"
   ]
  },
  {
   "cell_type": "code",
   "execution_count": 4,
   "id": "4dd6fc29",
   "metadata": {},
   "outputs": [
    {
     "data": {
      "text/plain": [
       "444.0"
      ]
     },
     "execution_count": 4,
     "metadata": {},
     "output_type": "execute_result"
    }
   ],
   "source": [
    "food_df['푸드트럭운영대수'].sum()"
   ]
  },
  {
   "cell_type": "code",
   "execution_count": 8,
   "id": "7ed32d6c",
   "metadata": {},
   "outputs": [
    {
     "name": "stdout",
     "output_type": "stream",
     "text": [
      "<class 'pandas.core.frame.DataFrame'>\n",
      "         푸드트럭운영대수\n",
      "시도명              \n",
      "강원도          25.0\n",
      "경기도         136.0\n",
      "경상남도         57.0\n",
      "경상북도         17.0\n",
      "광주광역시        14.0\n",
      "대구광역시         4.0\n",
      "대전광역시        12.0\n",
      "부산광역시        17.0\n",
      "서울특별시        35.0\n",
      "울산광역시         1.0\n",
      "인천광역시         9.0\n",
      "전라남도         29.0\n",
      "전라북도         10.0\n",
      "제주특별자치도      41.0\n",
      "충청남도         30.0\n",
      "충청북도          7.0\n"
     ]
    }
   ],
   "source": [
    "sub_data = food_df[['시도명','푸드트럭운영대수']]\n",
    "x = sub_data.groupby('시도명').sum()\n",
    "print(type(x))\n",
    "print(x)"
   ]
  },
  {
   "cell_type": "code",
   "execution_count": 61,
   "id": "285a35fb",
   "metadata": {},
   "outputs": [],
   "source": [
    "def myfn(x):\n",
    "#     print(x, type(x))\n",
    "    return np.sum(x['푸드트럭운영대수'])*100\n",
    "\n",
    "sub_data = food_df[['시도명','푸드트럭운영대수']]\n",
    "# print(sub_data)\n",
    "g1 = sub_data.groupby('시도명')\n",
    "# g1.sum()\n",
    "# g1.count()\n",
    "# g1.std()\n",
    "# g1.describe()\n",
    "# g1.aggregate([np.sum, np.mean, np.std])\n",
    "# g1.aggregate(lambda x: np.sum(x)*100)\n",
    "# g1.apply(lambda x: np.sum(x)*100)\n",
    "# g1.aggregate(myfn)\n",
    "# g1.apply(myfn)"
   ]
  },
  {
   "cell_type": "code",
   "execution_count": 64,
   "id": "8dc20a05",
   "metadata": {},
   "outputs": [
    {
     "name": "stdout",
     "output_type": "stream",
     "text": [
      "0      1.0\n",
      "1      1.0\n",
      "2      1.0\n",
      "3      NaN\n",
      "4      NaN\n",
      "      ... \n",
      "337    1.0\n",
      "338    1.0\n",
      "339    1.0\n",
      "340    1.0\n",
      "341    1.0\n",
      "Name: 푸드트럭운영대수, Length: 342, dtype: float64\n"
     ]
    }
   ],
   "source": [
    "def myfn2(x):\n",
    "    if x==np.NaN:\n",
    "        return 0.0\n",
    "    else:\n",
    "        return x\n",
    "x = food_df['푸드트럭운영대수'].apply(myfn2)\n",
    "print(x)"
   ]
  },
  {
   "cell_type": "code",
   "execution_count": 65,
   "id": "7cd84c18",
   "metadata": {},
   "outputs": [
    {
     "data": {
      "text/plain": [
       "0      1.0\n",
       "1      1.0\n",
       "2      1.0\n",
       "3      0.0\n",
       "4      0.0\n",
       "      ... \n",
       "337    1.0\n",
       "338    1.0\n",
       "339    1.0\n",
       "340    1.0\n",
       "341    1.0\n",
       "Name: 푸드트럭운영대수, Length: 342, dtype: float64"
      ]
     },
     "execution_count": 65,
     "metadata": {},
     "output_type": "execute_result"
    }
   ],
   "source": [
    "x = food_df['푸드트럭운영대수']\n",
    "x.replace(np.NAN, 0.0)"
   ]
  }
 ],
 "metadata": {
  "kernelspec": {
   "display_name": "Python 3 (ipykernel)",
   "language": "python",
   "name": "python3"
  },
  "language_info": {
   "codemirror_mode": {
    "name": "ipython",
    "version": 3
   },
   "file_extension": ".py",
   "mimetype": "text/x-python",
   "name": "python",
   "nbconvert_exporter": "python",
   "pygments_lexer": "ipython3",
   "version": "3.10.9"
  }
 },
 "nbformat": 4,
 "nbformat_minor": 5
}
