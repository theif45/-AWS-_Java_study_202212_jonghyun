{
 "cells": [
  {
   "cell_type": "code",
   "execution_count": null,
   "id": "eeea446c",
   "metadata": {},
   "outputs": [],
   "source": [
    "# 확률분포\n",
    "\n",
    "# 동전을 한번 던져 나올수 있는 경우의 확률분포\n",
    "# (앞1/2, 뒤1/2)\n",
    "\n",
    "# 동전을 두번 던져 나올수 있는 경우의 확률분포\n",
    "#(앞,앞),(앞,뒤),(뒤,앞),(뒤,뒤)\n",
    "#  1/4    1/4    1/4     1/4\n",
    "# 앞의 값 1, 뒤의 값 0일때의 값의 합 분포\n",
    "#   2          1          0\n",
    "#  1/4        2/4        1/4"
   ]
  },
  {
   "cell_type": "code",
   "execution_count": 1,
   "id": "b054e28a",
   "metadata": {},
   "outputs": [],
   "source": [
    "import numpy as np\n",
    "import matplotlib.pyplot as plt\n",
    "import math\n",
    "\n",
    "def fact(n):\n",
    "    ret = 1\n",
    "    while n>1:\n",
    "        ret *= n\n",
    "        n -= 1\n",
    "    return ret\n",
    "\n",
    "def fact_r(n):\n",
    "    if n==2:\n",
    "        return n\n",
    "    return fact_r(n-1)*n\n",
    "\n",
    "def perm_f(n, r):\n",
    "    return fact(n)/fact(n-r)\n",
    "\n",
    "def combi_f(n, r):\n",
    "    return fact(n)/(fact(n-r)*fact(r))\n",
    "\n",
    "def count_with_replacement_order(pool, sel_count):  # all\n",
    "    if sel_count == 1:\n",
    "        return len(pool), [[x] for x in pool]\n",
    "    a, b = count_with_replacement_order(pool, sel_count-1)\n",
    "    r = []\n",
    "    for x in pool:\n",
    "        for b_i in b:\n",
    "            r.append(b_i+[x])\n",
    "    return len(r), r    \n",
    "\n",
    "def perm_pool(pool, r):\n",
    "    if r == 1:\n",
    "        return len(pool), [[x] for x in pool]\n",
    "    ret = []\n",
    "    for x in pool:\n",
    "        pool_copy = [y for y in pool]\n",
    "        pool_copy.remove(x)\n",
    "        a, b = perm_pool(pool_copy, r-1)\n",
    "        for b_i in b:\n",
    "            ret.append(b_i+[x])\n",
    "    return len(ret), ret\n",
    "\n",
    "def combi_pool(pool, r):\n",
    "    a , b = perm_pool(pool, r)\n",
    "    r = []\n",
    "    for b_i in b:\n",
    "        r.append(set(b_i))\n",
    "    f = []\n",
    "    for r_i in r:\n",
    "        if r_i not in f:\n",
    "            f.append(r_i)\n",
    "    return len(f), f"
   ]
  },
  {
   "cell_type": "code",
   "execution_count": 12,
   "id": "023c9abf",
   "metadata": {},
   "outputs": [
    {
     "name": "stdout",
     "output_type": "stream",
     "text": [
      "(4, [[1, 1], [0, 1], [1, 0], [0, 0]])\n",
      "[[1 1]\n",
      " [0 1]\n",
      " [1 0]\n",
      " [0 0]]\n",
      "[0 1 2]\n",
      "[0.25 0.5  0.25]\n"
     ]
    }
   ],
   "source": [
    "x = count_with_replacement_order([1,0],2)\n",
    "print(x)\n",
    "x_array = np.array(x[1])\n",
    "print(x_array)\n",
    "x_array1 = np.sum(x_array,axis=1)\n",
    "x_array2 = np.unique(x_array1, return_counts=True)\n",
    "print(x_array2[0])\n",
    "print(x_array2[1]/len(x_array1))"
   ]
  }
 ],
 "metadata": {
  "kernelspec": {
   "display_name": "Python 3 (ipykernel)",
   "language": "python",
   "name": "python3"
  },
  "language_info": {
   "codemirror_mode": {
    "name": "ipython",
    "version": 3
   },
   "file_extension": ".py",
   "mimetype": "text/x-python",
   "name": "python",
   "nbconvert_exporter": "python",
   "pygments_lexer": "ipython3",
   "version": "3.10.9"
  }
 },
 "nbformat": 4,
 "nbformat_minor": 5
}
