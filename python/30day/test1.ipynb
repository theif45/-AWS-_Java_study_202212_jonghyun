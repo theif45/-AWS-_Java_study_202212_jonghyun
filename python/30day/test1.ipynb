{
 "cells": [
  {
   "cell_type": "markdown",
   "id": "4147e5d1",
   "metadata": {},
   "source": [
    "함수 my_sq_prod 의 요구사항\n",
    "\n",
    "* 매개변수: python list\n",
    "\n",
    "* 반환값: 입력된 리스트의 각 element 값을 제곱한 값의 곱을 반환\n",
    "\n",
    " \n",
    "\n",
    "def my_sq_prod(number_list):\n",
    "\n",
    "   return_value = 0\n",
    "\n",
    "   for number in number_list:\n",
    "\n",
    "        return_value = return_value * number**2\n",
    "\n",
    "   return return_value\n",
    "\n",
    " \n",
    "\n",
    "assert my_sq_prod([1,2,3]) == 36\n",
    "\n",
    " \n",
    "\n",
    "* assertion error가 발생하지 않도록 수정하시오."
   ]
  },
  {
   "cell_type": "code",
   "execution_count": 5,
   "id": "7fb965d3",
   "metadata": {},
   "outputs": [
    {
     "data": {
      "text/plain": [
       "36"
      ]
     },
     "execution_count": 5,
     "metadata": {},
     "output_type": "execute_result"
    }
   ],
   "source": [
    "def my_sq_prod(python_list):\n",
    "    return_value = 0\n",
    "    for i,number in enumerate(python_list):\n",
    "        if(i==0):\n",
    "            return_value = number**2 \n",
    "        else:\n",
    "            return_value = return_value * number**2\n",
    "    return return_value\n",
    "\n",
    "assert my_sq_prod([1,2,3]) == 36"
   ]
  },
  {
   "cell_type": "markdown",
   "id": "d69cee46",
   "metadata": {},
   "source": [
    "함수 my_sq_prod 의 요구사항\n",
    "\n",
    "* 매개변수: python list\n",
    "\n",
    "* 반환값: 입력된 리스트의 각 element 값을 제곱한 값의 곱을 반환\n",
    "\n",
    "* 로직:\n",
    "\n",
    "- 매개변수로 입력된 python 리스트의 제곱 값을 변수명 return_list 의 빈 python리스트에 추가.\n",
    "\n",
    "- return_list의 각 element의 곱을 math.prod() 함수를 이용하여 반환.\n",
    "\n",
    " \n",
    "\n",
    "* 필요한 모듈은 적절히 import 할 것."
   ]
  },
  {
   "cell_type": "code",
   "execution_count": 10,
   "id": "5fa6a1b4",
   "metadata": {},
   "outputs": [],
   "source": [
    "import math\n",
    "\n",
    "def my_sq_prod(python_list):\n",
    "    return_list=[]\n",
    "    for number in python_list:\n",
    "        return_list.append(number**2)\n",
    "    return math.prod(return_list)\n",
    "\n",
    "assert my_sq_prod([1,2,3]) == 36"
   ]
  },
  {
   "cell_type": "markdown",
   "id": "20e4ce6d",
   "metadata": {},
   "source": [
    "함수 my_sq_prod3 의 요구사항\n",
    "\n",
    "* 매개변수: numpy ndarray\n",
    "\n",
    "* 반환값: 입력된 ndarray의 각 element 값을 제곱한 값의 곱을 반환\n",
    "\n",
    "* 로직: ndarray의 broadcasting 기능을 활용할것.\n",
    "\n",
    "* 필요한 모듈은 적절히 import 할것.\n",
    "\n",
    "* assert 구문을 활용하여 np.array([4,5,6])의 값이 14400 임을 확인."
   ]
  },
  {
   "cell_type": "code",
   "execution_count": 33,
   "id": "545eb033",
   "metadata": {},
   "outputs": [],
   "source": [
    "import numpy as np\n",
    "\n",
    "def my_sq_prod3(python_list):\n",
    "    return np.broadcast(python_list,python_list)\n",
    "\n",
    "assert my_sq_prod(np.array([4,5,6])) == 14400"
   ]
  },
  {
   "cell_type": "markdown",
   "id": "166bcade",
   "metadata": {},
   "source": [
    "* 제출 파일명: 성명.py\n",
    "\n",
    "* 요구사항:\n",
    "\n",
    "- python 성명.py 명령어로 스크립트를 실행하였을 때, 아래 함수가 실행되도록 하시오.\n",
    "\n",
    " \n",
    "\n",
    "def score_check():\n",
    "\n",
    "   score = 0\n",
    "\n",
    "   if my_sq_prod([1,2,3])==36:\n",
    "\n",
    "       score += 30\n",
    "\n",
    "   print(score)"
   ]
  },
  {
   "cell_type": "code",
   "execution_count": 40,
   "id": "0a603dd6",
   "metadata": {},
   "outputs": [
    {
     "name": "stdout",
     "output_type": "stream",
     "text": [
      "30\n"
     ]
    }
   ],
   "source": [
    "import math\n",
    "\n",
    "def my_sq_prod(python_list):\n",
    "    return_list=[]\n",
    "    for number in python_list:\n",
    "        return_list.append(number**2)\n",
    "    return math.prod(return_list)\n",
    "\n",
    "\n",
    "def score_check():\n",
    "    score = 0\n",
    "    if my_sq_prod([1,2,3])==36:\n",
    "        score += 30\n",
    "    print(score)\n",
    "\n",
    "if __name__ =='__main__':\n",
    "    score_check()"
   ]
  },
  {
   "cell_type": "code",
   "execution_count": 41,
   "id": "729310c1",
   "metadata": {},
   "outputs": [
    {
     "name": "stdout",
     "output_type": "stream",
     "text": [
      "30\n"
     ]
    }
   ],
   "source": [
    "!python test1.py"
   ]
  }
 ],
 "metadata": {
  "kernelspec": {
   "display_name": "Python 3 (ipykernel)",
   "language": "python",
   "name": "python3"
  },
  "language_info": {
   "codemirror_mode": {
    "name": "ipython",
    "version": 3
   },
   "file_extension": ".py",
   "mimetype": "text/x-python",
   "name": "python",
   "nbconvert_exporter": "python",
   "pygments_lexer": "ipython3",
   "version": "3.10.9"
  }
 },
 "nbformat": 4,
 "nbformat_minor": 5
}
