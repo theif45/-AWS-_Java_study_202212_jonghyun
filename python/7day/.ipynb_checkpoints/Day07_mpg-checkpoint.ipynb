{
 "cells": [
  {
   "cell_type": "markdown",
   "id": "894cbc24",
   "metadata": {},
   "source": [
    "## 자동차 연비 데이터 정제\n",
    "\n",
    "uci repo\n",
    "url: https://archive.ics.uci.edu/ml/machine-learning-databases/auto-mpg/auto-mpg.data\n",
    "\n",
    "* requests 패키지 이용 데이터 로딩.\n",
    "* 최대한 많이 정제"
   ]
  },
  {
   "cell_type": "code",
   "execution_count": null,
   "id": "aafb9c32",
   "metadata": {},
   "outputs": [],
   "source": [
    "import requests\n",
    "x = requests"
   ]
  }
 ],
 "metadata": {
  "kernelspec": {
   "display_name": "Python 3 (ipykernel)",
   "language": "python",
   "name": "python3"
  },
  "language_info": {
   "codemirror_mode": {
    "name": "ipython",
    "version": 3
   },
   "file_extension": ".py",
   "mimetype": "text/x-python",
   "name": "python",
   "nbconvert_exporter": "python",
   "pygments_lexer": "ipython3",
   "version": "3.10.9"
  }
 },
 "nbformat": 4,
 "nbformat_minor": 5
}
