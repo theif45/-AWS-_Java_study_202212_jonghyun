{
 "cells": [
  {
   "cell_type": "markdown",
   "id": "feb3d40c",
   "metadata": {},
   "source": [
    "# Heading1\n",
    "## heading2\n",
    "### heading3\n",
    "\n",
    "heading\n",
    "=====\n",
    "\n",
    "heading\n",
    "---------"
   ]
  },
  {
   "cell_type": "markdown",
   "id": "c7a59393",
   "metadata": {},
   "source": [
    "문장1 문장2 문장3\n",
    "문장4\n",
    "\n",
    "문단x"
   ]
  },
  {
   "cell_type": "markdown",
   "id": "a69694c8",
   "metadata": {},
   "source": [
    "\n",
    "1. First item\n",
    "2. Second item\n",
    "3. Third item\n",
    "4. Fourth item"
   ]
  },
  {
   "cell_type": "markdown",
   "id": "9615550b",
   "metadata": {},
   "source": [
    "$$\n",
    "    5 = 3+2\n",
    "    \\hat y = x+3\n",
    "$$    \n"
   ]
  }
 ],
 "metadata": {
  "kernelspec": {
   "display_name": "Python 3 (ipykernel)",
   "language": "python",
   "name": "python3"
  },
  "language_info": {
   "codemirror_mode": {
    "name": "ipython",
    "version": 3
   },
   "file_extension": ".py",
   "mimetype": "text/x-python",
   "name": "python",
   "nbconvert_exporter": "python",
   "pygments_lexer": "ipython3",
   "version": "3.10.9"
  }
 },
 "nbformat": 4,
 "nbformat_minor": 5
}
