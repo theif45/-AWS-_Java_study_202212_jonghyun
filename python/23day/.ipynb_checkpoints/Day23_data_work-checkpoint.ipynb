{
 "cells": [
  {
   "cell_type": "markdown",
   "id": "280fe6c9",
   "metadata": {},
   "source": [
    "### 데이터산업의 기술등급별 데이터직무 인력 현황\n",
    "\n",
    "* 데이터 직무별 axe 생성\n",
    "    - x축: 시점\n",
    "    - y축: 업종(2개)\n",
    "   \n",
    "* 하나의 figure에, 총8개 axe가 바둑판 형식으로 배치되는 형태 (4 col,2 rows)\n",
    "* title 표시"
   ]
  },
  {
   "cell_type": "code",
   "execution_count": 1,
   "id": "a3cb6309",
   "metadata": {},
   "outputs": [],
   "source": [
    "import numpy as np\n",
    "import pandas as pd\n",
    "import matplotlib.pyplot as plt\n",
    "import matplotlib\n",
    "from matplotlib import font_manager, rc\n",
    "\n",
    "current_font_list = matplotlib.rcParams['font.family']\n",
    "\n",
    "font_path = \"C:/Windows/Fonts/H2GTRE.TTF\"\n",
    "font = font_manager.FontProperties(fname=font_path).get_name()\n",
    "# rc('font', family=font)\n",
    "matplotlib.rcParams['font.family'] = [font]+current_font_list\n",
    "print(matplotlib.rcParams['font.family'])"
   ]
  },
  {
   "cell_type": "code",
   "execution_count": 2,
   "id": "42048c9a",
   "metadata": {},
   "outputs": [],
   "source": [
    "pd_data = pd.read_csv('데이터산업의_기술등급별_데이터직무_인력_현황_20230303160342.csv', encoding='cp949')\n",
    "pd_data = pd_data.drop('기술등급별(1)',axis=1)\n",
    "pd_data.columns = ['데이터직무별','시점','데이터 처리 및 관리 솔루션 개발·공급업','데이터 구축 및 컨설팅 서비스업']\n",
    "pd_data"
   ]
  },
  {
   "cell_type": "code",
   "execution_count": 3,
   "id": "7168c82f",
   "metadata": {
    "scrolled": false
   },
   "outputs": [],
   "source": [
    "fig, axe = plt.subplots(2,4, figsize=(24,10))\n",
    "fig.suptitle('데이터산업의 기술등급별 데이터직무 인력 현황')\n",
    "\n",
    "for i in range(8):\n",
    "    sub_data = pd_data.iloc[4*i:4*(i+1)]\n",
    "    x = sub_data['시점']\n",
    "    y1 = sub_data['데이터 처리 및 관리 솔루션 개발·공급업']\n",
    "    y2 = sub_data['데이터 구축 및 컨설팅 서비스업']\n",
    "    title = sub_data['데이터직무별']\n",
    "    axe[i//4,i%4].plot(x,y1, color = 'red', label='데이터 처리 및 관리 솔루션 개발·공급업', linestyle='-.',linewidth=2)\n",
    "    axe[i//4,i%4].plot(x,y2, color = 'blue',label='데이터 구축 및 컨설팅 서비스업',linestyle='-.',linewidth=2)\n",
    "    axe[i//4,i%4].set_title(title[i*4])\n",
    "    axe[i//4,i%4].set_xlabel('year',fontsize=12)\n",
    "    axe[i//4,i%4].set_ylabel('number of people',fontsize=12)\n",
    "    axe[i//4,i%4].legend()\n",
    "    axe[i//4,i%4].set_xticks(x)\n",
    "#     axe[i//4,i%4].set_xlim(left=x.min(), right=x.max())\n",
    "    axe[i//4,i%4].set_yticks(np.linspace(0,30000,6))\n",
    "    axe[i//4,i%4].tick_params(axis='both', direction='in')\n",
    "fig.savefig('데이터 직무 인력 현황.png')"
   ]
  }
 ],
 "metadata": {
  "kernelspec": {
   "display_name": "Python 3 (ipykernel)",
   "language": "python",
   "name": "python3"
  },
  "language_info": {
   "codemirror_mode": {
    "name": "ipython",
    "version": 3
   },
   "file_extension": ".py",
   "mimetype": "text/x-python",
   "name": "python",
   "nbconvert_exporter": "python",
   "pygments_lexer": "ipython3",
   "version": "3.10.9"
  }
 },
 "nbformat": 4,
 "nbformat_minor": 5
}
