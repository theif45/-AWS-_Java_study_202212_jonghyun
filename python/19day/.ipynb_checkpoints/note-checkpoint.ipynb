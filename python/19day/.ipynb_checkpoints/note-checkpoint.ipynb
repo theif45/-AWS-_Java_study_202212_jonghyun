{
 "cells": [
  {
   "cell_type": "code",
   "execution_count": 2,
   "id": "3de06676",
   "metadata": {},
   "outputs": [],
   "source": [
    "from tkinter import *\n",
    "from tkinter import filedialog\n",
    "\n",
    "class Notepad:\n",
    "\n",
    "    def __init__(self, master):\n",
    "        self.master = master\n",
    "        master.title(\"Untitled - Notepad\")\n",
    "\n",
    "        self.textarea = Text(master, undo=True)\n",
    "        self.textarea.pack(expand=True, fill=BOTH)\n",
    "\n",
    "        self.menubar = Menu(master)\n",
    "\n",
    "        self.filemenu = Menu(self.menubar, tearoff=0)\n",
    "        self.filemenu.add_command(label=\"New\", command=self.new_file)\n",
    "        self.filemenu.add_command(label=\"Open\", command=self.open_file)\n",
    "        self.filemenu.add_command(label=\"Save\", command=self.save_file)\n",
    "        self.filemenu.add_separator()\n",
    "        self.filemenu.add_command(label=\"Exit\", command=self.master.quit)\n",
    "        self.menubar.add_cascade(label=\"File\", menu=self.filemenu)\n",
    "\n",
    "        master.config(menu=self.menubar)\n",
    "\n",
    "    def new_file(self):\n",
    "        self.textarea.delete(1.0, END)\n",
    "        self.master.title(\"Untitled - Notepad\")\n",
    "\n",
    "    def open_file(self):\n",
    "        file = filedialog.askopenfile(mode=\"r\")\n",
    "        if file is not None:\n",
    "            content = file.read()\n",
    "            self.textarea.delete(1.0, END)\n",
    "            self.textarea.insert(END, content)\n",
    "            self.master.title(file.name)\n",
    "\n",
    "    def save_file(self):\n",
    "        file = filedialog.asksaveasfile(mode=\"w\", defaultextension=\".txt\")\n",
    "        if file is not None:\n",
    "            content = self.textarea.get(1.0, END)\n",
    "            file.write(content)\n",
    "            file.close()\n",
    "            self.master.title(file.name)\n",
    "\n",
    "root = Tk()\n",
    "notepad = Notepad(root)\n",
    "root.mainloop()"
   ]
  }
 ],
 "metadata": {
  "kernelspec": {
   "display_name": "Python 3 (ipykernel)",
   "language": "python",
   "name": "python3"
  },
  "language_info": {
   "codemirror_mode": {
    "name": "ipython",
    "version": 3
   },
   "file_extension": ".py",
   "mimetype": "text/x-python",
   "name": "python",
   "nbconvert_exporter": "python",
   "pygments_lexer": "ipython3",
   "version": "3.10.9"
  }
 },
 "nbformat": 4,
 "nbformat_minor": 5
}
