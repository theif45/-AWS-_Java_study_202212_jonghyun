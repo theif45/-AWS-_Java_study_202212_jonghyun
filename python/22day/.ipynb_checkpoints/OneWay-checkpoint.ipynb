{
 "cells": [
  {
   "cell_type": "code",
   "execution_count": 1,
   "id": "f29d2fcd",
   "metadata": {},
   "outputs": [],
   "source": [
    "import numpy as np\n",
    "import pandas as pd\n",
    "import matplotlib.pyplot as plt\n",
    "\n",
    "pd_raw = pd.read_csv('전국일방통행도로표준데이터.csv', encoding='cp949')\n",
    "\n",
    "#print(pd_raw[pd_raw['시도명']=='10'])\n",
    "\n",
    "col_select = ['시도명', '지정사유', '지정연도', '도로폭', '도로차로수', '보차분리여부']\n",
    "pd_data = pd_raw[col_select]"
   ]
  },
  {
   "cell_type": "code",
   "execution_count": 2,
   "id": "0554a23d",
   "metadata": {},
   "outputs": [
    {
     "name": "stdout",
     "output_type": "stream",
     "text": [
      "(2159, 6)\n",
      "시도명        object\n",
      "지정사유       object\n",
      "지정연도      float64\n",
      "도로폭       float64\n",
      "도로차로수     float64\n",
      "보차분리여부     object\n",
      "dtype: object\n"
     ]
    }
   ],
   "source": [
    "def df_check(df):\n",
    "    print(df.shape)\n",
    "    print(df.dtypes)\n",
    "    return df.shape[0]\n",
    "\n",
    "total_count = df_check(pd_data)"
   ]
  },
  {
   "cell_type": "code",
   "execution_count": 3,
   "id": "278cbc1a",
   "metadata": {},
   "outputs": [
    {
     "name": "stdout",
     "output_type": "stream",
     "text": [
      "['경기도' '경상북도' '제주특별자치도' '인천광역시' '강원도' '경상남도' '서울특별시' '충청남도' '전라남도' '전라북도'\n",
      " '광주광역시' '충청북도' '10']\n",
      "False\n"
     ]
    }
   ],
   "source": [
    "# 시도명\n",
    "print(pd_data['시도명'].unique())\n",
    "print(pd_data['시도명'].hasnans)\n",
    "\n",
    "# 결측치: 없음\n",
    "\n",
    "# 오류치 10-->'강원도'\n",
    "#print(pd_data[pd_data['시도명']=='10'])\n",
    "#pd_data.loc[:, '시도명'] = pd_data.loc[:, '시도명'].replace('10', '강원도')\n",
    "filter1 = pd_data['시도명']=='10'\n",
    "pd_data.loc[filter1, '시도명'] = '강원도'\n",
    "\n",
    "# 이상치: 없음"
   ]
  },
  {
   "cell_type": "code",
   "execution_count": 4,
   "id": "5d74e83f",
   "metadata": {},
   "outputs": [
    {
     "name": "stdout",
     "output_type": "stream",
     "text": [
      "[nan '통행원활' '교통불편 해소' '원활한 차량통행을 위하여 지정' '보행안전' '통행안전' '원활한교통통행'\n",
      " '차량소통 촉진 및 보행자 안전' '보행자안전확보' '주민건의' '교행불가' '교통소통' '원활한 교통흐름 및 보행 안전'\n",
      " '주차혼잡구간' '본도로 진입불가' '시장혼잡구간' '주택밀집지역' '고가도로' '교통사고 다발' '원통전통시장주차장 출입구'\n",
      " '교통안전' '교통흐름을 원활히 하기 위함' '부채도로' '주민편의' '순환차로' '교통혼잡 및 소통 원활 필요' '도로협소'\n",
      " '혼잡지역' '혼자지역' '혼잡구역' '혼잡비역' '차량교행']\n",
      "True\n",
      "True     1567\n",
      "False     592\n",
      "Name: 지정사유, dtype: int64\n",
      "['사유불분명' '원활' '불편' '안전' '주민건의' '교행불가' '교통소통' '혼잡' '본도로 진입불가' '주택밀집지역'\n",
      " '고가도로' '교통사고 다발' '원통전통시장주차장 출입구' '부채도로' '주민편의' '순환차로' '도로협소' '혼자지역'\n",
      " '차량교행']\n",
      "False\n"
     ]
    },
    {
     "name": "stderr",
     "output_type": "stream",
     "text": [
      "C:\\Users\\ITPS\\AppData\\Local\\Temp\\ipykernel_11116\\2379182194.py:23: SettingWithCopyWarning: \n",
      "A value is trying to be set on a copy of a slice from a DataFrame.\n",
      "Try using .loc[row_indexer,col_indexer] = value instead\n",
      "\n",
      "See the caveats in the documentation: https://pandas.pydata.org/pandas-docs/stable/user_guide/indexing.html#returning-a-view-versus-a-copy\n",
      "  pd_data.loc[:, '지정사유'] = pd_data.loc[:, '지정사유'].apply(e1)\n"
     ]
    }
   ],
   "source": [
    "# 지정사유\n",
    "print(pd_data['지정사유'].unique())\n",
    "print(pd_data['지정사유'].hasnans)\n",
    "\n",
    "# 결측치: '사유불분명' 으로 기재.\n",
    "na_filter = pd_data['지정사유'].isna()\n",
    "print(na_filter.value_counts())\n",
    "pd_data.loc[na_filter, '지정사유'] = '사유불분명'\n",
    "\n",
    "# 오류치: '원활' 이 들어간 사유는 '통행원활'로 정정\n",
    "def e1(x):\n",
    "    if '원활' in x:\n",
    "        return '원활'\n",
    "    elif '불편' in x:\n",
    "        return '불편'\n",
    "    elif '안전' in x:\n",
    "        return '안전'\n",
    "    elif '혼잡' in x:\n",
    "        return '혼잡'\n",
    "    else:\n",
    "        return x\n",
    "    \n",
    "pd_data.loc[:, '지정사유'] = pd_data.loc[:, '지정사유'].apply(e1)\n",
    "\n",
    "print(pd_data['지정사유'].unique())\n",
    "print(pd_data['지정사유'].hasnans)\n",
    "\n",
    "# 이상치: 없음"
   ]
  },
  {
   "cell_type": "code",
   "execution_count": 5,
   "id": "2d046502",
   "metadata": {},
   "outputs": [
    {
     "name": "stdout",
     "output_type": "stream",
     "text": [
      "[  nan 2017. 2018. 2014. 2005. 2019. 2022. 2016. 2012. 1999. 2021. 2015.\n",
      " 2013. 2004. 2002. 2008. 2009. 2010. 2011. 1998. 2001. 2003. 2006. 2000.\n",
      " 1995. 2020. 2007. 1990. 1997. 1996.]\n",
      "True\n",
      "True     1609\n",
      "False     550\n",
      "Name: 지정연도, dtype: int64\n",
      "[   0. 2017. 2018. 2014. 2005. 2019. 2022. 2016. 2012. 1999. 2021. 2015.\n",
      " 2013. 2004. 2002. 2008. 2009. 2010. 2011. 1998. 2001. 2003. 2006. 2000.\n",
      " 1995. 2020. 2007. 1990. 1997. 1996.]\n",
      "False\n"
     ]
    }
   ],
   "source": [
    "#지정연도\n",
    "print(pd_data['지정연도'].unique())\n",
    "print(pd_data['지정연도'].hasnans)\n",
    "\n",
    "#결측치\n",
    "na_filter = pd_data['지정연도'].isna()\n",
    "print(na_filter.value_counts())\n",
    "#print(pd_raw.loc[na_filter, :])\n",
    "#filter1 = pd_data['지정연도']==2017\n",
    "#print(pd_raw.loc[filter1,:])\n",
    "pd_data.loc[na_filter, '지정연도'] = 0.0\n",
    "\n",
    "print(pd_data['지정연도'].unique())\n",
    "print(pd_data['지정연도'].hasnans)"
   ]
  },
  {
   "cell_type": "code",
   "execution_count": 6,
   "id": "44ce2063",
   "metadata": {},
   "outputs": [
    {
     "name": "stdout",
     "output_type": "stream",
     "text": [
      "[ 5.   9.   4.   6.   7.5  8.   7.  12.  15.  16.   3.5  5.5  3.  10.\n",
      " 14.   4.5  6.5 15.5  2.5  7.1  9.8  9.7  6.3  3.7  8.5  8.2 14.6  2.\n",
      "  4.9  4.6  2.8  4.8  5.6  8.1  6.4  4.1  6.6  5.7  4.7  4.3  3.8  9.1\n",
      "  7.4  5.3  5.8  4.2 17.  13.5 24.  11.   9.5 22.  19.   3.2  4.4  5.1\n",
      "  5.9  3.9 32.   5.4  3.4 18.   7.3  3.3 13.   7.6  8.4  5.2  7.8  6.2\n",
      "  6.7  8.8  7.7  8.3  6.1  6.9  6.8]\n",
      "False\n",
      "count    2159.000000\n",
      "mean        5.917508\n",
      "std         2.297448\n",
      "min         2.000000\n",
      "25%         4.000000\n",
      "50%         6.000000\n",
      "75%         7.000000\n",
      "max        32.000000\n",
      "Name: 도로폭, dtype: float64\n",
      "3.0 11.5 -0.5\n",
      "False    2104\n",
      "True       55\n",
      "Name: 도로폭, dtype: int64\n",
      "[ 5.   9.   4.   6.   7.5  8.   7.   nan  3.5  5.5  3.  10.   4.5  6.5\n",
      "  2.5  7.1  9.8  9.7  6.3  3.7  8.5  8.2  2.   4.9  4.6  2.8  4.8  5.6\n",
      "  8.1  6.4  4.1  6.6  5.7  4.7  4.3  3.8  9.1  7.4  5.3  5.8  4.2 11.\n",
      "  9.5  3.2  4.4  5.1  5.9  3.9  5.4  3.4  7.3  3.3  7.6  8.4  5.2  7.8\n",
      "  6.2  6.7  8.8  7.7  8.3  6.1  6.9  6.8]\n",
      "True\n"
     ]
    }
   ],
   "source": [
    "#도로폭\n",
    "print(pd_data['도로폭'].unique())\n",
    "print(pd_data['도로폭'].hasnans)\n",
    "\n",
    "# 결측치: 없음\n",
    "\n",
    "# 오류치: 없음\n",
    "\n",
    "# 이상치: np.NaN 값으로 대체 후, dropna()사용해 제거\n",
    "print(pd_data['도로폭'].describe())\n",
    "q1, q3 = pd_data['도로폭'].quantile([.25, .75])\n",
    "iqr = q3 - q1\n",
    "upper = q3 + 1.5*iqr\n",
    "lower = q1 - 1.5*iqr\n",
    "print(iqr, upper, lower)\n",
    "filter1 = pd_data['도로폭']>upper\n",
    "print(filter1.value_counts())\n",
    "pd_data.loc[filter1, '도로폭']=np.NaN\n",
    "\n",
    "\n",
    "print(pd_data['도로폭'].unique())\n",
    "print(pd_data['도로폭'].hasnans)"
   ]
  },
  {
   "cell_type": "code",
   "execution_count": 7,
   "id": "c3fc8125",
   "metadata": {},
   "outputs": [
    {
     "name": "stdout",
     "output_type": "stream",
     "text": [
      "[ 1.  2.  4.  3.  5. nan 60.]\n",
      "True\n",
      "False    2158\n",
      "True        1\n",
      "Name: 도로차로수, dtype: int64\n",
      "[ 1.  2.  4.  3.  5. nan]\n",
      "True\n"
     ]
    }
   ],
   "source": [
    "# 도로차로수\n",
    "print(pd_data['도로차로수'].unique())\n",
    "print(pd_data['도로차로수'].hasnans)\n",
    "\n",
    "# 결측치: dropna() 이용 샘플 삭제\n",
    "na_filter = pd_data['도로차로수'].isna()\n",
    "print(na_filter.value_counts())\n",
    "\n",
    "# 오류치: np.NaN으로 대체, dropna() 이용 샘플 삭제\n",
    "pd_data['도로차로수'].value_counts()\n",
    "filter1 = pd_data.loc[:, '도로차로수']==60\n",
    "pd_data.loc[filter1, '도로차로수'] = np.NaN\n",
    "\n",
    "print(pd_data['도로차로수'].unique())\n",
    "print(pd_data['도로차로수'].hasnans)"
   ]
  },
  {
   "cell_type": "code",
   "execution_count": 8,
   "id": "29df615e",
   "metadata": {},
   "outputs": [
    {
     "name": "stdout",
     "output_type": "stream",
     "text": [
      "['Y' 'N' ' ']\n",
      "False\n",
      "False    2158\n",
      "True        1\n",
      "Name: 보차분리여부, dtype: int64\n",
      "N    1657\n",
      "Y     501\n",
      "        1\n",
      "Name: 보차분리여부, dtype: int64\n",
      "     시도명 시군구명       도로명           지정사유    지정연도   도로폭   도로연장  도로차로수 보차분리여부  \\\n",
      "960  강원도  인제군  원통로184번길  원통전통시장주차장 출입구  2022.0  32.0  117.0    NaN          \n",
      "\n",
      "     시작점위도  시작점경도  종료점위도  종료점경도 도로안내표지일련번호           관리기관명      관리기관전화번호  \\\n",
      "960    NaN    NaN    NaN    NaN        NaN  강원도 인제군청 안전교통과  033-460-2164   \n",
      "\n",
      "        데이터기준일자   제공기관코드    제공기관명  \n",
      "960  2022-06-07  4330000  강원도 인제군  \n"
     ]
    }
   ],
   "source": [
    "# 보차 분리여부\n",
    "print(pd_data['보차분리여부'].unique())\n",
    "print(pd_data['보차분리여부'].hasnans)\n",
    "\n",
    "# 결측치: ' ' 값 np.NaN으로 변경, 차후 dropna()이용해 삭제\n",
    "empty_filter = pd_data.loc[:, '보차분리여부']== ' '\n",
    "print(empty_filter.value_counts())\n",
    "print(pd_data['보차분리여부'].value_counts())\n",
    "\n",
    "print(pd_raw[empty_filter])\n",
    "pd_data.loc[empty_filter, '보차분리여부']=np.NaN"
   ]
  },
  {
   "cell_type": "code",
   "execution_count": 9,
   "id": "246c3ca0",
   "metadata": {},
   "outputs": [
    {
     "name": "stdout",
     "output_type": "stream",
     "text": [
      "(2103, 6)\n",
      "시도명        object\n",
      "지정사유       object\n",
      "지정연도      float64\n",
      "도로폭       float64\n",
      "도로차로수     float64\n",
      "보차분리여부     object\n",
      "dtype: object\n"
     ]
    },
    {
     "data": {
      "text/plain": [
       "2103"
      ]
     },
     "execution_count": 9,
     "metadata": {},
     "output_type": "execute_result"
    }
   ],
   "source": [
    "pd_data = pd_data.dropna()\n",
    "df_check(pd_data)"
   ]
  },
  {
   "cell_type": "code",
   "execution_count": 10,
   "id": "ebb35328",
   "metadata": {},
   "outputs": [
    {
     "ename": "NameError",
     "evalue": "name 'pickle' is not defined",
     "output_type": "error",
     "traceback": [
      "\u001b[1;31m---------------------------------------------------------------------------\u001b[0m",
      "\u001b[1;31mNameError\u001b[0m                                 Traceback (most recent call last)",
      "Cell \u001b[1;32mIn[10], line 6\u001b[0m\n\u001b[0;32m      4\u001b[0m \u001b[38;5;66;03m#pickle\u001b[39;00m\n\u001b[0;32m      5\u001b[0m \u001b[38;5;28;01mwith\u001b[39;00m \u001b[38;5;28mopen\u001b[39m(\u001b[38;5;124m'\u001b[39m\u001b[38;5;124m전국일방통행도로표준데이터_pass1.pickle\u001b[39m\u001b[38;5;124m'\u001b[39m, \u001b[38;5;124m'\u001b[39m\u001b[38;5;124mwb\u001b[39m\u001b[38;5;124m'\u001b[39m) \u001b[38;5;28;01mas\u001b[39;00m f:\n\u001b[1;32m----> 6\u001b[0m     \u001b[43mpickle\u001b[49m\u001b[38;5;241m.\u001b[39mdump(pd_data, f)\n",
      "\u001b[1;31mNameError\u001b[0m: name 'pickle' is not defined"
     ]
    }
   ],
   "source": [
    "# csv\n",
    "pd_data.to_csv('전국일방통행도로표준데이터_pass1.csv')\n",
    "\n",
    "#pickle\n",
    "with open('전국일방통행도로표준데이터_pass1.pickle', 'wb') as f:\n",
    "    pickle.dump(pd_data, f)\n",
    "    "
   ]
  },
  {
   "cell_type": "code",
   "execution_count": null,
   "id": "3af70194",
   "metadata": {},
   "outputs": [],
   "source": []
  },
  {
   "cell_type": "code",
   "execution_count": null,
   "id": "61c70211",
   "metadata": {},
   "outputs": [],
   "source": [
    "df = pd.DataFrame([[4, 9]] * 3, columns=['A', 'B'])\n",
    "\n",
    "print(df.apply(np.sqrt))\n",
    "print(df)"
   ]
  }
 ],
 "metadata": {
  "kernelspec": {
   "display_name": "Python 3 (ipykernel)",
   "language": "python",
   "name": "python3"
  },
  "language_info": {
   "codemirror_mode": {
    "name": "ipython",
    "version": 3
   },
   "file_extension": ".py",
   "mimetype": "text/x-python",
   "name": "python",
   "nbconvert_exporter": "python",
   "pygments_lexer": "ipython3",
   "version": "3.10.9"
  },
  "vscode": {
   "interpreter": {
    "hash": "08804ff59ba42edf801cabf0150036e830ede650fb4c74b1d2ab081b0e1a309a"
   }
  }
 },
 "nbformat": 4,
 "nbformat_minor": 5
}
