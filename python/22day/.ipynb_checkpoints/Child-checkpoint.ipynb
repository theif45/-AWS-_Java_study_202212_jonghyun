{
 "cells": [
  {
   "cell_type": "code",
   "execution_count": 1,
   "id": "e793766c",
   "metadata": {},
   "outputs": [],
   "source": [
    "import numpy as np\n",
    "import pandas as pd\n",
    "import matplotlib.pyplot as plt\n",
    "\n",
    "pd_rawdata = pd.read_csv('전국어린이보호구역표준데이터.csv', encoding='cp949')\n",
    "\n",
    "#print(pd_rawdata.columns)\n",
    "\n",
    "column_selection = ['시설종류', '관할경찰서명', 'CCTV설치여부','CCTV설치대수','제공기관명', '보호구역도로폭']\n",
    "pd_data = pd_rawdata[column_selection]\n",
    "del pd_rawdata\n",
    "#print(pd_rawdata[:3])"
   ]
  },
  {
   "cell_type": "code",
   "execution_count": 2,
   "id": "f496c711",
   "metadata": {},
   "outputs": [
    {
     "name": "stdout",
     "output_type": "stream",
     "text": [
      "Index(['시설종류', '관할경찰서명', 'CCTV설치여부', 'CCTV설치대수', '제공기관명', '보호구역도로폭'], dtype='object')\n",
      "시설종류         object\n",
      "관할경찰서명       object\n",
      "CCTV설치여부     object\n",
      "CCTV설치대수    float64\n",
      "제공기관명        object\n",
      "보호구역도로폭      object\n",
      "dtype: object\n",
      "6          1600\n",
      "8          1334\n",
      "7           855\n",
      "10          558\n",
      "12          543\n",
      "           ... \n",
      "30~35         1\n",
      "12~50         1\n",
      "5.0~5.5       1\n",
      "6~45          1\n",
      "18~23         1\n",
      "Name: 보호구역도로폭, Length: 528, dtype: int64\n",
      "False    10684\n",
      "True      4372\n",
      "Name: 보호구역도로폭, dtype: int64\n"
     ]
    }
   ],
   "source": [
    "print(pd_data.columns)\n",
    "print(pd_data.dtypes)\n",
    "\n",
    "print(pd_data['보호구역도로폭'].value_counts())\n",
    "print(pd_data['보호구역도로폭'].isna().value_counts())\n",
    "\n",
    "pd_data['시설종류'] = pd_data['시설종류'].astype('category')\n",
    "pd_data['CCTV설치여부'] = pd_data['CCTV설치여부'].astype('category')\n",
    "#print(pd_data.dtypes)"
   ]
  },
  {
   "cell_type": "code",
   "execution_count": 3,
   "id": "38c034dd",
   "metadata": {},
   "outputs": [
    {
     "name": "stdout",
     "output_type": "stream",
     "text": [
      "시설종류 False\n",
      "관할경찰서명 False\n",
      "CCTV설치여부 False\n",
      "CCTV설치대수 True\n",
      "False    11682\n",
      "True      3374\n",
      "Name: CCTV설치대수, dtype: int64\n",
      "제공기관명 False\n",
      "보호구역도로폭 True\n",
      "False    10684\n",
      "True      4372\n",
      "Name: 보호구역도로폭, dtype: int64\n"
     ]
    }
   ],
   "source": [
    "# 결측치 확인\n",
    "\n",
    "#print(pd_data.shape)\n",
    "#print(pd_data.describe(include='all'))\n",
    "\n",
    "for e in pd_data:\n",
    "    print(e, pd_data[e].hasnans)\n",
    "    if pd_data[e].hasnans==True:\n",
    "        print(pd_data[e].isna().value_counts())"
   ]
  },
  {
   "cell_type": "code",
   "execution_count": 4,
   "id": "55a1bab3",
   "metadata": {},
   "outputs": [
    {
     "name": "stdout",
     "output_type": "stream",
     "text": [
      "False    11682\n",
      "True      3374\n",
      "Name: CCTV설치대수, dtype: int64\n",
      "False    15056\n",
      "Name: CCTV설치대수, dtype: int64\n"
     ]
    }
   ],
   "source": [
    "# CCTV 설치대수: 결측치 처리\n",
    "# CCTV 설치여부 Y --> 1\n",
    "# CCTV 설치여부 N --> 0\n",
    "print(pd_data['CCTV설치대수'].isna().value_counts())\n",
    "filter_y = pd_data['CCTV설치여부'] == 'Y'\n",
    "filter_n = pd_data['CCTV설치여부'] == 'N'\n",
    "pd_data.loc[filter_y, 'CCTV설치대수'] = pd_data.loc[filter_y, 'CCTV설치대수'].replace(np.NaN, 1)\n",
    "pd_data.loc[filter_n, 'CCTV설치대수'] = pd_data.loc[filter_n, 'CCTV설치대수'].replace(np.NaN, 0)\n",
    "\n",
    "#pd_data.replace({'CCTV설치여부':'Y', 'CCTV설치대수':np.NaN}, {'CCTV설치여부':'Y', 'CCTV설치대수':1}, inplace=True)\n",
    "#pd_data.replace({'CCTV설치여부':'N', 'CCTV설치대수':np.NaN}, {'CCTV설치여부':'N', 'CCTV설치대수':0}, inplace=True)\n",
    "\n",
    "# 잘못된 코드.\n",
    "#pd_data.replace({'CCTV설치여부':'N', 'CCTV설치대수':np.NaN}, 0, inplace=True)\n",
    "#pd_data.replace({'CCTV설치여부':'Y', 'CCTV설치대수':np.NaN}, 1, inplace=True)\n",
    "\n",
    "print(pd_data['CCTV설치대수'].isna().value_counts())"
   ]
  },
  {
   "cell_type": "code",
   "execution_count": 5,
   "id": "20a09f2e",
   "metadata": {},
   "outputs": [
    {
     "data": {
      "text/plain": [
       "Y    11687\n",
       "N     3369\n",
       "Name: CCTV설치여부, dtype: int64"
      ]
     },
     "execution_count": 5,
     "metadata": {},
     "output_type": "execute_result"
    }
   ],
   "source": [
    "pd_data['CCTV설치여부'].value_counts()"
   ]
  },
  {
   "cell_type": "code",
   "execution_count": 6,
   "id": "9991cbca",
   "metadata": {},
   "outputs": [
    {
     "name": "stdout",
     "output_type": "stream",
     "text": [
      "False    10684\n",
      "True      4372\n",
      "Name: 보호구역도로폭, dtype: int64\n",
      "False    15056\n",
      "Name: 보호구역도로폭, dtype: int64\n"
     ]
    }
   ],
   "source": [
    "def myfn1(x):\n",
    "    if type(x) == type(' '):\n",
    "        if '~' in x:\n",
    "            m = np.array(x.split('~')).astype(np.float64).mean()\n",
    "            return str(m)\n",
    "\n",
    "# 도로폭: 오류치 처리\n",
    "# '숫자a~숫자b' 형태의 문자열 --> '숫자a'와 '숫자b'의 평균치(np.float64) 값으로 대체\n",
    "#print(pd_data['보호구역도로폭'].value_counts())\n",
    "y = pd_data['보호구역도로폭'].apply(myfn1)\n",
    "#print(pd_data['보호구역도로폭'].value_counts())\n",
    "#print(y.dtype)\n",
    "#print(y.value_counts())\n",
    "\n",
    "\n",
    "# 도로폭: 결측치 처리\n",
    "# 전체 도로폭 평균치로 대체.\n",
    "print(pd_data['보호구역도로폭'].isna().value_counts())\n",
    "y = y.astype(np.float64)\n",
    "y = y.replace(np.NaN, y.mean())\n",
    "print(y.isna().value_counts())\n",
    "pd_data['보호구역도로폭'] = y"
   ]
  },
  {
   "cell_type": "code",
   "execution_count": 7,
   "id": "525f6fea",
   "metadata": {},
   "outputs": [
    {
     "name": "stdout",
     "output_type": "stream",
     "text": [
      "시설종류 False\n",
      "관할경찰서명 False\n",
      "CCTV설치여부 False\n",
      "CCTV설치대수 False\n",
      "제공기관명 False\n",
      "보호구역도로폭 False\n"
     ]
    }
   ],
   "source": [
    "for e in pd_data:\n",
    "    print(e, pd_data[e].hasnans)\n",
    "    if pd_data[e].hasnans==True:\n",
    "        print(pd_data[e].isna().value_counts())"
   ]
  },
  {
   "cell_type": "code",
   "execution_count": 8,
   "id": "a65a57c6",
   "metadata": {},
   "outputs": [],
   "source": [
    "pd_data['제공기관명'].unique()\n",
    "pd_data['지자체명'] = pd_data['제공기관명'].apply(lambda x: x.split()[0])\n",
    "# apply, map, applymap, aggregate, agg"
   ]
  },
  {
   "cell_type": "code",
   "execution_count": 9,
   "id": "fa4999ef",
   "metadata": {},
   "outputs": [
    {
     "name": "stdout",
     "output_type": "stream",
     "text": [
      "17\n"
     ]
    }
   ],
   "source": [
    "x = pd_data['지자체명'].unique()\n",
    "print(len(x))"
   ]
  },
  {
   "cell_type": "code",
   "execution_count": 10,
   "id": "93e769fe",
   "metadata": {},
   "outputs": [],
   "source": [
    "pd_data.to_csv('전국어린이보호구역표준데이터_pass1.csv')"
   ]
  }
 ],
 "metadata": {
  "kernelspec": {
   "display_name": "Python 3 (ipykernel)",
   "language": "python",
   "name": "python3"
  },
  "language_info": {
   "codemirror_mode": {
    "name": "ipython",
    "version": 3
   },
   "file_extension": ".py",
   "mimetype": "text/x-python",
   "name": "python",
   "nbconvert_exporter": "python",
   "pygments_lexer": "ipython3",
   "version": "3.10.9"
  },
  "vscode": {
   "interpreter": {
    "hash": "08804ff59ba42edf801cabf0150036e830ede650fb4c74b1d2ab081b0e1a309a"
   }
  }
 },
 "nbformat": 4,
 "nbformat_minor": 5
}
