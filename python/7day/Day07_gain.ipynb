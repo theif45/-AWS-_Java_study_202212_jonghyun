{
 "cells": [
  {
   "cell_type": "code",
   "execution_count": 1,
   "id": "b677d93f",
   "metadata": {},
   "outputs": [],
   "source": [
    "import math\n",
    "# 평균\n",
    "def mean(num_list):\n",
    "    return sum(num_list)/len(num_list)\n",
    "# 중간값\n",
    "def median(num_list):\n",
    "    num_list.sort()\n",
    "    if len(num_list)%2==1:\n",
    "        #//는 몫만 가지고 옴\n",
    "        i = (len(num_list))//2\n",
    "        return num_list[i]\n",
    "    else:\n",
    "        i = len(num_list)//2\n",
    "        return (num_list[i] + num_list[i-1])/2\n",
    "# 편차\n",
    "def dev(num_list):\n",
    "    m = mean(num_list)\n",
    "    return [x-m for x in num_list]\n",
    "# 분산\n",
    "def var(num_list):\n",
    "    n = len(num_list)\n",
    "    d = dev(num_list)\n",
    "    return sum([x*x for x in d])/(n-1)\n",
    "# 표준편차\n",
    "def stdev(num_list):\n",
    "    return math.sqrt(var(num_list))\n",
    "# 공분산\n",
    "def covar(list_1, list_2):\n",
    "    n = len(list_1)\n",
    "    list_1_dev = dev(list_1)\n",
    "    list_2_dev = dev(list_2)\n",
    "    return sum(x*y for x, y in zip (list_1_dev,list_2_dev))/(n-1)\n",
    "#상관도(-1 ~ 1)\n",
    "def corel(list_1,list_2):\n",
    "    return covar(list_1, list_2)/(stdev(list_1)*stdev(list_2))"
   ]
  },
  {
   "cell_type": "code",
   "execution_count": 13,
   "id": "c0b920b2",
   "metadata": {},
   "outputs": [
    {
     "name": "stderr",
     "output_type": "stream",
     "text": [
      "IOPub data rate exceeded.\n",
      "The notebook server will temporarily stop sending output\n",
      "to the client in order to avoid crashing it.\n",
      "To change this limit, set the config variable\n",
      "`--NotebookApp.iopub_data_rate_limit`.\n",
      "\n",
      "Current values:\n",
      "NotebookApp.iopub_data_rate_limit=1000000.0 (bytes/sec)\n",
      "NotebookApp.rate_limit_window=3.0 (secs)\n",
      "\n"
     ]
    }
   ],
   "source": [
    "import requests\n",
    "x = requests.get('https://archive.ics.uci.edu/ml/machine-learning-databases/adult/adult.data')"
   ]
  },
  {
   "cell_type": "code",
   "execution_count": 37,
   "id": "dadb2c16",
   "metadata": {},
   "outputs": [],
   "source": [
    "pass1 = x.text.split('\\n')\n",
    "# print(pass1[0].split(',')[0]) # age\n",
    "# print(pass1[0].split(',')[10]) # cap_gain\n",
    "# print(pass1[0].split(',')[12]) # hours_per_week\n",
    "age_list = []\n",
    "cap_gain_list = []\n",
    "hours_per_week_list = []\n",
    "for e in pass1:\n",
    "    try:\n",
    "        t = e.split(',')\n",
    "        if len(t)<5:\n",
    "            continue\n",
    "        age_list.append(t[0])\n",
    "        cap_gain_list.append(t[10])\n",
    "        hours_per_week_list.append(t[12])\n",
    "    except:\n",
    "        pass"
   ]
  },
  {
   "cell_type": "code",
   "execution_count": 39,
   "id": "f80b51dd",
   "metadata": {},
   "outputs": [
    {
     "name": "stdout",
     "output_type": "stream",
     "text": [
      "32561\n",
      "32561\n",
      "32561\n"
     ]
    }
   ],
   "source": [
    "print(len(age_list))\n",
    "print(len(cap_gain_list))\n",
    "print(len(hours_per_week_list))\n",
    "age_list = [int(i) for i in age_list]\n",
    "cap_gain_list = [int(i) for i in cap_gain_list]\n",
    "hours_per_week_list = [int(i) for i in hours_per_week_list]"
   ]
  },
  {
   "cell_type": "code",
   "execution_count": 44,
   "id": "60df61a8",
   "metadata": {},
   "outputs": [
    {
     "name": "stdout",
     "output_type": "stream",
     "text": [
      "0.07767 0.07841 0.06876\n"
     ]
    }
   ],
   "source": [
    "print(round(corel(age_list,cap_gain_list),5),round(corel(cap_gain_list,hours_per_week_list),5),round(corel(age_list,hours_per_week_list),5))"
   ]
  }
 ],
 "metadata": {
  "kernelspec": {
   "display_name": "Python 3 (ipykernel)",
   "language": "python",
   "name": "python3"
  },
  "language_info": {
   "codemirror_mode": {
    "name": "ipython",
    "version": 3
   },
   "file_extension": ".py",
   "mimetype": "text/x-python",
   "name": "python",
   "nbconvert_exporter": "python",
   "pygments_lexer": "ipython3",
   "version": "3.10.9"
  }
 },
 "nbformat": 4,
 "nbformat_minor": 5
}
