{
 "cells": [
  {
   "cell_type": "code",
   "execution_count": 6,
   "id": "2ccb71f9",
   "metadata": {},
   "outputs": [],
   "source": [
    "import numpy as np"
   ]
  },
  {
   "cell_type": "code",
   "execution_count": 11,
   "id": "5f9007da",
   "metadata": {},
   "outputs": [
    {
     "name": "stdout",
     "output_type": "stream",
     "text": [
      "[1, 2, 3, 4, 5]\n",
      "[1 2 3 4 5]\n",
      "<class 'numpy.ndarray'>\n"
     ]
    }
   ],
   "source": [
    "a1 = np.array([1,2,3,4,5])\n",
    "print([1,2,3,4,5])\n",
    "print(a1)\n",
    "print(type(a1))"
   ]
  },
  {
   "cell_type": "code",
   "execution_count": 29,
   "id": "4d69424c",
   "metadata": {},
   "outputs": [
    {
     "name": "stdout",
     "output_type": "stream",
     "text": [
      "[0 1 2 3 4 5 6 7 8 9]\n",
      "[ 3  6  9 12 15 18 21 24 27 30 33 36 39 42 45 48 51 54 57 60 63 66 69 72\n",
      " 75 78 81 84 87 90 93 96 99]\n",
      "[1.3 1.8 2.3 2.8 3.3 3.8 4.3 4.8 5.3 5.8 6.3 6.8 7.3 7.8 8.3 8.8 9.3 9.8]\n"
     ]
    }
   ],
   "source": [
    "a2 = np.arange(10)\n",
    "print(a2)\n",
    "\n",
    "a3 = np.arange(3,100,3)\n",
    "print(a3)\n",
    "\n",
    "# 1에서부터 10아래 0.5씩 증가하는 숫자, step=0.5\n",
    "a4 = np.arange(1.3,10,0.5)\n",
    "print(a4)"
   ]
  },
  {
   "cell_type": "code",
   "execution_count": 48,
   "id": "6c190fbb",
   "metadata": {},
   "outputs": [
    {
     "name": "stdout",
     "output_type": "stream",
     "text": [
      "[ 0.          0.71428571  1.42857143  2.14285714  2.85714286  3.57142857\n",
      "  4.28571429  5.          5.71428571  6.42857143  7.14285714  7.85714286\n",
      "  8.57142857  9.28571429 10.        ]\n"
     ]
    }
   ],
   "source": [
    "a4 = np.linspace(0,10,15)\n",
    "print(a4)"
   ]
  },
  {
   "cell_type": "code",
   "execution_count": 53,
   "id": "f0b7611b",
   "metadata": {},
   "outputs": [
    {
     "name": "stdout",
     "output_type": "stream",
     "text": [
      "[0 0 0 0 0]\n",
      "[1 1 1 1 1]\n"
     ]
    },
    {
     "data": {
      "text/plain": [
       "array([1., 1., 1., 1., 1.])"
      ]
     },
     "execution_count": 53,
     "metadata": {},
     "output_type": "execute_result"
    }
   ],
   "source": [
    "a5 = np.zeros(5,int)\n",
    "print(a5)\n",
    "\n",
    "a6 = np.ones(5,int)\n",
    "print(a6)\n",
    "a6.astype(np.float64)"
   ]
  },
  {
   "cell_type": "code",
   "execution_count": 55,
   "id": "2d627430",
   "metadata": {},
   "outputs": [
    {
     "name": "stdout",
     "output_type": "stream",
     "text": [
      "[1.  2.  3.5 4.2]\n",
      "['1' '2' 'abc' 'def']\n"
     ]
    }
   ],
   "source": [
    "lista = [1,2,3.5,4.2]\n",
    "a7 = np.array(lista)\n",
    "print(a7)\n",
    "\n",
    "listb = [1,2,'abc','def']\n",
    "a8 = np.array(listb)\n",
    "print(a8)\n",
    "# a8.astype(np.int64)"
   ]
  },
  {
   "cell_type": "code",
   "execution_count": 61,
   "id": "70f12d01",
   "metadata": {},
   "outputs": [
    {
     "name": "stdout",
     "output_type": "stream",
     "text": [
      "float64\n",
      "1\n",
      "(4,)\n",
      "4\n",
      "8\n",
      "<memory at 0x000001FE3E997880>\n"
     ]
    }
   ],
   "source": [
    "print(a7.dtype)\n",
    "print(a7.ndim)\n",
    "print(a7.shape)\n",
    "print(a7.size)\n",
    "\n",
    "print(a7.itemsize)\n",
    "print(a7.data)"
   ]
  },
  {
   "cell_type": "code",
   "execution_count": 67,
   "id": "46fe8c9b",
   "metadata": {},
   "outputs": [
    {
     "name": "stdout",
     "output_type": "stream",
     "text": [
      "[10 15 20 25 30 35 40 45 50 55 60 65 70 75 80 85 90 95]\n",
      "25\n",
      "[10 15 20]\n",
      "[10 20]\n"
     ]
    }
   ],
   "source": [
    "a10 = np.arange(10,100,5)\n",
    "print(a10)\n",
    "\n",
    "# 특정인덱스\n",
    "print(a10[3])\n",
    "# 스타트, 스탑\n",
    "print(a10[0:3])\n",
    "# 스타트, 스탑, 스텝\n",
    "print(a10[0:3:2])"
   ]
  },
  {
   "cell_type": "code",
   "execution_count": 69,
   "id": "a19d978c",
   "metadata": {},
   "outputs": [
    {
     "name": "stdout",
     "output_type": "stream",
     "text": [
      "[10 15 20 25 30 35 40 45 50 55 60 65 70 75 80 85 90 95]\n",
      "[15 25 45]\n"
     ]
    }
   ],
   "source": [
    "a10 = np.arange(10,100,5)\n",
    "print(a10)\n",
    "print(a10[[1,3,7]])"
   ]
  },
  {
   "cell_type": "code",
   "execution_count": 75,
   "id": "fc7e275e",
   "metadata": {},
   "outputs": [
    {
     "name": "stdout",
     "output_type": "stream",
     "text": [
      "[10 15 20 25 30 35 40 45 50 55 60 65 70 75 80 85 90 95]\n",
      "[15 25 35 45 55 65 75 85 95]\n",
      "(18,)\n",
      "(18,)\n",
      "[15 25 35 45 55 65 75 85 95]\n"
     ]
    }
   ],
   "source": [
    "a10 = np.arange(10,100,5)\n",
    "print(a10)\n",
    "print(a10[a10%10 == 5])\n",
    "x = (a10%10 == 5)\n",
    "print(x.shape)\n",
    "print(a10.shape)\n",
    "print(a10[x])"
   ]
  },
  {
   "cell_type": "code",
   "execution_count": 91,
   "id": "d6ff0fb0",
   "metadata": {},
   "outputs": [
    {
     "name": "stdout",
     "output_type": "stream",
     "text": [
      "[0 1 2 3 4]\n",
      "[10 11 12 13 14]\n",
      "add: [10 12 14 16 18]\n",
      "[ 0  1  2  3  4 10 11 12 13 14]\n",
      "sub: [-10 -10 -10 -10 -10]\n",
      "mul: [ 0 11 24 39 56]\n",
      "div: [0.         0.09090909 0.16666667 0.23076923 0.28571429]\n"
     ]
    }
   ],
   "source": [
    "a1 = np.arange(5)\n",
    "a2 = np.arange(10,15)\n",
    "print(a1)\n",
    "print(a2)\n",
    "print('add:',a1+a2)\n",
    "print(np.concatenate((a1,a2)))\n",
    "print('sub:',a1-a2)\n",
    "print('mul:',a1*a2)\n",
    "print('div:',a1/a2)"
   ]
  },
  {
   "cell_type": "code",
   "execution_count": 92,
   "id": "05535af6",
   "metadata": {},
   "outputs": [
    {
     "name": "stdout",
     "output_type": "stream",
     "text": [
      "Help on class broadcast in module numpy:\n",
      "\n",
      "class broadcast(builtins.object)\n",
      " |  Produce an object that mimics broadcasting.\n",
      " |  \n",
      " |  Parameters\n",
      " |  ----------\n",
      " |  in1, in2, ... : array_like\n",
      " |      Input parameters.\n",
      " |  \n",
      " |  Returns\n",
      " |  -------\n",
      " |  b : broadcast object\n",
      " |      Broadcast the input parameters against one another, and\n",
      " |      return an object that encapsulates the result.\n",
      " |      Amongst others, it has ``shape`` and ``nd`` properties, and\n",
      " |      may be used as an iterator.\n",
      " |  \n",
      " |  See Also\n",
      " |  --------\n",
      " |  broadcast_arrays\n",
      " |  broadcast_to\n",
      " |  broadcast_shapes\n",
      " |  \n",
      " |  Examples\n",
      " |  --------\n",
      " |  \n",
      " |  Manually adding two vectors, using broadcasting:\n",
      " |  \n",
      " |  >>> x = np.array([[1], [2], [3]])\n",
      " |  >>> y = np.array([4, 5, 6])\n",
      " |  >>> b = np.broadcast(x, y)\n",
      " |  \n",
      " |  >>> out = np.empty(b.shape)\n",
      " |  >>> out.flat = [u+v for (u,v) in b]\n",
      " |  >>> out\n",
      " |  array([[5.,  6.,  7.],\n",
      " |         [6.,  7.,  8.],\n",
      " |         [7.,  8.,  9.]])\n",
      " |  \n",
      " |  Compare against built-in broadcasting:\n",
      " |  \n",
      " |  >>> x + y\n",
      " |  array([[5, 6, 7],\n",
      " |         [6, 7, 8],\n",
      " |         [7, 8, 9]])\n",
      " |  \n",
      " |  Methods defined here:\n",
      " |  \n",
      " |  __iter__(self, /)\n",
      " |      Implement iter(self).\n",
      " |  \n",
      " |  __next__(self, /)\n",
      " |      Implement next(self).\n",
      " |  \n",
      " |  reset(...)\n",
      " |      reset()\n",
      " |      \n",
      " |      Reset the broadcasted result's iterator(s).\n",
      " |      \n",
      " |      Parameters\n",
      " |      ----------\n",
      " |      None\n",
      " |      \n",
      " |      Returns\n",
      " |      -------\n",
      " |      None\n",
      " |      \n",
      " |      Examples\n",
      " |      --------\n",
      " |      >>> x = np.array([1, 2, 3])\n",
      " |      >>> y = np.array([[4], [5], [6]])\n",
      " |      >>> b = np.broadcast(x, y)\n",
      " |      >>> b.index\n",
      " |      0\n",
      " |      >>> next(b), next(b), next(b)\n",
      " |      ((1, 4), (2, 4), (3, 4))\n",
      " |      >>> b.index\n",
      " |      3\n",
      " |      >>> b.reset()\n",
      " |      >>> b.index\n",
      " |      0\n",
      " |  \n",
      " |  ----------------------------------------------------------------------\n",
      " |  Static methods defined here:\n",
      " |  \n",
      " |  __new__(*args, **kwargs) from builtins.type\n",
      " |      Create and return a new object.  See help(type) for accurate signature.\n",
      " |  \n",
      " |  ----------------------------------------------------------------------\n",
      " |  Data descriptors defined here:\n",
      " |  \n",
      " |  index\n",
      " |      current index in broadcasted result\n",
      " |      \n",
      " |      Examples\n",
      " |      --------\n",
      " |      >>> x = np.array([[1], [2], [3]])\n",
      " |      >>> y = np.array([4, 5, 6])\n",
      " |      >>> b = np.broadcast(x, y)\n",
      " |      >>> b.index\n",
      " |      0\n",
      " |      >>> next(b), next(b), next(b)\n",
      " |      ((1, 4), (1, 5), (1, 6))\n",
      " |      >>> b.index\n",
      " |      3\n",
      " |  \n",
      " |  iters\n",
      " |      tuple of iterators along ``self``'s \"components.\"\n",
      " |      \n",
      " |      Returns a tuple of `numpy.flatiter` objects, one for each \"component\"\n",
      " |      of ``self``.\n",
      " |      \n",
      " |      See Also\n",
      " |      --------\n",
      " |      numpy.flatiter\n",
      " |      \n",
      " |      Examples\n",
      " |      --------\n",
      " |      >>> x = np.array([1, 2, 3])\n",
      " |      >>> y = np.array([[4], [5], [6]])\n",
      " |      >>> b = np.broadcast(x, y)\n",
      " |      >>> row, col = b.iters\n",
      " |      >>> next(row), next(col)\n",
      " |      (1, 4)\n",
      " |  \n",
      " |  nd\n",
      " |      Number of dimensions of broadcasted result. For code intended for NumPy\n",
      " |      1.12.0 and later the more consistent `ndim` is preferred.\n",
      " |      \n",
      " |      Examples\n",
      " |      --------\n",
      " |      >>> x = np.array([1, 2, 3])\n",
      " |      >>> y = np.array([[4], [5], [6]])\n",
      " |      >>> b = np.broadcast(x, y)\n",
      " |      >>> b.nd\n",
      " |      2\n",
      " |  \n",
      " |  ndim\n",
      " |      Number of dimensions of broadcasted result. Alias for `nd`.\n",
      " |      \n",
      " |      .. versionadded:: 1.12.0\n",
      " |      \n",
      " |      Examples\n",
      " |      --------\n",
      " |      >>> x = np.array([1, 2, 3])\n",
      " |      >>> y = np.array([[4], [5], [6]])\n",
      " |      >>> b = np.broadcast(x, y)\n",
      " |      >>> b.ndim\n",
      " |      2\n",
      " |  \n",
      " |  numiter\n",
      " |      Number of iterators possessed by the broadcasted result.\n",
      " |      \n",
      " |      Examples\n",
      " |      --------\n",
      " |      >>> x = np.array([1, 2, 3])\n",
      " |      >>> y = np.array([[4], [5], [6]])\n",
      " |      >>> b = np.broadcast(x, y)\n",
      " |      >>> b.numiter\n",
      " |      2\n",
      " |  \n",
      " |  shape\n",
      " |      Shape of broadcasted result.\n",
      " |      \n",
      " |      Examples\n",
      " |      --------\n",
      " |      >>> x = np.array([1, 2, 3])\n",
      " |      >>> y = np.array([[4], [5], [6]])\n",
      " |      >>> b = np.broadcast(x, y)\n",
      " |      >>> b.shape\n",
      " |      (3, 3)\n",
      " |  \n",
      " |  size\n",
      " |      Total size of broadcasted result.\n",
      " |      \n",
      " |      Examples\n",
      " |      --------\n",
      " |      >>> x = np.array([1, 2, 3])\n",
      " |      >>> y = np.array([[4], [5], [6]])\n",
      " |      >>> b = np.broadcast(x, y)\n",
      " |      >>> b.size\n",
      " |      9\n",
      "\n"
     ]
    }
   ],
   "source": [
    "help(np.broadcast)"
   ]
  }
 ],
 "metadata": {
  "kernelspec": {
   "display_name": "Python 3 (ipykernel)",
   "language": "python",
   "name": "python3"
  },
  "language_info": {
   "codemirror_mode": {
    "name": "ipython",
    "version": 3
   },
   "file_extension": ".py",
   "mimetype": "text/x-python",
   "name": "python",
   "nbconvert_exporter": "python",
   "pygments_lexer": "ipython3",
   "version": "3.10.9"
  }
 },
 "nbformat": 4,
 "nbformat_minor": 5
}
