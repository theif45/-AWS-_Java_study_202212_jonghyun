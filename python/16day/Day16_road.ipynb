{
 "cells": [
  {
   "cell_type": "markdown",
   "id": "78840593",
   "metadata": {},
   "source": [
    "### 전국횡단보도표준데이터\n",
    "* 횡단보도 연장, 녹색신호시간의 상관도\n",
    "* 자전거 횡단도 겸용 비율(전체대비)\n",
    "* 차로수별 자전거 횡단도 카운트/비율\n",
    "* 차로수별 보행자 신호등 유무 카운트/비율\n",
    "* 차로수별 음향신호기설치 유무 카운트/비율\n",
    "\n",
    "화면출력\n",
    "1. 상관도 수치\n",
    "2. 비율 수치\n",
    "3~5. 카운트,비율"
   ]
  },
  {
   "cell_type": "code",
   "execution_count": 28,
   "id": "618ff33c",
   "metadata": {},
   "outputs": [
    {
     "name": "stdout",
     "output_type": "stream",
     "text": [
      "[['시도명', '시군구명', '도로명', '소재지도로명주소', '소재지지번주소', '횡단보도관리번호', '횡단보도종류', '자전거횡단도겸용여부', '고원식적용여부', '위도', '경도', '차로수', '횡단보도폭', '횡단보도연장', '보행자신호등유무', '보행자작동신호기유무', '음향신호기설치여부', '녹색신호시간', '적색신호시간', '교통섬유무', '보도턱낮춤여부', '점자블록유무', '집중조명시설유무', '관리기관명', '관리기관전화번호', '데이터기준일자', '제공기관코드', '제공기관명'], ['경기도', '남양주시', '강변북로', '', '경기도 남양주시 다산동 6288', '450', '01', 'Y', 'N', '37.601593', '127.177871', '3', '6.5', '9.7', 'Y', 'Y', 'Y', '17', '96', 'N', 'Y', 'Y', 'Y', '경기도 남양주시청', '031-590-2114', '2023-01-31', '3990000', '경기도 남양주시'], ['경기도', '남양주시', '강변북로', '', '경기도 남양주시 다산동 6288', '451', '01', 'Y', 'N', '37.596648', '127.173525', '9', '8.9', '30', 'Y', 'Y', 'Y', '37', '147', 'N', 'Y', 'Y', 'Y', '경기도 남양주시청', '031-590-2114', '2023-01-31', '3990000', '경기도 남양주시']]\n",
      "(0, '시도명')\n",
      "(1, '시군구명')\n",
      "(2, '도로명')\n",
      "(3, '소재지도로명주소')\n",
      "(4, '소재지지번주소')\n",
      "(5, '횡단보도관리번호')\n",
      "(6, '횡단보도종류')\n",
      "(7, '자전거횡단도겸용여부')\n",
      "(8, '고원식적용여부')\n",
      "(9, '위도')\n",
      "(10, '경도')\n",
      "(11, '차로수')\n",
      "(12, '횡단보도폭')\n",
      "(13, '횡단보도연장')\n",
      "(14, '보행자신호등유무')\n",
      "(15, '보행자작동신호기유무')\n",
      "(16, '음향신호기설치여부')\n",
      "(17, '녹색신호시간')\n",
      "(18, '적색신호시간')\n",
      "(19, '교통섬유무')\n",
      "(20, '보도턱낮춤여부')\n",
      "(21, '점자블록유무')\n",
      "(22, '집중조명시설유무')\n",
      "(23, '관리기관명')\n",
      "(24, '관리기관전화번호')\n",
      "(25, '데이터기준일자')\n",
      "(26, '제공기관코드')\n",
      "(27, '제공기관명')\n"
     ]
    }
   ],
   "source": [
    "import numpy as np\n",
    "import matplotlib.pyplot as plt\n",
    "import sqlite3\n",
    "\n",
    "def my_split(s):\n",
    "    block_start = False\n",
    "    start_index = 0\n",
    "    ret_list=[]\n",
    "    for i, c in enumerate(s):\n",
    "        if block_start==False:\n",
    "            if c==',':\n",
    "                ret_list.append(s[start_index:i])\n",
    "                start_index=i+1\n",
    "            elif c=='\"':\n",
    "                block_start=True\n",
    "                start_index = i\n",
    "        else:\n",
    "            if c=='\"':\n",
    "                block_start=False\n",
    "    if s[-1]!=',':\n",
    "        ret_list.append(s[start_index:])\n",
    "    return ret_list\n",
    "\n",
    "def yes_ratio(np_data):\n",
    "    pass1 = dict()\n",
    "    for road, y_n in np_data:\n",
    "        if road in pass1.keys():\n",
    "            pass1[road].append(y_n)\n",
    "        else:\n",
    "            pass1[road] = [y_n]\n",
    "\n",
    "    pass2 = []\n",
    "    for road in pass1:\n",
    "        val, cnt = np.unique(pass1[road], return_counts=True)\n",
    "        y, ratio = 0,0\n",
    "        if 'Y' in val:\n",
    "            y = cnt[val=='Y']\n",
    "        ratio = y*100/np.sum(cnt)\n",
    "        pass2.append((int(road), int(y), float(ratio)))\n",
    "\n",
    "    np.set_printoptions(precision=3, suppress=True)\n",
    "    pass3 = sorted(pass2, key=lambda x:x[0])\n",
    "    pass3 = np.array(pass3)\n",
    "    print(pass3)\n",
    "\n",
    "csv_data=[]\n",
    "with open('전국횡단보도표준데이터.csv') as f:\n",
    "    for line in f:\n",
    "        csv_data.append(my_split(line[:-1]))\n",
    "print(csv_data[:3])\n",
    "for i in enumerate(csv_data[0]):\n",
    "    print(i)"
   ]
  },
  {
   "cell_type": "code",
   "execution_count": 29,
   "id": "d9415403",
   "metadata": {},
   "outputs": [
    {
     "data": {
      "text/plain": [
       "(50000, 28)"
      ]
     },
     "execution_count": 29,
     "metadata": {},
     "output_type": "execute_result"
    }
   ],
   "source": [
    "np_data = np.array(csv_data[1:])\n",
    "np_data.shape"
   ]
  },
  {
   "cell_type": "code",
   "execution_count": 43,
   "id": "86b03e64",
   "metadata": {},
   "outputs": [
    {
     "name": "stdout",
     "output_type": "stream",
     "text": [
      "0.12634133931481506\n"
     ]
    },
    {
     "data": {
      "text/plain": [
       "<matplotlib.collections.PathCollection at 0x1a7c2cf41f0>"
      ]
     },
     "execution_count": 43,
     "metadata": {},
     "output_type": "execute_result"
    },
    {
     "data": {
      "image/png": "[encoded data removed]",
      "text/plain": [
       "<Figure size 640x480 with 1 Axes>"
      ]
     },
     "metadata": {},
     "output_type": "display_data"
    }
   ],
   "source": [
    "filter1 = (np_data[:,17]!='') & (np_data[:,13]!='') & (np_data[:,13]!='0') & (np_data[:,17]!='0')\n",
    "np_data_f1 = np_data[filter1]\n",
    "np_data_green_length = np_data_f1[:,[13,17]].astype(np.float64)\n",
    "get_corr=np.corrcoef(np_data_green_length[:,0],np_data_green_length[:,1])\n",
    "print(get_corr[0][1])\n",
    "_,axe = plt.subplots()\n",
    "axe.scatter(np_data_green_length[:,0],np_data_green_length[:,1])"
   ]
  },
  {
   "cell_type": "code",
   "execution_count": 31,
   "id": "d743deb4",
   "metadata": {},
   "outputs": [
    {
     "name": "stdout",
     "output_type": "stream",
     "text": [
      "['N' 'Y'] [29476  4614]\n",
      "13.534760926958052 %\n"
     ]
    }
   ],
   "source": [
    "filter2 = (np_data[:,7]!='') & (np_data[:,7]!=' ')\n",
    "np_data_f2 = np_data[filter2]\n",
    "bike_y_n, bike_count = np.unique(np_data_f2[:,7],return_counts=True)\n",
    "print(bike_y_n,bike_count)\n",
    "print(bike_count[1]*100/np.sum(bike_count),'%')"
   ]
  },
  {
   "cell_type": "code",
   "execution_count": 32,
   "id": "944fc38a",
   "metadata": {},
   "outputs": [
    {
     "name": "stdout",
     "output_type": "stream",
     "text": [
      "[[   0.       0.       0.   ]\n",
      " [   1.     423.       6.42 ]\n",
      " [   2.     859.       6.444]\n",
      " [   3.     489.      19.222]\n",
      " [   4.    1002.      17.691]\n",
      " [   5.     525.      25.024]\n",
      " [   6.     593.      28.885]\n",
      " [   7.     371.      38.848]\n",
      " [   8.     166.      33.2  ]\n",
      " [   9.     125.      50.403]\n",
      " [  10.      39.      51.316]\n",
      " [  11.      12.      66.667]\n",
      " [  12.       7.      77.778]\n",
      " [  13.       3.     100.   ]]\n"
     ]
    }
   ],
   "source": [
    "filter3 = (np_data[:,7]!='') & (np_data[:,7]!=' ') & (np_data[:,11]!='')\n",
    "np_data_f3 = np_data[filter3]\n",
    "np_data_f3 = np_data_f3[:,[11,7]]\n",
    "yes_ratio(np_data_f3)"
   ]
  },
  {
   "cell_type": "code",
   "execution_count": 40,
   "id": "37e28492",
   "metadata": {},
   "outputs": [
    {
     "name": "stdout",
     "output_type": "stream",
     "text": [
      "(array(['15', 'Y'], dtype='<U49'), array([2, 2], dtype=int64))\n",
      "[[   0.       2.     100.   ]\n",
      " [   1.     432.       5.061]\n",
      " [   2.    3782.      19.473]\n",
      " [   3.    1848.      51.405]\n",
      " [   4.    6200.      68.889]\n",
      " [   5.    3013.      91.664]\n",
      " [   6.    2719.      90.093]\n",
      " [   7.    1546.      96.807]\n",
      " [   8.     797.      97.912]\n",
      " [   9.     444.      97.582]\n",
      " [  10.     166.      93.258]\n",
      " [  11.      51.      96.226]\n",
      " [  12.      22.      95.652]\n",
      " [  13.      16.      88.889]\n",
      " [  15.       2.     100.   ]]\n"
     ]
    }
   ],
   "source": [
    "filter4 = (np_data[:,11]!='') & (np_data[:,14]!='')\n",
    "f1 = np_data_f4[:,0]=='15'\n",
    "np_data_f4 = np_data[filter4]\n",
    "np_data_f4 = np_data_f4[:,[11,14]]\n",
    "print(np.unique(np_data_f4[f1],return_counts=True))\n",
    "for e in np_data_f4:\n",
    "    if e[1] == 'n':\n",
    "        e[1] = 'N'\n",
    "    if e[1] == 'y':\n",
    "        e[1] = 'Y'\n",
    "yes_ratio(np_data_f4)"
   ]
  },
  {
   "cell_type": "code",
   "execution_count": 35,
   "id": "91eb6c96",
   "metadata": {},
   "outputs": [
    {
     "name": "stdout",
     "output_type": "stream",
     "text": [
      "[[  0.      2.    100.   ]\n",
      " [  1.     64.      1.806]\n",
      " [  2.    582.      7.807]\n",
      " [  3.    363.     19.6  ]\n",
      " [  4.    890.     25.575]\n",
      " [  5.    571.     36.208]\n",
      " [  6.    471.     40.499]\n",
      " [  7.    300.     43.86 ]\n",
      " [  8.    183.     51.695]\n",
      " [  9.     81.     46.023]\n",
      " [ 10.     10.     50.   ]\n",
      " [ 11.      2.     50.   ]]\n"
     ]
    }
   ],
   "source": [
    "filter5 = (np_data[:,16]!=' ') & (np_data[:,16]!='') & (np_data[:,11]!='')\n",
    "np_data_f5 = np_data[filter5]\n",
    "np_data_f5 = np_data_f5[:,[11,16]]\n",
    "for e in np_data_f5:\n",
    "    if e[1] == 'n':\n",
    "        e[1] = 'N'\n",
    "    if e[1] == 'y':\n",
    "        e[1] = 'Y'\n",
    "yes_ratio(np_data_f5)"
   ]
  }
 ],
 "metadata": {
  "kernelspec": {
   "display_name": "Python 3 (ipykernel)",
   "language": "python",
   "name": "python3"
  },
  "language_info": {
   "codemirror_mode": {
    "name": "ipython",
    "version": 3
   },
   "file_extension": ".py",
   "mimetype": "text/x-python",
   "name": "python",
   "nbconvert_exporter": "python",
   "pygments_lexer": "ipython3",
   "version": "3.10.9"
  }
 },
 "nbformat": 4,
 "nbformat_minor": 5
}
