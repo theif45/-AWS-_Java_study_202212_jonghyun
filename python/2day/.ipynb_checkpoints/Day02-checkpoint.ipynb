{
 "cells": [
  {
   "cell_type": "code",
   "execution_count": 2,
   "id": "b363a73c",
   "metadata": {},
   "outputs": [
    {
     "name": "stdout",
     "output_type": "stream",
     "text": [
      "myfunction\n"
     ]
    }
   ],
   "source": [
    "# 함수\n",
    "# define\n",
    "def function_name():\n",
    "    print ('myfunction')\n",
    "    \n",
    "function_name()"
   ]
  },
  {
   "cell_type": "code",
   "execution_count": 8,
   "id": "ca0ca1ab",
   "metadata": {},
   "outputs": [
    {
     "name": "stdout",
     "output_type": "stream",
     "text": [
      "fn7 start\n",
      "abc def\n"
     ]
    }
   ],
   "source": [
    "# function argument\n",
    "def myfn1():\n",
    "    print('myfn1')\n",
    "    \n",
    "def myfn2(arg1):\n",
    "    print(arg1)\n",
    "#default값을 주면 함수에 매개변수를 적지 않아도 실행됨\n",
    "def myfn3(arg1='a', arg2='b'):\n",
    "    print(arg1, arg2)\n",
    "    \n",
    "def myfn4(*arg1):\n",
    "    for i in arg1:\n",
    "        print(i)\n",
    "#키워드를 반드시 사용하도록 강제할 수 있음\n",
    "#*오른쪽은 keyword argument로 사용\n",
    "def myfn5(arg1, *, arg2, arg3):\n",
    "    print(arg1, arg2, arg3)\n",
    "    \n",
    "#/왼쪽을 positional argument로 사용\n",
    "def myfn6(arg1, /, arg2, arg3):\n",
    "    print(arg1, arg2, arg3)\n",
    "\n",
    "# 매개변수로 함수 사용\n",
    "def myfn7(arg1, arg2):\n",
    "    print(arg1)\n",
    "    arg2('abc','def')\n",
    "    \n",
    "# myfn2('abc')\n",
    "# myfn3(10, 20)\n",
    "\n",
    "# keyword argument\n",
    "# 순서 상관없음\n",
    "# myfn3(arg2=10, arg1=20)\n",
    "# myfn3()\n",
    "\n",
    "# myfn4(1,2,3,4)\n",
    "# myfn2([1,2,3,4])\n",
    "# myfn5(arg1 = 'a',arg2 = 'b',arg3 = 'c')\n",
    "# myfn6('a','b','c')\n",
    "# myfn6(arg1 = 'a',arg2 = 'b',arg3 = 'c')\n",
    "myfn7('fn7 start', myfn3)\n"
   ]
  },
  {
   "cell_type": "code",
   "execution_count": 12,
   "id": "37f790ae",
   "metadata": {},
   "outputs": [
    {
     "name": "stdout",
     "output_type": "stream",
     "text": [
      "(10, 20)\n"
     ]
    }
   ],
   "source": [
    "# function return\n",
    "def myfn8():\n",
    "    print('myfn8')\n",
    "    \n",
    "def myfn9():\n",
    "    return 10\n",
    "\n",
    "#tuple로 반환됨\n",
    "def myfn10():\n",
    "    return 10, 20\n",
    "\n",
    "# ret_value = myfn8()\n",
    "ret_value = myfn10()\n",
    "print(ret_value)"
   ]
  }
 ],
 "metadata": {
  "kernelspec": {
   "display_name": "Python 3 (ipykernel)",
   "language": "python",
   "name": "python3"
  },
  "language_info": {
   "codemirror_mode": {
    "name": "ipython",
    "version": 3
   },
   "file_extension": ".py",
   "mimetype": "text/x-python",
   "name": "python",
   "nbconvert_exporter": "python",
   "pygments_lexer": "ipython3",
   "version": "3.10.9"
  }
 },
 "nbformat": 4,
 "nbformat_minor": 5
}
