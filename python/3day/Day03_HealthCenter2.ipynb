{
 "cells": [
  {
   "cell_type": "code",
   "execution_count": 61,
   "id": "eaff69ec",
   "metadata": {},
   "outputs": [
    {
     "name": "stdout",
     "output_type": "stream",
     "text": [
      "270 센터수\n",
      "156 의사총수\n",
      "167 의사없는센터수\n"
     ]
    }
   ],
   "source": [
    "all_list = []\n",
    "with open('전국건강증진센터표준데이터.csv', encoding='cp949') as f:\n",
    "    for line in f:\n",
    "        all_list.append(line)\n",
    "        \n",
    "all_list = all_list[1:]\n",
    "# print(all_list)\n",
    "name_list = []\n",
    "center_list = []\n",
    "for i in all_list:\n",
    "    name_list.append(i.split(',')[0])\n",
    "    center_list.append(i.split(',')[11])\n",
    "    \n",
    "count = 0\n",
    "for i in set(name_list):\n",
    "    count += 1\n",
    "print(count, '센터수')\n",
    "# print(center_list)\n",
    "\n",
    "total = 0\n",
    "for n in center_list:\n",
    "    total += int(n)\n",
    "print(total, '의사총수')\n",
    "\n",
    "a = 0\n",
    "# print(center_list)\n",
    "for i in center_list:\n",
    "    if int(i) == 0:\n",
    "        a += 1\n",
    "print(a, '의사없는센터수')"
   ]
  }
 ],
 "metadata": {
  "kernelspec": {
   "display_name": "Python 3 (ipykernel)",
   "language": "python",
   "name": "python3"
  },
  "language_info": {
   "codemirror_mode": {
    "name": "ipython",
    "version": 3
   },
   "file_extension": ".py",
   "mimetype": "text/x-python",
   "name": "python",
   "nbconvert_exporter": "python",
   "pygments_lexer": "ipython3",
   "version": "3.10.9"
  }
 },
 "nbformat": 4,
 "nbformat_minor": 5
}
