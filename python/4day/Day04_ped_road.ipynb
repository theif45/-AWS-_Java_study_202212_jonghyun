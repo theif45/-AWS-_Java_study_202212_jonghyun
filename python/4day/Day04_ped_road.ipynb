{
 "cells": [
  {
   "cell_type": "code",
   "execution_count": 1,
   "id": "16c28eee",
   "metadata": {},
   "outputs": [],
   "source": [
    "def my_split(s):\n",
    "    block_start = False\n",
    "    start_index = 0\n",
    "    ret_list=[]\n",
    "    for i, c in enumerate(s):\n",
    "        if block_start==False:\n",
    "            if c==',':\n",
    "                ret_list.append(s[start_index:i])\n",
    "                start_index=i+1\n",
    "            elif c=='\"':\n",
    "                block_start=True\n",
    "                start_index = i\n",
    "        else:\n",
    "            if c=='\"':\n",
    "                block_start=False\n",
    "    if s[-1]!=',':\n",
    "        ret_list.append(s[start_index:])\n",
    "    return ret_list\n",
    "\n",
    "def split_len(data_list):\n",
    "    len_list=[]\n",
    "    for e in data_list:\n",
    "        len_list.append(len(e))\n",
    "    print(set(len_list))\n",
    "    if len(set(len_list))>1:\n",
    "        for i in set(len_list):\n",
    "            print(i,len_list.count(i))\n",
    "\n",
    "def mean(number_list):\n",
    "    return sum(number_list)/len(number_list)"
   ]
  },
  {
   "cell_type": "code",
   "execution_count": 2,
   "id": "63bda38d",
   "metadata": {},
   "outputs": [
    {
     "name": "stdout",
     "output_type": "stream",
     "text": [
      "[['보행자전용도로명', '시도명', '시군구명', '법정동명', '지정일자', '운영방식구분', '평일운영시작시각', '평일운영종료시각', '주말운영시작시각', '주말운영종료시각', '보행자전용도로시작점위도', '보행자전용도로시작점경도', '보행자전용도로종료점위도', '보행자전용도로종료점경도', '자전거보행자겸용도로구분', '보행자전용도로폭', '보차분리여부', '지정목적', '관리점검일자', '관리점검결과', '유지보수내용', '영상정보기처리기기설치개수', '보안등설치개수', '횡단보도설치개수', '방호울타리설치개수', '차량진입억제용말뚝설치개수', '속도저감시설설치개수', '교통표지판설치개수', '이정표설치개수', '점자블럭설치개수', '관리기관명', '관리기관전화번호', '데이터기준일자', '제공기관코드', '제공기관명\\n'], ['소로3-안영13호선', '대전광역시', '중구', '안영동', '1998-09-08', '전일제', '00:00', '23:59', '00:00', '23:59', '36.2819047', '127.378031', '36.2819047', '127.378031', '전용', '4', 'Y', '보행환경개선', '2022-04-01', '합격', '', '', '', '', '', '', '', '', '', '', '대전광역시 중구청', '042-606-6828', '2022-08-01', '3650000', '대전광역시 중구\\n'], ['소로3-안영14호선', '대전광역시', '중구', '안영동', '1998-02-28', '전일제', '00:00', '23:59', '00:00', '23:59', '36.2887373', '127.380335', '36.2890476', '127.381961', '전용', '4', 'Y', '보행환경개선', '2022-04-01', '합격', '', '', '', '', '', '', '', '', '', '', '대전광역시 중구청', '042-606-6828', '2022-08-01', '3650000', '대전광역시 중구\\n']]\n",
      "{35}\n"
     ]
    }
   ],
   "source": [
    "csv_data=[]\n",
    "with open('전국보행자전용도로표준데이터.csv') as f:\n",
    "    for line in f:\n",
    "        #csv_data.append(line.split(','))\n",
    "        csv_data.append(my_split(line))\n",
    "print(csv_data[:3])\n",
    "split_len(csv_data)"
   ]
  },
  {
   "cell_type": "code",
   "execution_count": 3,
   "id": "a3256e51",
   "metadata": {},
   "outputs": [
    {
     "name": "stdout",
     "output_type": "stream",
     "text": [
      "15\n",
      "[4.0, 4.0, 4.0]\n"
     ]
    }
   ],
   "source": [
    "i = csv_data[0].index('보행자전용도로폭')\n",
    "print(i)\n",
    "\n",
    "width_list=[]\n",
    "for e in csv_data[1:]:\n",
    "    width_list.append(float(e[i]))\n",
    "print(width_list[:3])"
   ]
  },
  {
   "cell_type": "code",
   "execution_count": 7,
   "id": "d208491c",
   "metadata": {},
   "outputs": [
    {
     "name": "stdout",
     "output_type": "stream",
     "text": [
      "0\n"
     ]
    },
    {
     "data": {
      "text/plain": [
       "13.034324834749766"
      ]
     },
     "execution_count": 7,
     "metadata": {},
     "output_type": "execute_result"
    }
   ],
   "source": [
    "mean(width_list)"
   ]
  }
 ],
 "metadata": {
  "kernelspec": {
   "display_name": "Python 3 (ipykernel)",
   "language": "python",
   "name": "python3"
  },
  "language_info": {
   "codemirror_mode": {
    "name": "ipython",
    "version": 3
   },
   "file_extension": ".py",
   "mimetype": "text/x-python",
   "name": "python",
   "nbconvert_exporter": "python",
   "pygments_lexer": "ipython3",
   "version": "3.10.9"
  }
 },
 "nbformat": 4,
 "nbformat_minor": 5
}
