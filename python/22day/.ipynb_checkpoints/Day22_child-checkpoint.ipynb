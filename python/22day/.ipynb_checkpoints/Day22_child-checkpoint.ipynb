{
 "cells": [
  {
   "cell_type": "markdown",
   "id": "86cc82fd",
   "metadata": {},
   "source": [
    "### 전국어린이보호구역표준데이터\n",
    "- 시설종류별 CCTV 설치 여부 카운트 / 대수\n",
    "- 광역시도별, 시설종류별 카운트\n",
    "- 관할경찰서별 CCTV 대수\n",
    "- CCTV 평균 설치대수\n",
    "- 도로폭/CCTV 설치대수 상관도"
   ]
  },
  {
   "cell_type": "code",
   "execution_count": 1,
   "id": "f03593b5",
   "metadata": {},
   "outputs": [],
   "source": [
    "import numpy as np\n",
    "import pandas as pd\n",
    "import matplotlib.pyplot as plt\n",
    "\n",
    "pd_rawdata = pd.read_csv('전국어린이보호구역표준데이터.csv', encoding='cp949')\n",
    "\n",
    "column_selection = ['시설종류', '관할경찰서명', 'CCTV설치여부', 'CCTV설치대수', '제공기관명', '보호구역도로폭']\n",
    "pd_data = pd_rawdata[column_selection]\n",
    "del pd_rawdata\n",
    "# print(pd_rawdata[:3])"
   ]
  },
  {
   "cell_type": "code",
   "execution_count": 2,
   "id": "b2438016",
   "metadata": {},
   "outputs": [],
   "source": [
    "# EDA : Exploratory Data Analysis\n",
    "# print(pd_data.columns)\n",
    "# print(pd_data.dtypes)\n",
    "pd_data['시설종류'] = pd_data['시설종류'].astype('category')\n",
    "pd_data['CCTV설치여부'] = pd_data['CCTV설치여부'].astype('category')\n",
    "# print(pd_data.dtypes)"
   ]
  },
  {
   "cell_type": "code",
   "execution_count": 3,
   "id": "9c35fa96",
   "metadata": {},
   "outputs": [],
   "source": [
    "# 결측치 확인\n",
    "# print(pd_data.shape)\n",
    "# pd_data.describe(include='all')\n",
    "for e in pd_data:\n",
    "    print(e, pd_data[e].hasnans)\n",
    "    if pd_data[e].hasnans == True:\n",
    "        print(pd_data[e].isna().value_counts())"
   ]
  },
  {
   "cell_type": "code",
   "execution_count": 4,
   "id": "b2397f80",
   "metadata": {},
   "outputs": [],
   "source": [
    "#CCTV 설치대수: 결측치 처리\n",
    "#CCTV 설치여부: Y --> 1\n",
    "#CCTV 설치여부: N --> 0\n",
    "print(pd_data['CCTV설치대수'].isna().value_counts())\n",
    "filter_y = pd_data['CCTV설치여부'] == 'Y'\n",
    "filter_n = pd_data['CCTV설치여부'] == 'N'\n",
    "pd_data.loc[filter_y, 'CCTV설치대수'] = pd_data.loc[filter_y, 'CCTV설치대수'].replace(np.NaN,1)\n",
    "pd_data.loc[filter_n, 'CCTV설치대수'] = pd_data.loc[filter_n, 'CCTV설치대수'].replace(np.NaN,1)\n",
    "\n",
    "# pd_data.replace({'CCTV설치여부':'Y', 'CCTV설치대수':np.NaN}, 1, inplace=True)\n",
    "# pd_data.replace({'CCTV설치여부':'N', 'CCTV설치대수':np.NaN}, 0, inplace=True)\n",
    "print(pd_data['CCTV설치대수'].isna().value_counts())"
   ]
  },
  {
   "cell_type": "code",
   "execution_count": 5,
   "id": "4bf5a309",
   "metadata": {},
   "outputs": [],
   "source": [
    "def myfn1(x):\n",
    "    if type(x) == type(' '):\n",
    "        if '~' in x:\n",
    "            m = np.array(x.split('~')).astype(np.float64).mean()\n",
    "            return str(m)\n",
    "        return str(x)\n",
    "#도로폭: 오류치 처리\n",
    "#숫자a~숫자b 형태의 문자열 --> '숫자a'와 '숫자b'의 평균치(np.float64) 값으로 대체\n",
    "# print(pd_data['보호구역도로폭'].value_counts())\n",
    "y = pd_data['보호구역도로폭'].apply(myfn1)\n",
    "# print(pd_data['보호구역도로폭'].value_counts())\n",
    "# print(y.value_counts())\n",
    "\n",
    "#도로폭: 결측치 처리\n",
    "#전체 도로폭 평균치로 대체\n",
    "print(pd_data['보호구역도로폭'].isna().value_counts())\n",
    "y = y.astype(np.float64)\n",
    "y = y.replace(np.NaN, y.mean())\n",
    "print(y.isna().value_counts())\n",
    "pd_data['보호구역도로폭'] = y"
   ]
  },
  {
   "cell_type": "code",
   "execution_count": null,
   "id": "5d7cfbea",
   "metadata": {},
   "outputs": [],
   "source": [
    "for e in pd_data:\n",
    "    print(e, pd_data[e].hasnans)\n",
    "    if pd_data[e].hasnans == True:\n",
    "        print(pd_data[e].isna().value_counts())"
   ]
  },
  {
   "cell_type": "markdown",
   "id": "73121aca",
   "metadata": {},
   "source": [
    "### 전국어린이보호구역표준데이터\n",
    "- 시설종류별 CCTV 설치 여부 카운트 / 대수\n",
    "- 광역시도별, 시설종류별 카운트\n",
    "- 관할경찰서별 CCTV 대수\n",
    "- CCTV 평균 설치대수\n",
    "- 도로폭/CCTV 설치대수 상관도"
   ]
  },
  {
   "cell_type": "code",
   "execution_count": null,
   "id": "b6f1ce64",
   "metadata": {},
   "outputs": [],
   "source": [
    "# print(pd_data)\n",
    "# print(pd_data['보호구역도로폭'].value_counts())\n",
    "g1 = pd_data.groupby('시설종류')\n",
    "#print(g1)\n",
    "#g1.count()\n",
    "#g1.sum()\n",
    "#g1['CCTV설치대수'].sum()"
   ]
  },
  {
   "cell_type": "code",
   "execution_count": null,
   "id": "fa3e250f",
   "metadata": {},
   "outputs": [],
   "source": [
    "g2 = pd_data.groupby(['제공기관명','시설종류'])\n",
    "g2.count()"
   ]
  },
  {
   "cell_type": "code",
   "execution_count": null,
   "id": "97502ff1",
   "metadata": {},
   "outputs": [],
   "source": [
    "pd_data['CCTV설치대수'].mean()"
   ]
  },
  {
   "cell_type": "code",
   "execution_count": null,
   "id": "24477b75",
   "metadata": {},
   "outputs": [],
   "source": [
    "pd_data.to_csv('전국어린이보호구역표준데이터_pass1.csv')"
   ]
  },
  {
   "cell_type": "code",
   "execution_count": null,
   "id": "1520406e",
   "metadata": {},
   "outputs": [],
   "source": [
    "x = pd_data['보호구역도로폭']\n",
    "y = pd_data['CCTV설치대수']\n",
    "np.corrcoef(x,y)\n",
    "_, axe = plt.subplots()\n",
    "axe.scatter(x,y)"
   ]
  },
  {
   "cell_type": "code",
   "execution_count": null,
   "id": "368e71fb",
   "metadata": {},
   "outputs": [],
   "source": [
    "# 조건 1개: column a의 값이 1\n",
    "# 교체대상 column b의 값\n",
    "df_t = pd.DataFrame({'a':[1,1,2,2], 'b':[5,6,5,6]})\n",
    "print(df_t)\n",
    "f1 = df_t['a']==1 # column a의 값이 1인것만 필터\n",
    "print('*****')\n",
    "print(df_t.loc[f1,'b']) \n",
    "df_t.loc[f1,'b'] = 100\n",
    "print('*****')\n",
    "print(df_t)"
   ]
  },
  {
   "cell_type": "code",
   "execution_count": null,
   "id": "f15ce0e5",
   "metadata": {},
   "outputs": [],
   "source": [
    "# 조건 2개: column a의 값이 1, column b의 값이 6\n",
    "# 교체 대상: column b의 값.\n",
    "df_t = pd.DataFrame({'a':[1,1,2,2], 'b':[5,6,5,6]})\n",
    "print(df_t)\n",
    "f1 = df_t['a']==1\n",
    "print('*****')\n",
    "print(df_t.loc[f1,'b'])\n",
    "df_t.loc[f1,'b'] = df_t.loc[f1,'b'].replace(6, 100)\n",
    "print('*****')\n",
    "print(df_t)"
   ]
  },
  {
   "cell_type": "markdown",
   "id": "8ee54c30",
   "metadata": {},
   "source": [
    "### 시설종류\n",
    "* dtype: category\n",
    "* value:\n",
    "* 결측치 없음\n",
    "\n",
    "### 관할경찰서명\n",
    "* dtype: object\n",
    "* 결측치 없음\n",
    "\n",
    "### CCTV 설치여부\n",
    "* dtype: category\n",
    "* value: 'Y','N'\n",
    "* 결측치 없음\n",
    "\n",
    "### CCTV 설치대수\n",
    "* dtype: np.int64\n",
    "* min / max: 0 / _\n",
    "* 결측치 (개)\n",
    "\n",
    "    CCTV 설치여부: 'Y' --> 1\n",
    "    \n",
    "    CCTV 설치여부: 'N' --> 0\n",
    "\n",
    "### 보호구역도로폭\n",
    "* dtype: np.float64\n",
    "* min / max: \n",
    "* 오류치 (개, 처리후 오류치 없음)\n",
    "\n",
    "     숫자a~숫자b 형태의 문자열 --> '숫자a'와 '숫자b'의 평균치(np.float64) 값으로 대체\n",
    "     \n",
    "* 결측치 (개, 처리후 오류치 없음)\n",
    "\n",
    "    전체 평균값으로 대체\n",
    "    \n"
   ]
  },
  {
   "cell_type": "code",
   "execution_count": null,
   "id": "56e70dee",
   "metadata": {},
   "outputs": [],
   "source": [
    "# !pip install scikit-learn\n",
    "# !pip install datasets"
   ]
  },
  {
   "cell_type": "code",
   "execution_count": null,
   "id": "05f615ed",
   "metadata": {},
   "outputs": [],
   "source": [
    "# import sklearn\n",
    "# from sklearn import datasets\n",
    "\n",
    "# x = datasets.load_diabetes()\n",
    "# print(x['DESCR'])"
   ]
  }
 ],
 "metadata": {
  "kernelspec": {
   "display_name": "Python 3 (ipykernel)",
   "language": "python",
   "name": "python3"
  },
  "language_info": {
   "codemirror_mode": {
    "name": "ipython",
    "version": 3
   },
   "file_extension": ".py",
   "mimetype": "text/x-python",
   "name": "python",
   "nbconvert_exporter": "python",
   "pygments_lexer": "ipython3",
   "version": "3.10.9"
  }
 },
 "nbformat": 4,
 "nbformat_minor": 5
}
