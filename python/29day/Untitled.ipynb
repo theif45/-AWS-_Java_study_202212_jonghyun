{
 "cells": [
  {
   "cell_type": "markdown",
   "id": "fca4ac7e",
   "metadata": {},
   "source": [
    "### uci machine learning repo: abalone\n",
    "- 상황: 전복회를 사려는 사람.\n",
    "암수 구분해서 주문하는 것이 이득인지 알고 싶음\n",
    "\n",
    "- whole weight: 전체 무게\n",
    "- shucked weight: 살점 무게\n",
    "- vicera weight: 내장 무게\n",
    "- shell weight: 껍질 무게"
   ]
  }
 ],
 "metadata": {
  "kernelspec": {
   "display_name": "Python 3 (ipykernel)",
   "language": "python",
   "name": "python3"
  },
  "language_info": {
   "codemirror_mode": {
    "name": "ipython",
    "version": 3
   },
   "file_extension": ".py",
   "mimetype": "text/x-python",
   "name": "python",
   "nbconvert_exporter": "python",
   "pygments_lexer": "ipython3",
   "version": "3.10.9"
  }
 },
 "nbformat": 4,
 "nbformat_minor": 5
}
