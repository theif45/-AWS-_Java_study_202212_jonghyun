{
 "cells": [
  {
   "cell_type": "markdown",
   "id": "ffc653b5",
   "metadata": {},
   "source": [
    "## 전국푸드트럭허가구역표준데이터\n",
    "- 전국/지자체별 푸드트럭 허가구역 갯수\n",
    "- 전국/지자체별 푸드트럭 운영대수"
   ]
  },
  {
   "cell_type": "code",
   "execution_count": 1,
   "id": "a08f6eea",
   "metadata": {},
   "outputs": [],
   "source": [
    "import numpy as np\n",
    "import pandas as pd\n",
    "import matplotlib.pyplot as plt\n",
    "\n",
    "food_df = pd.read_csv('전국푸드트럭허가구역표준데이터.csv', encoding='cp949')"
   ]
  },
  {
   "cell_type": "code",
   "execution_count": 2,
   "id": "a5cd4d1d",
   "metadata": {},
   "outputs": [
    {
     "name": "stdout",
     "output_type": "stream",
     "text": [
      "(0, '허가구역명')\n",
      "(1, '장소유형')\n",
      "(2, '시도명')\n",
      "(3, '시군구명')\n",
      "(4, '소재지도로명주소')\n",
      "(5, '소재지지번주소')\n",
      "(6, '위도')\n",
      "(7, '경도')\n",
      "(8, '푸드트럭운영대수')\n",
      "(9, '허가구역사용료')\n",
      "(10, '허가구역운영시작일자')\n",
      "(11, '허가구역운영종료일자')\n",
      "(12, '허가구역휴무일')\n",
      "(13, '허가구역평일운영시작시각')\n",
      "(14, '허가구역평일운영종료시각')\n",
      "(15, '허가구역주말운영시작시각')\n",
      "(16, '허가구역주말운영종료시각')\n",
      "(17, '1월운영시작시각')\n",
      "(18, '1월운영종료시각')\n",
      "(19, '2월운영시작시각')\n",
      "(20, '2월운영종료시각')\n",
      "(21, '3월운영시작시각')\n",
      "(22, '3월운영종료시각')\n",
      "(23, '4월운영시작시각')\n",
      "(24, '4월운영종료시각')\n",
      "(25, '5월운영시작시각')\n",
      "(26, '5월운영종료시각')\n",
      "(27, '6월운영시작시각')\n",
      "(28, '6월운영종료시각')\n",
      "(29, '7월운영시작시각')\n",
      "(30, '7월운영종료시각')\n",
      "(31, '8월운영시작시각')\n",
      "(32, '8월운영종료시각')\n",
      "(33, '9월운영시작시각')\n",
      "(34, '9월운영종료시각')\n",
      "(35, '10월운영시작시각')\n",
      "(36, '10월운영종료시각')\n",
      "(37, '11월운영시작시각')\n",
      "(38, '11월운영종료시각')\n",
      "(39, '12월운영시작시각')\n",
      "(40, '12월운영종료시각')\n",
      "(41, '판매제한품목')\n",
      "(42, '관리기관명')\n",
      "(43, '관리기관전화번호')\n",
      "(44, '데이터기준일자')\n",
      "(45, '제공기관코드')\n",
      "(46, '제공기관명')\n"
     ]
    }
   ],
   "source": [
    "for i in enumerate(food_df.columns):\n",
    "    print(i)"
   ]
  },
  {
   "cell_type": "code",
   "execution_count": 3,
   "id": "6b7d7c72",
   "metadata": {},
   "outputs": [
    {
     "data": {
      "text/plain": [
       "경기도        80\n",
       "경상남도       48\n",
       "충청북도       41\n",
       "강원도        34\n",
       "충청남도       24\n",
       "서울특별시      17\n",
       "제주특별자치도    17\n",
       "광주광역시      14\n",
       "전라남도       13\n",
       "대구광역시      12\n",
       "경상북도       11\n",
       "부산광역시       9\n",
       "인천광역시       8\n",
       "전라북도        7\n",
       "대전광역시       6\n",
       "울산광역시       1\n",
       "Name: 시도명, dtype: int64"
      ]
     },
     "execution_count": 3,
     "metadata": {},
     "output_type": "execute_result"
    }
   ],
   "source": [
    "national_site_count = food_df.shape[0]\n",
    "food_df['시도명'].value_counts()"
   ]
  },
  {
   "cell_type": "code",
   "execution_count": 4,
   "id": "4dd6fc29",
   "metadata": {},
   "outputs": [
    {
     "data": {
      "text/plain": [
       "444.0"
      ]
     },
     "execution_count": 4,
     "metadata": {},
     "output_type": "execute_result"
    }
   ],
   "source": [
    "food_df['푸드트럭운영대수'].sum()"
   ]
  },
  {
   "cell_type": "code",
   "execution_count": 6,
   "id": "7ed32d6c",
   "metadata": {},
   "outputs": [
    {
     "data": {
      "text/html": [
       "<div>\n",
       "<style scoped>\n",
       "    .dataframe tbody tr th:only-of-type {\n",
       "        vertical-align: middle;\n",
       "    }\n",
       "\n",
       "    .dataframe tbody tr th {\n",
       "        vertical-align: top;\n",
       "    }\n",
       "\n",
       "    .dataframe thead th {\n",
       "        text-align: right;\n",
       "    }\n",
       "</style>\n",
       "<table border=\"1\" class=\"dataframe\">\n",
       "  <thead>\n",
       "    <tr style=\"text-align: right;\">\n",
       "      <th></th>\n",
       "      <th>푸드트럭운영대수</th>\n",
       "    </tr>\n",
       "    <tr>\n",
       "      <th>시도명</th>\n",
       "      <th></th>\n",
       "    </tr>\n",
       "  </thead>\n",
       "  <tbody>\n",
       "    <tr>\n",
       "      <th>강원도</th>\n",
       "      <td>25.0</td>\n",
       "    </tr>\n",
       "    <tr>\n",
       "      <th>경기도</th>\n",
       "      <td>136.0</td>\n",
       "    </tr>\n",
       "    <tr>\n",
       "      <th>경상남도</th>\n",
       "      <td>57.0</td>\n",
       "    </tr>\n",
       "    <tr>\n",
       "      <th>경상북도</th>\n",
       "      <td>17.0</td>\n",
       "    </tr>\n",
       "    <tr>\n",
       "      <th>광주광역시</th>\n",
       "      <td>14.0</td>\n",
       "    </tr>\n",
       "    <tr>\n",
       "      <th>대구광역시</th>\n",
       "      <td>4.0</td>\n",
       "    </tr>\n",
       "    <tr>\n",
       "      <th>대전광역시</th>\n",
       "      <td>12.0</td>\n",
       "    </tr>\n",
       "    <tr>\n",
       "      <th>부산광역시</th>\n",
       "      <td>17.0</td>\n",
       "    </tr>\n",
       "    <tr>\n",
       "      <th>서울특별시</th>\n",
       "      <td>35.0</td>\n",
       "    </tr>\n",
       "    <tr>\n",
       "      <th>울산광역시</th>\n",
       "      <td>1.0</td>\n",
       "    </tr>\n",
       "    <tr>\n",
       "      <th>인천광역시</th>\n",
       "      <td>9.0</td>\n",
       "    </tr>\n",
       "    <tr>\n",
       "      <th>전라남도</th>\n",
       "      <td>29.0</td>\n",
       "    </tr>\n",
       "    <tr>\n",
       "      <th>전라북도</th>\n",
       "      <td>10.0</td>\n",
       "    </tr>\n",
       "    <tr>\n",
       "      <th>제주특별자치도</th>\n",
       "      <td>41.0</td>\n",
       "    </tr>\n",
       "    <tr>\n",
       "      <th>충청남도</th>\n",
       "      <td>30.0</td>\n",
       "    </tr>\n",
       "    <tr>\n",
       "      <th>충청북도</th>\n",
       "      <td>7.0</td>\n",
       "    </tr>\n",
       "  </tbody>\n",
       "</table>\n",
       "</div>"
      ],
      "text/plain": [
       "         푸드트럭운영대수\n",
       "시도명              \n",
       "강원도          25.0\n",
       "경기도         136.0\n",
       "경상남도         57.0\n",
       "경상북도         17.0\n",
       "광주광역시        14.0\n",
       "대구광역시         4.0\n",
       "대전광역시        12.0\n",
       "부산광역시        17.0\n",
       "서울특별시        35.0\n",
       "울산광역시         1.0\n",
       "인천광역시         9.0\n",
       "전라남도         29.0\n",
       "전라북도         10.0\n",
       "제주특별자치도      41.0\n",
       "충청남도         30.0\n",
       "충청북도          7.0"
      ]
     },
     "execution_count": 6,
     "metadata": {},
     "output_type": "execute_result"
    }
   ],
   "source": [
    "sub_data = food_df[['시도명','푸드트럭운영대수']]\n",
    "sub_data.groupby('시도명').sum()"
   ]
  },
  {
   "cell_type": "code",
   "execution_count": 13,
   "id": "336addc1",
   "metadata": {},
   "outputs": [
    {
     "name": "stdout",
     "output_type": "stream",
     "text": [
      "전국 푸드트럭 허가구역 수: 342개\n"
     ]
    }
   ],
   "source": [
    "# 전국 푸드트럭 허가구역 수\n",
    "total_count = len(food_df)\n",
    "print(f\"전국 푸드트럭 허가구역 수: {total_count}개\")"
   ]
  },
  {
   "cell_type": "code",
   "execution_count": 17,
   "id": "b9b7bdac",
   "metadata": {},
   "outputs": [
    {
     "name": "stdout",
     "output_type": "stream",
     "text": [
      "        시도명  허가구역수\n",
      "0       강원도     34\n",
      "1       경기도     80\n",
      "2      경상남도     48\n",
      "3      경상북도     11\n",
      "4     광주광역시     14\n",
      "5     대구광역시     12\n",
      "6     대전광역시      6\n",
      "7     부산광역시      9\n",
      "8     서울특별시     17\n",
      "9     울산광역시      1\n",
      "10    인천광역시      8\n",
      "11     전라남도     13\n",
      "12     전라북도      7\n",
      "13  제주특별자치도     17\n",
      "14     충청남도     24\n",
      "15     충청북도     41\n"
     ]
    }
   ],
   "source": [
    "# 지자체별 푸드트럭 허가구역 수\n",
    "count_by_gov = food_df.groupby('시도명').size().reset_index(name='허가구역수')\n",
    "print(count_by_gov)"
   ]
  },
  {
   "cell_type": "code",
   "execution_count": 10,
   "id": "ffb62f51",
   "metadata": {},
   "outputs": [
    {
     "name": "stdout",
     "output_type": "stream",
     "text": [
      "전국 푸드트럭 운영대수: 444.0대\n"
     ]
    }
   ],
   "source": [
    "# 전국 푸드트럭 운영대수\n",
    "total_sum = food_df['푸드트럭운영대수'].sum()\n",
    "print(f\"전국 푸드트럭 운영대수: {total_sum}대\")"
   ]
  },
  {
   "cell_type": "code",
   "execution_count": 9,
   "id": "8703d1dd",
   "metadata": {},
   "outputs": [
    {
     "name": "stdout",
     "output_type": "stream",
     "text": [
      "        시도명   운영대수\n",
      "0       강원도   25.0\n",
      "1       경기도  136.0\n",
      "2      경상남도   57.0\n",
      "3      경상북도   17.0\n",
      "4     광주광역시   14.0\n",
      "5     대구광역시    4.0\n",
      "6     대전광역시   12.0\n",
      "7     부산광역시   17.0\n",
      "8     서울특별시   35.0\n",
      "9     울산광역시    1.0\n",
      "10    인천광역시    9.0\n",
      "11     전라남도   29.0\n",
      "12     전라북도   10.0\n",
      "13  제주특별자치도   41.0\n",
      "14     충청남도   30.0\n",
      "15     충청북도    7.0\n"
     ]
    }
   ],
   "source": [
    "# 지자체별 푸드트럭 운영대수\n",
    "sum_by_gov = food_df.groupby('시도명')['푸드트럭운영대수'].sum().reset_index(name='운영대수')\n",
    "print(sum_by_gov)"
   ]
  }
 ],
 "metadata": {
  "kernelspec": {
   "display_name": "Python 3 (ipykernel)",
   "language": "python",
   "name": "python3"
  },
  "language_info": {
   "codemirror_mode": {
    "name": "ipython",
    "version": 3
   },
   "file_extension": ".py",
   "mimetype": "text/x-python",
   "name": "python",
   "nbconvert_exporter": "python",
   "pygments_lexer": "ipython3",
   "version": "3.10.9"
  }
 },
 "nbformat": 4,
 "nbformat_minor": 5
}
