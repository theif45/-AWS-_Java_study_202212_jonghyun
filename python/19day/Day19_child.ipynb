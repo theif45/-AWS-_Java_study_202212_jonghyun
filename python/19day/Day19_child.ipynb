{
 "cells": [
  {
   "cell_type": "markdown",
   "id": "86cc82fd",
   "metadata": {},
   "source": [
    "### 전국어린이보호구역표준데이터\n",
    "- 시설종류별 CCTV 설치 여부 카운트 / 대수\n",
    "- 광역시도별, 시설종류별 카운트\n",
    "- 관할경찰서별 CCTV 대수\n",
    "- CCTV 평균 설치대수\n",
    "- 도로폭/CCTV 설치대수 상관도"
   ]
  },
  {
   "cell_type": "code",
   "execution_count": 1,
   "id": "f03593b5",
   "metadata": {},
   "outputs": [
    {
     "data": {
      "text/html": [
       "<div>\n",
       "<style scoped>\n",
       "    .dataframe tbody tr th:only-of-type {\n",
       "        vertical-align: middle;\n",
       "    }\n",
       "\n",
       "    .dataframe tbody tr th {\n",
       "        vertical-align: top;\n",
       "    }\n",
       "\n",
       "    .dataframe thead th {\n",
       "        text-align: right;\n",
       "    }\n",
       "</style>\n",
       "<table border=\"1\" class=\"dataframe\">\n",
       "  <thead>\n",
       "    <tr style=\"text-align: right;\">\n",
       "      <th></th>\n",
       "      <th>시설종류</th>\n",
       "      <th>대상시설명</th>\n",
       "      <th>소재지도로명주소</th>\n",
       "      <th>소재지지번주소</th>\n",
       "      <th>위도</th>\n",
       "      <th>경도</th>\n",
       "      <th>관리기관명</th>\n",
       "      <th>관할경찰서명</th>\n",
       "      <th>CCTV설치여부</th>\n",
       "      <th>CCTV설치대수</th>\n",
       "      <th>보호구역도로폭</th>\n",
       "      <th>데이터기준일자</th>\n",
       "      <th>제공기관코드</th>\n",
       "      <th>제공기관명</th>\n",
       "    </tr>\n",
       "  </thead>\n",
       "  <tbody>\n",
       "    <tr>\n",
       "      <th>0</th>\n",
       "      <td>유치원</td>\n",
       "      <td>성송초등학교병설유치원</td>\n",
       "      <td>전라북도 고창군 성송면 백토1길 10</td>\n",
       "      <td>전라북도 고창군 성송면 판정리 725</td>\n",
       "      <td>35.356252</td>\n",
       "      <td>126.643542</td>\n",
       "      <td>전라북도 고창군</td>\n",
       "      <td>고창경찰서</td>\n",
       "      <td>Y</td>\n",
       "      <td>NaN</td>\n",
       "      <td>9</td>\n",
       "      <td>2022-12-29</td>\n",
       "      <td>4780000</td>\n",
       "      <td>전라북도 고창군</td>\n",
       "    </tr>\n",
       "    <tr>\n",
       "      <th>1</th>\n",
       "      <td>초등학교</td>\n",
       "      <td>성송초등학교</td>\n",
       "      <td>전라북도 고창군 성송면 백토1길 10</td>\n",
       "      <td>전라북도 고창군 성송면 판정리 725</td>\n",
       "      <td>35.356252</td>\n",
       "      <td>126.643542</td>\n",
       "      <td>전라북도 고창군</td>\n",
       "      <td>고창경찰서</td>\n",
       "      <td>Y</td>\n",
       "      <td>2.0</td>\n",
       "      <td>9</td>\n",
       "      <td>2022-12-29</td>\n",
       "      <td>4780000</td>\n",
       "      <td>전라북도 고창군</td>\n",
       "    </tr>\n",
       "    <tr>\n",
       "      <th>2</th>\n",
       "      <td>유치원</td>\n",
       "      <td>신림초등학교병설유치원</td>\n",
       "      <td>전라북도 고창군 신림면 동법지길 61</td>\n",
       "      <td>전라북도 고창군 신림면 법지리 산31</td>\n",
       "      <td>35.494235</td>\n",
       "      <td>126.700198</td>\n",
       "      <td>전라북도 고창군</td>\n",
       "      <td>고창경찰서</td>\n",
       "      <td>Y</td>\n",
       "      <td>NaN</td>\n",
       "      <td>18</td>\n",
       "      <td>2022-12-29</td>\n",
       "      <td>4780000</td>\n",
       "      <td>전라북도 고창군</td>\n",
       "    </tr>\n",
       "  </tbody>\n",
       "</table>\n",
       "</div>"
      ],
      "text/plain": [
       "   시설종류        대상시설명              소재지도로명주소               소재지지번주소         위도  \\\n",
       "0   유치원  성송초등학교병설유치원  전라북도 고창군 성송면 백토1길 10  전라북도 고창군 성송면 판정리 725  35.356252   \n",
       "1  초등학교       성송초등학교  전라북도 고창군 성송면 백토1길 10  전라북도 고창군 성송면 판정리 725  35.356252   \n",
       "2   유치원  신림초등학교병설유치원  전라북도 고창군 신림면 동법지길 61  전라북도 고창군 신림면 법지리 산31  35.494235   \n",
       "\n",
       "           경도     관리기관명 관할경찰서명 CCTV설치여부  CCTV설치대수 보호구역도로폭     데이터기준일자  \\\n",
       "0  126.643542  전라북도 고창군  고창경찰서        Y       NaN       9  2022-12-29   \n",
       "1  126.643542  전라북도 고창군  고창경찰서        Y       2.0       9  2022-12-29   \n",
       "2  126.700198  전라북도 고창군  고창경찰서        Y       NaN      18  2022-12-29   \n",
       "\n",
       "    제공기관코드     제공기관명  \n",
       "0  4780000  전라북도 고창군  \n",
       "1  4780000  전라북도 고창군  \n",
       "2  4780000  전라북도 고창군  "
      ]
     },
     "execution_count": 1,
     "metadata": {},
     "output_type": "execute_result"
    }
   ],
   "source": [
    "import numpy as np\n",
    "import pandas as pd\n",
    "\n",
    "child_data = pd.read_csv('전국어린이보호구역표준데이터.csv', encoding='cp949')\n",
    "child_data.head(3)"
   ]
  },
  {
   "cell_type": "code",
   "execution_count": 8,
   "id": "b2438016",
   "metadata": {},
   "outputs": [
    {
     "data": {
      "text/plain": [
       "Y    11687\n",
       "N     3369\n",
       "Name: CCTV설치여부, dtype: int64"
      ]
     },
     "execution_count": 8,
     "metadata": {},
     "output_type": "execute_result"
    }
   ],
   "source": [
    "# child_data['시설종류'].value_counts()\n",
    "# child_data['CCTV설치여부'].value_counts()\n",
    "chi"
   ]
  }
 ],
 "metadata": {
  "kernelspec": {
   "display_name": "Python 3 (ipykernel)",
   "language": "python",
   "name": "python3"
  },
  "language_info": {
   "codemirror_mode": {
    "name": "ipython",
    "version": 3
   },
   "file_extension": ".py",
   "mimetype": "text/x-python",
   "name": "python",
   "nbconvert_exporter": "python",
   "pygments_lexer": "ipython3",
   "version": "3.10.9"
  }
 },
 "nbformat": 4,
 "nbformat_minor": 5
}
