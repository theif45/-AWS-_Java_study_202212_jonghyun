{
 "cells": [
  {
   "cell_type": "markdown",
   "id": "a3e9681b",
   "metadata": {},
   "source": [
    "* python list\n",
    "* numpy ndarray\n",
    "* for\n",
    "* if\n",
    "* function\n",
    "* argument\n",
    "* return value\n",
    "* assert\n",
    "* python random"
   ]
  },
  {
   "cell_type": "code",
   "execution_count": 1,
   "id": "0f55eb5e",
   "metadata": {},
   "outputs": [
    {
     "name": "stdout",
     "output_type": "stream",
     "text": [
      "[]\n",
      "['a']\n"
     ]
    }
   ],
   "source": [
    "# python list\n",
    "lista = []\n",
    "print(lista)\n",
    "\n",
    "lista.append('a')\n",
    "print(lista)"
   ]
  },
  {
   "cell_type": "code",
   "execution_count": 13,
   "id": "d0003721",
   "metadata": {},
   "outputs": [
    {
     "name": "stdout",
     "output_type": "stream",
     "text": [
      "['a'] <class 'numpy.ndarray'>\n",
      "[1 4]\n",
      "[0 2 4]\n",
      "[3 4]\n"
     ]
    }
   ],
   "source": [
    "# numpy ndarray\n",
    "import numpy as np\n",
    "\n",
    "array1 = np.array(lista)\n",
    "array2 = np.array([1,2,3,4])\n",
    "array3 = np.array([x for x in range(5)])\n",
    "print(array1, type(array1))\n",
    "print(array3[[1,4]])\n",
    "print(array3[array3 % 2 == 0])\n",
    "print(array3[array3 > 2])"
   ]
  },
  {
   "cell_type": "code",
   "execution_count": 17,
   "id": "bb6822da",
   "metadata": {},
   "outputs": [
    {
     "name": "stdout",
     "output_type": "stream",
     "text": [
      "3\n",
      "4\n",
      "[3 4]\n"
     ]
    }
   ],
   "source": [
    "# for, if\n",
    "# for i in array3:\n",
    "#     print(i)\n",
    "    \n",
    "for i in range(5):\n",
    "    if i > 2:\n",
    "        print(i)\n",
    "        \n",
    "print(array3[array3 > 2])"
   ]
  },
  {
   "cell_type": "code",
   "execution_count": 23,
   "id": "4a3d69dc",
   "metadata": {},
   "outputs": [
    {
     "name": "stdout",
     "output_type": "stream",
     "text": [
      "return_value :  200\n"
     ]
    }
   ],
   "source": [
    "# function\n",
    "def function_name(n):\n",
    "    return n * 10\n",
    "\n",
    "return_value = function_name(20)\n",
    "print('return_value : ', return_value)\n",
    "\n",
    "assert function_name(100) == 1000"
   ]
  },
  {
   "cell_type": "code",
   "execution_count": 127,
   "id": "2c17e0bd",
   "metadata": {},
   "outputs": [
    {
     "ename": "SyntaxError",
     "evalue": "invalid syntax (1925176370.py, line 8)",
     "output_type": "error",
     "traceback": [
      "\u001b[1;36m  Cell \u001b[1;32mIn[127], line 8\u001b[1;36m\u001b[0m\n\u001b[1;33m    print(listb?)\u001b[0m\n\u001b[1;37m               ^\u001b[0m\n\u001b[1;31mSyntaxError\u001b[0m\u001b[1;31m:\u001b[0m invalid syntax\n"
     ]
    }
   ],
   "source": [
    "import random\n",
    "\n",
    "random.seed(123)\n",
    "\n",
    "listb = []\n",
    "for i in range(10):\n",
    "    listb.append(random.randint(0,100))\n",
    "print(listb)\n",
    "\n",
    "listc = [random.randint(0,100) for _ in range(10)]\n",
    "print(listc)\n",
    "\n",
    "listb = np.array(listb)\n",
    "print(listb[listb > 50])\n",
    "print(len(listb[listb > 50]))"
   ]
  }
 ],
 "metadata": {
  "kernelspec": {
   "display_name": "Python 3 (ipykernel)",
   "language": "python",
   "name": "python3"
  },
  "language_info": {
   "codemirror_mode": {
    "name": "ipython",
    "version": 3
   },
   "file_extension": ".py",
   "mimetype": "text/x-python",
   "name": "python",
   "nbconvert_exporter": "python",
   "pygments_lexer": "ipython3",
   "version": "3.10.9"
  }
 },
 "nbformat": 4,
 "nbformat_minor": 5
}
