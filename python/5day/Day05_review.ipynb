{
 "cells": [
  {
   "cell_type": "code",
   "execution_count": 7,
   "id": "7e579573",
   "metadata": {},
   "outputs": [
    {
     "name": "stdout",
     "output_type": "stream",
     "text": [
      "10.5\n",
      "datatype:str\n"
     ]
    }
   ],
   "source": [
    "# int(), float(), bool(), str()\n",
    "\n",
    "try:\n",
    "    a = [20.5, '10.5']\n",
    "    for i in a:\n",
    "        int(i)\n",
    "except:\n",
    "    print(i)\n",
    "\n",
    "# a = [20.5, '10.5']\n",
    "a = 'string'\n",
    "if isinstance(a, list):\n",
    "    print('datatype:list')\n",
    "elif isinstance(a, str):\n",
    "    print('datatype:str')\n",
    "\n",
    "# list, tuple, set, dictionary"
   ]
  },
  {
   "cell_type": "code",
   "execution_count": 38,
   "id": "b913df1c",
   "metadata": {},
   "outputs": [
    {
     "name": "stdout",
     "output_type": "stream",
     "text": [
      "{'x': 10, 'y': 20, 'z': 30}\n",
      "10\n",
      "10\n",
      "{'x': 10, 'y': 50, 'z': 30}\n",
      "{'x': 10, 'y': 50, 'z': 30, 'newkey': 1234}\n",
      "dict_keys(['x', 'y', 'z', 'newkey'])\n",
      "dict_values([10, 50, 30, 1234])\n",
      "dict_items([('x', 10), ('y', 50), ('z', 30), ('newkey', 1234)])\n",
      "x 10\n",
      "y 50\n",
      "z 30\n",
      "newkey 1234\n"
     ]
    }
   ],
   "source": [
    "# dictionary : key - value\n",
    "dict1 = {'a':1, 'b':2, 'c':3}\n",
    "\n",
    "key_list = list('xyz')\n",
    "value_list = [10,20,30]\n",
    "\n",
    "x = zip(key_list,value_list)\n",
    "# [('x': 10), ('y': 20), ('z': 30)]\n",
    "dict2 = dict(x)\n",
    "print(dict2)\n",
    "\n",
    "print(dict2['x'])\n",
    "# 없으면 null 값 리턴\n",
    "print(dict2.get('x'))\n",
    "\n",
    "dict2['y']=50\n",
    "print(dict2)\n",
    "\n",
    "dict2['newkey'] = 1234\n",
    "print(dict2)\n",
    "\n",
    "klist = dict2.keys()\n",
    "vlist = dict2.values()\n",
    "print(klist)\n",
    "print(vlist)\n",
    "print(dict2.items())\n",
    "\n",
    "for e in dict2:\n",
    "    print(e, dict2[e])"
   ]
  },
  {
   "cell_type": "code",
   "execution_count": 8,
   "id": "7cebf96c",
   "metadata": {},
   "outputs": [
    {
     "name": "stdout",
     "output_type": "stream",
     "text": [
      "False\n"
     ]
    }
   ],
   "source": [
    "# if : -else:\n",
    "# if : =elif: -else:\n",
    "\n",
    "if '':\n",
    "    print('True')\n",
    "else:\n",
    "    # 0, 비어있는 문자열/ list\n",
    "    print('False')"
   ]
  },
  {
   "cell_type": "code",
   "execution_count": 10,
   "id": "f5ace684",
   "metadata": {},
   "outputs": [
    {
     "name": "stdout",
     "output_type": "stream",
     "text": [
      "0 a\n",
      "1 b\n",
      "2 c\n",
      "3 d\n",
      "4 e\n",
      "['a']\n"
     ]
    }
   ],
   "source": [
    "# for - range() / list; enumerate()\n",
    "lista = list('abcde')\n",
    "for i, c in enumerate(lista):\n",
    "    print(i,c)\n",
    "    \n",
    "# while - 조건\n",
    "while len(lista)>1:\n",
    "    lista.remove(lista[-1])\n",
    "print(lista)"
   ]
  },
  {
   "cell_type": "code",
   "execution_count": 17,
   "id": "8c698668",
   "metadata": {},
   "outputs": [
    {
     "name": "stdout",
     "output_type": "stream",
     "text": [
      "const\n",
      "======\n",
      "myclass2\n",
      "======\n",
      "best\n"
     ]
    }
   ],
   "source": [
    "# 함수, 클래스\n",
    "def myfunction1(n):\n",
    "    print('myfunction1',n)\n",
    "    return n*5\n",
    "    \n",
    "class myclass:\n",
    "    def mymethod1(self):\n",
    "        print('mymethod1')\n",
    "        \n",
    "class myclass2(myclass):\n",
    "    def __init__(self):\n",
    "        print('const')\n",
    "    def __del__(self):\n",
    "        print('best')\n",
    "    def __str__(self):\n",
    "        return 'myclass2'\n",
    " \n",
    "x = myclass2()     # __init__ const\n",
    "print('======')\n",
    "print(x)           # __str__\n",
    "print('======')\n",
    "del x              # __del__ dest"
   ]
  },
  {
   "cell_type": "code",
   "execution_count": 22,
   "id": "a98d10b3",
   "metadata": {},
   "outputs": [],
   "source": [
    "# file read\n",
    "with open('lott.csv') as f:\n",
    "    for line in f:\n",
    "        pass\n",
    "        # print(line)\n",
    "        \n",
    "# file write\n",
    "# 'w'; mode : 'w'rite / 'r'ead, 'b'inary\n",
    "# 'wb' : write binary\n",
    "with open('text.txt', 'w') as f:\n",
    "    for i in range(3,10):\n",
    "        f.write('test string {}\\n'.format(i))"
   ]
  },
  {
   "cell_type": "code",
   "execution_count": 26,
   "id": "581f32d2",
   "metadata": {},
   "outputs": [
    {
     "name": "stdout",
     "output_type": "stream",
     "text": [
      "['a', 'b', 'c', 'd']\n"
     ]
    }
   ],
   "source": [
    "import pickle\n",
    "\n",
    "lista = list('abcd')\n",
    "\n",
    "# write\n",
    "with open('pickle_test.pickle','wb') as f:\n",
    "    pickle.dump(lista, f)\n",
    "    \n",
    "# read\n",
    "with open('pickle_test.pickle', 'rb') as f:\n",
    "    listb = pickle.load(f)\n",
    "print(listb)"
   ]
  }
 ],
 "metadata": {
  "kernelspec": {
   "display_name": "Python 3 (ipykernel)",
   "language": "python",
   "name": "python3"
  },
  "language_info": {
   "codemirror_mode": {
    "name": "ipython",
    "version": 3
   },
   "file_extension": ".py",
   "mimetype": "text/x-python",
   "name": "python",
   "nbconvert_exporter": "python",
   "pygments_lexer": "ipython3",
   "version": "3.10.9"
  }
 },
 "nbformat": 4,
 "nbformat_minor": 5
}
