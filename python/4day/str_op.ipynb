{
 "cells": [
  {
   "cell_type": "code",
   "execution_count": 7,
   "id": "c86f92d6",
   "metadata": {},
   "outputs": [
    {
     "name": "stdout",
     "output_type": "stream",
     "text": [
      "[['건강증진센터명,건강증진센터구분,소재지도로명주소,소재지지번주소,위도,경도,건강증진업무내용,운영시작시각,운영종료시각,휴무일정보,건물면적,의사수,간호사수,사회복지사수,영양사수,기타인력현황,기타이용안내,운영기관전화번호,운영기관명,관리기관전화번호,관리기관명,데이터기준일자,제공기관코드,제공기관명\\n'], ['맞춤형건강클리닉,건강증진,인천광역시 연수구 함박뫼로 13,인천광역시 연수구 청학동 465-4,37.41913159,126.6711606,\"치매검진, 당뇨.고혈압 상담 및 검사, 뇌경색.심뇌혈관질환, 정신건강 상담', '09:00,18:00,\"일요일, 공휴일', '30,0,5,0,0,0,검사전날 오후8시 전까지 식사마치고 검사당일 아침 금식,032-749-8104,맞춤형건강클리닉,032-749-8122,인천광역시 연수구 보건소,2021-10-25,3520000,인천광역시 연수구\\n'], ['정신건강복지센터,정신보건,경상북도 청송군 청송읍 의료원길 19,경상북도 청송군 청송읍 금곡리 1056-54,36.431132,129.051804,중증정신질환자 관리+정신건강증진사업+아동청소년 정신건강증진사업+자살예방사업,09:00,17:00,토+일+공휴일,413.87,0,4,1,0,0,,054-870-7362,경상북도 청송군 보건의료원,054-870-7361,경상북도 청송군 보건의료원,2022-12-09,5160000,경상북도 청송군\\n']]\n",
      "1\n"
     ]
    }
   ],
   "source": [
    "import re\n",
    "\n",
    "csv_data=[]\n",
    "with open('전국건강증진센터표준데이터.csv', encoding='cp949') as f:\n",
    "    for line in f:\n",
    "        start = -1\n",
    "        for i, c in enumerate(line):\n",
    "            if start !=1 and c=='\"':\n",
    "                start = 1\n",
    "            if start==1 and c==',':\n",
    "                line[i]='+';\n",
    "            if start ==1 and c=='\"':\n",
    "                start = -1\n",
    "        csv_data.append(line.split('\",'))\n",
    "        \n",
    "print(csv_data[:3])\n",
    "print(len(csv_data[0]))"
   ]
  },
  {
   "cell_type": "code",
   "execution_count": 2,
   "id": "7df2aee3",
   "metadata": {},
   "outputs": [
    {
     "data": {
      "text/plain": [
       "24"
      ]
     },
     "execution_count": 2,
     "metadata": {},
     "output_type": "execute_result"
    }
   ],
   "source": [
    "# replacing.\n",
    "s='맞춤형건강클리닉,건강증진,인천광역시 연수구 함박뫼로 13,인천광역시 연수구 청학동 465-4,37.41913159,126.6711606,\"치매검진, 당뇨.고혈압 상담 및 검사, 뇌경색.심뇌혈관질환, 정신건강 상담\",09:00,18:00,\"일요일, 공휴일\",30,0,5,0,0,0,검사전날 오후8시 전까지 식사마치고 검사당일 아침 금식,032-749-8104,맞춤형건강클리닉,032-749-8122,인천광역시 연수구 보건소,2021-10-25,3520000,인천광역시 연수구'\n",
    "\n",
    "start = False\n",
    "s_list=list(s)\n",
    "for i, c in enumerate(s_list):\n",
    "    if start==False and c=='\"':\n",
    "        start = True\n",
    "    elif start == True and c==',':\n",
    "        s_list[i]='+'\n",
    "    elif start == True and c=='\"':\n",
    "        start = False\n",
    "s = ''.join(s_list)\n",
    "len(s.split(','))"
   ]
  },
  {
   "cell_type": "code",
   "execution_count": 3,
   "id": "f7ab512d",
   "metadata": {},
   "outputs": [],
   "source": [
    "def replace_inblock(s):\n",
    "    start = False\n",
    "    s_list=list(s)\n",
    "    for i, c in enumerate(s_list):\n",
    "        if start==False and c=='\"':\n",
    "            start = True\n",
    "        elif start == True and c==',':\n",
    "            s_list[i]='+'\n",
    "        elif start == True and c=='\"':\n",
    "            start = False\n",
    "    return ''.join(s_list)"
   ]
  },
  {
   "cell_type": "code",
   "execution_count": 4,
   "id": "1df0a766",
   "metadata": {},
   "outputs": [
    {
     "name": "stdout",
     "output_type": "stream",
     "text": [
      "['맞춤형건강클리닉', '건강증진', '인천광역시 연수구 함박뫼로 13', '인천광역시 연수구 청학동 465-4', '37.41913159', '126.6711606', '\"치매검진, 당뇨.고혈압 상담 및 검사, 뇌경색.심뇌혈관질환, 정신건강 상담\"', '09:00', '18:00', '\"일요일, 공휴일\"', '30', '0', '5', '0', '0', '0', '검사전날 오후8시 전까지 식사마치고 검사당일 아침 금식', '032-749-8104', '맞춤형건강클리닉', '032-749-8122', '인천광역시 연수구 보건소', '2021-10-25', '3520000', '인천광역시 연수구']\n",
      "24\n"
     ]
    }
   ],
   "source": [
    "#reading pattern\n",
    "s='맞춤형건강클리닉,건강증진,인천광역시 연수구 함박뫼로 13,인천광역시 연수구 청학동 465-4,37.41913159,126.6711606,\"치매검진, 당뇨.고혈압 상담 및 검사, 뇌경색.심뇌혈관질환, 정신건강 상담\",09:00,18:00,\"일요일, 공휴일\",30,0,5,0,0,0,검사전날 오후8시 전까지 식사마치고 검사당일 아침 금식,032-749-8104,맞춤형건강클리닉,032-749-8122,인천광역시 연수구 보건소,2021-10-25,3520000,인천광역시 연수구'\n",
    "\n",
    "block_start = False\n",
    "start_index = 0\n",
    "ret_list=[]\n",
    "for i, c in enumerate(s):\n",
    "    if block_start==False:\n",
    "        if c==',':\n",
    "            ret_list.append(s[start_index:i])\n",
    "            start_index=i+1\n",
    "        elif c=='\"':\n",
    "            block_start=True\n",
    "            start_index = i\n",
    "    else:\n",
    "        if c=='\"':\n",
    "            block_start=False\n",
    "if s[-1]!=',':\n",
    "    ret_list.append(s[start_index:])\n",
    "print(ret_list)\n",
    "print(len(ret_list))"
   ]
  },
  {
   "cell_type": "code",
   "execution_count": 5,
   "id": "def0f0f0",
   "metadata": {},
   "outputs": [],
   "source": [
    "def my_split(s):\n",
    "    block_start = False\n",
    "    start_index = 0\n",
    "    ret_list=[]\n",
    "    for i, c in enumerate(s):\n",
    "        if block_start==False:\n",
    "            if c==',':\n",
    "                ret_list.append(s[start_index:i])\n",
    "                start_index=i+1\n",
    "            elif c=='\"':\n",
    "                block_start=True\n",
    "                start_index = i\n",
    "        else:\n",
    "            if c=='\"':\n",
    "                block_start=False\n",
    "    if s[-1]!=',':\n",
    "        ret_list.append(s[start_index:])\n",
    "    return ret_list"
   ]
  },
  {
   "cell_type": "code",
   "execution_count": 111,
   "id": "7bbfbfed",
   "metadata": {},
   "outputs": [
    {
     "name": "stdout",
     "output_type": "stream",
     "text": [
      "24\n",
      "['건강증진센터명', '건강증진센터구분', '소재지도로명주소', '소재지지번주소', '위도', '경도', '건강증진업무내용', '운영시작시각', '운영종료시각', '휴무일정보', '건물면적', '의사수', '간호사수', '사회복지사수', '영양사수', '기타인력현황', '기타이용안내', '운영기관전화번호', '운영기관명', '관리기관전화번호', '관리기관명', '데이터기준일자', '제공기관코드', '제공기관명\\n']\n"
     ]
    }
   ],
   "source": [
    "csv_data=[]\n",
    "with open('전국건강증진센터표준데이터.csv', encoding='cp949') as f:\n",
    "    for line in f:\n",
    "        csv_data.append(my_split(line))\n",
    "print(len(csv_data[0]))\n",
    "print(csv_data[0])"
   ]
  },
  {
   "cell_type": "code",
   "execution_count": 6,
   "id": "0d1a55ae",
   "metadata": {},
   "outputs": [
    {
     "name": "stdout",
     "output_type": "stream",
     "text": [
      "{1, 2, 3, 4, 5}\n"
     ]
    }
   ],
   "source": [
    "len_list=[]\n",
    "for e in csv_data:\n",
    "    len_list.append(len(e))\n",
    "print(set(len_list))"
   ]
  }
 ],
 "metadata": {
  "kernelspec": {
   "display_name": "Python 3 (ipykernel)",
   "language": "python",
   "name": "python3"
  },
  "language_info": {
   "codemirror_mode": {
    "name": "ipython",
    "version": 3
   },
   "file_extension": ".py",
   "mimetype": "text/x-python",
   "name": "python",
   "nbconvert_exporter": "python",
   "pygments_lexer": "ipython3",
   "version": "3.10.9"
  }
 },
 "nbformat": 4,
 "nbformat_minor": 5
}
