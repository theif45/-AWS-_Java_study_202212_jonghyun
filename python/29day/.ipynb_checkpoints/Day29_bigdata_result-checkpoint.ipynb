{
 "cells": [
  {
   "cell_type": "markdown",
   "id": "ca5aa066",
   "metadata": {},
   "source": [
    "### 시각화 전략\n",
    "- 시각화의 목표\n",
    "- 시각화의 범위\n",
    "- 시각화의 개발절차\n",
    "\n",
    "### 시각화 요구사항\n",
    "- 사용자 수준 / 취향\n",
    "- 시나리오 / 스토리보드 개발\n",
    "\n",
    "### 데이터 시각화 명세서\n",
    "- 시각화 표현의 형태, 규칙, 패턴, 상호작용\n",
    "\n",
    "### 시각화 명세서 기반 설계\n",
    "- 시각화 UI 설계\n"
   ]
  },
  {
   "cell_type": "markdown",
   "id": "c5077c36",
   "metadata": {},
   "source": [
    "## 예시 : 2륜차 등록대수\n",
    "\n",
    "### 시각화 전략\n",
    "- 시각화의 목표 : 코로나와 배달 이륜차 등록대수 관계\n",
    "- 시각화의 범위 : 부산광역시\n",
    "- 시각화의 개발절차 : kosis.kr에서 데이터 확보, 분석 후 시각화\n",
    "\n",
    "### 시각화 요구사항\n",
    "- 사용자 수준 / 취향 : 배달 알바를 해야 하는가 고민 중\n",
    "- 시나리오 / 스토리보드 개발 : 코로나 전에 비해 코로나 기간중 폭발적 증가세 보임. 코로나 이후 급격한 감소세. 이전보다는 많은것이 사실이나 많이 빠졌음\n",
    "\n",
    "### 데이터 시각화 명세서\n",
    "- 시각화 표현의 형태, 규칙, 패턴, 상호작용: 년도별 lineplot, 시기별 중형 이륜차 비율, 눈으로 크기 확인 용이할 경우 숫자 표시 하지 않음\n",
    "\n",
    "### 시각화 명세서 기반 설계\n",
    "- 시각화 UI 설계 : 상단 절반 년도별 lineplot, 하단 3등분하여 코로나 이전, 코로나 기간, 코로나 이후 크기별 비율 pie chart"
   ]
  },
  {
   "cell_type": "code",
   "execution_count": 5,
   "id": "dde9059a",
   "metadata": {},
   "outputs": [],
   "source": [
    "import numpy as np"
   ]
  }
 ],
 "metadata": {
  "kernelspec": {
   "display_name": "Python 3 (ipykernel)",
   "language": "python",
   "name": "python3"
  },
  "language_info": {
   "codemirror_mode": {
    "name": "ipython",
    "version": 3
   },
   "file_extension": ".py",
   "mimetype": "text/x-python",
   "name": "python",
   "nbconvert_exporter": "python",
   "pygments_lexer": "ipython3",
   "version": "3.10.9"
  }
 },
 "nbformat": 4,
 "nbformat_minor": 5
}
