{
 "cells": [
  {
   "cell_type": "markdown",
   "id": "3175bbf5",
   "metadata": {},
   "source": [
    "### 전국평생학습강좌표준데이터\n",
    "- drop: 교육시작시간, 교육종료시간, 강좌내용, 운영기관전화번호\n",
    "- column별 적절한 dtype 지정 --> astype()이용\n",
    "- (원본값 수정방법, 1:현재값 업데이트, 2:astype의 키워드 옵션사용)\n",
    "- (astype의 키워드 옵션 사용방법 --> Documentation참조)\n",
    "- 수치값:np.int64/np.float64\n",
    "- 종류를 구분하는 문자열(label): category\n",
    "- 날짜:np.datetime64\n",
    "- 이외:object\n",
    "- 전체 DataFrame에 대한 describe() 결과보기 (describe 키워드 옵션 --> Documentation 참조)\n",
    "- 항목(column)별 결측치/오류치/이상치 갯수 파악"
   ]
  },
  {
   "cell_type": "code",
   "execution_count": 26,
   "id": "8e389f0c",
   "metadata": {},
   "outputs": [],
   "source": [
    "import numpy as np\n",
    "import pandas as pd\n",
    "import matplotlib.pyplot as plt\n",
    "\n",
    "pd_data = pd.read_csv('전국평생학습강좌표준데이터.csv', encoding='cp949')\n",
    "\n",
    "drop_list=['교육시작시각', '교육종료시각', '강좌내용', '운영기관전화번호']\n",
    "pd_data.drop(drop_list,axis=1,inplace=True)\n",
    "\n",
    "# print(pd_data.shape)\n",
    "# print(pd_data.dtypes)\n",
    "# print(pd_data.head(3))\n",
    "# for e in enumerate(pd_data.columns):\n",
    "#     print(e)"
   ]
  },
  {
   "cell_type": "code",
   "execution_count": 27,
   "id": "c8b9987d",
   "metadata": {},
   "outputs": [
    {
     "name": "stdout",
     "output_type": "stream",
     "text": [
      "강좌명                        object\n",
      "강사명                        object\n",
      "교육시작일자             datetime64[ns]\n",
      "교육종료일자             datetime64[ns]\n",
      "교육대상구분                   category\n",
      "교육방법구분                   category\n",
      "운영요일                       object\n",
      "교육장소                       object\n",
      "강좌정원수                       int64\n",
      "수강료                         int64\n",
      "교육장도로명주소                   object\n",
      "운영기관명                      object\n",
      "접수시작일자             datetime64[ns]\n",
      "접수종료일자             datetime64[ns]\n",
      "접수방법구분                   category\n",
      "선정방법구분                   category\n",
      "홈페이지주소                     object\n",
      "직업능력개발훈련비지원강좌여부          category\n",
      "학점은행제평가(학점)인정여부          category\n",
      "평생학습계좌제평가인정여부            category\n",
      "데이터기준일자            datetime64[ns]\n",
      "제공기관코드                   category\n",
      "제공기관명                      object\n",
      "dtype: object\n"
     ]
    }
   ],
   "source": [
    "for col_name in pd_data.columns:\n",
    "    if '일자' in col_name:\n",
    "        pd_data[col_name] = pd_data[col_name].astype(np.datetime64, copy=False)\n",
    "    elif ('구분' in col_name) or ('여부' in col_name) or ('코드' in col_name):\n",
    "        pd_data[col_name] = pd_data[col_name].astype('category', copy=False)\n",
    "\n",
    "print(pd_data.dtypes)"
   ]
  },
  {
   "cell_type": "code",
   "execution_count": 38,
   "id": "3ae68703",
   "metadata": {},
   "outputs": [
    {
     "name": "stdout",
     "output_type": "stream",
     "text": [
      "운영요일\n",
      "교육장소\n",
      "접수시작일자\n",
      "접수종료일자\n",
      "선정방법구분\n",
      "홈페이지주소\n",
      "       value_count NaN_count\n",
      "운영요일         22007      4528\n",
      "교육장소         23755      2780\n",
      "접수시작일자       21516      5019\n",
      "접수종료일자       21474      5061\n",
      "선정방법구분       22273      4262\n",
      "홈페이지주소       24221      2314\n"
     ]
    }
   ],
   "source": [
    "# pd_data.hasnans\n",
    "t = []\n",
    "for col_name in pd_data.columns:\n",
    "    if pd_data[col_name].hasnans == True:\n",
    "        print(col_name)\n",
    "        cnt_s = pd_data[col_name].isna().value_counts()\n",
    "        cnt = cnt_s.to_numpy()\n",
    "        t.append([col_name, cnt[0], cnt[1]])\n",
    "# print(t)\n",
    "t = np.array(t)\n",
    "missing_df = pd.DataFrame(t[:,1:], index=t[:,0], columns=['value_count', 'NaN_count'])\n",
    "# missing_df.index = missing_df['col_name']\n",
    "print(missing_df)"
   ]
  },
  {
   "cell_type": "code",
   "execution_count": 41,
   "id": "ffaa1c46",
   "metadata": {},
   "outputs": [
    {
     "data": {
      "text/plain": [
       "목          2556\n",
       "화          2524\n",
       "수          2434\n",
       "월          1937\n",
       "금          1851\n",
       "           ... \n",
       "월+화+토         1\n",
       "수요일+일요일       1\n",
       "월요일+일요일       1\n",
       "격주토요일         1\n",
       "월 +수 +금       1\n",
       "Name: 운영요일, Length: 218, dtype: int64"
      ]
     },
     "execution_count": 41,
     "metadata": {},
     "output_type": "execute_result"
    }
   ],
   "source": [
    "# f1 = pd_data['운영요일'].isna()\n",
    "# pd_data['운영요일'][f1]\n",
    "pd_data['운영요일'].value_counts()\n",
    "\n",
    "# 운영요일별 카운트시 운영요일을 특정할수 없으므로,\n",
    "# 삭제 조치하도록 함."
   ]
  },
  {
   "cell_type": "code",
   "execution_count": 55,
   "id": "0da2751c",
   "metadata": {},
   "outputs": [
    {
     "name": "stderr",
     "output_type": "stream",
     "text": [
      "C:\\Users\\ITPS\\AppData\\Local\\Temp\\ipykernel_6048\\103700298.py:11: SettingWithCopyWarning: \n",
      "A value is trying to be set on a copy of a slice from a DataFrame\n",
      "\n",
      "See the caveats in the documentation: https://pandas.pydata.org/pandas-docs/stable/user_guide/indexing.html#returning-a-view-versus-a-copy\n",
      "  pd_data['교육장소'][filter2]='온라인'\n"
     ]
    },
    {
     "data": {
      "text/plain": [
       "False    24706\n",
       "True      1829\n",
       "Name: 교육장소, dtype: int64"
      ]
     },
     "execution_count": 55,
     "metadata": {},
     "output_type": "execute_result"
    }
   ],
   "source": [
    "# pd_data['교육장소'].value_counts()\n",
    "# '교육방법 구분'이 '온라인'으로 되어있을 경우, '온라인'으로 결측치를 대체\n",
    "# 그렇지 않을경우, 삭제\n",
    "# bool list 필터링 사용\n",
    "pd_data['교육방법구분'].value_counts()\n",
    "filter1 = pd_data['교육장소'].isna()\n",
    "\n",
    "pd_data['교육방법구분'][filter1].value_counts\n",
    "\n",
    "filter2 = pd_data['교육방법구분']=='온라인'\n",
    "pd_data['교육장소'][filter2]='온라인'\n",
    "\n",
    "pd_data['교육장소'].isna().value_counts()\n",
    "# 접수시작/종료일자 결측치\n",
    "# '교육방법 구분'이 '온라인'일 경우, 1월 1일 부터 12월 31일까지의 값으로 대체\n",
    "# 그렇지 않을경우, 삭제"
   ]
  },
  {
   "cell_type": "code",
   "execution_count": 56,
   "id": "f1d4aeb8",
   "metadata": {},
   "outputs": [],
   "source": [
    "for i in range(pd_data.shape[0]):\n",
    "    row = pd_data.iloc[i, :]\n",
    "    if (row['교육장소']==np.NaN) and (row['교육방법구분']=='온라인'):\n",
    "         row['교육장소']='온라인'\n",
    "            \n"
   ]
  },
  {
   "cell_type": "code",
   "execution_count": 43,
   "id": "661e89ed",
   "metadata": {},
   "outputs": [
    {
     "data": {
      "text/plain": [
       "선착순         16861\n",
       "추첨           1219\n",
       "제한없음          516\n",
       "추첨+선착순        451\n",
       "인터넷 추첨        392\n",
       "            ...  \n",
       "방문접수후 면접        1\n",
       "방문심사            1\n",
       "읍면 추천           1\n",
       "군부대별 선정         1\n",
       "자체심사            1\n",
       "Name: 선정방법구분, Length: 72, dtype: int64"
      ]
     },
     "execution_count": 43,
     "metadata": {},
     "output_type": "execute_result"
    }
   ],
   "source": [
    "pd_data['선정방법구분'].value_counts()\n",
    "\n",
    "# 결측치, 삭제"
   ]
  }
 ],
 "metadata": {
  "kernelspec": {
   "display_name": "Python 3 (ipykernel)",
   "language": "python",
   "name": "python3"
  },
  "language_info": {
   "codemirror_mode": {
    "name": "ipython",
    "version": 3
   },
   "file_extension": ".py",
   "mimetype": "text/x-python",
   "name": "python",
   "nbconvert_exporter": "python",
   "pygments_lexer": "ipython3",
   "version": "3.10.9"
  }
 },
 "nbformat": 4,
 "nbformat_minor": 5
}
