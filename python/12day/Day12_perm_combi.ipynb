{
 "cells": [
  {
   "cell_type": "code",
   "execution_count": 6,
   "id": "2f11dcbf",
   "metadata": {},
   "outputs": [],
   "source": [
    "def fact(n):\n",
    "    ret = 1\n",
    "    while n>1:\n",
    "        ret *= n\n",
    "        n -= 1\n",
    "    return ret\n",
    "\n",
    "def fact_r(n):\n",
    "    if n==2:\n",
    "        return n\n",
    "    return fact_r(n-1)*n\n",
    "\n",
    "def perm_f(n, r):\n",
    "    return fact(n)/fact(n-r)\n",
    "\n",
    "def combi_f(n, r):\n",
    "    return fact(n)/(fact(n-r)*fact(r))\n",
    "\n",
    "def count_with_replacement_order(pool, sel_count):  # all\n",
    "    if sel_count == 1:\n",
    "        return len(pool), [[x] for x in pool]\n",
    "    a, b = count_with_replacement_order(pool, sel_count-1)\n",
    "    r = []\n",
    "    for x in pool:\n",
    "        for b_i in b:\n",
    "            r.append(b_i+[x])\n",
    "    return len(r), r    \n",
    "\n",
    "def perm_pool(pool, r):\n",
    "    if r == 1:\n",
    "        return len(pool), [[x] for x in pool]\n",
    "    ret = []\n",
    "    for x in pool:\n",
    "        pool_copy = [y for y in pool]\n",
    "        pool_copy.remove(x)\n",
    "        a, b = perm_pool(pool_copy, r-1)\n",
    "        for b_i in b:\n",
    "            ret.append(b_i+[x])\n",
    "    return len(ret), ret\n",
    "\n",
    "def combi_pool(pool, r):\n",
    "    a , b = perm_pool(pool, r)\n",
    "    r = []\n",
    "    for b_i in b:\n",
    "        r.append(set(b_i))\n",
    "    f = []\n",
    "    for r_i in r:\n",
    "        f.append(r_i)\n",
    "        while r_i in r:\n",
    "            r.remove(r_i)\n",
    "    if r:\n",
    "        f.append(r[0])\n",
    "    return len(f), f"
   ]
  },
  {
   "cell_type": "code",
   "execution_count": null,
   "id": "2d975055",
   "metadata": {},
   "outputs": [],
   "source": [
    "# 주사위를 3번 던져 나올수 있는 수 있는 모든 경우의 수 6**3\n",
    "# -- with replacment\n",
    "\n",
    "# 1에서부터 6까지 숫자가 적힌 공이 든 박스에서 3개의 공을 꺼낼때\n",
    "# 나올수 있는 모든 경우의 수\n",
    "# -- without replacement\n",
    "\n",
    "#1에서부터 6까지 숫자가 적힌 공이 든 박스에서 2개의 공를 꺼내면서\n",
    "#꺼낸공을 다시 집어넣고, 섞어서 뽑았을 때 나올수 있는 모든 경우의 수\n",
    "# -- with peplacement"
   ]
  },
  {
   "cell_type": "code",
   "execution_count": null,
   "id": "0bc171b0",
   "metadata": {},
   "outputs": [],
   "source": [
    "# permutataion (순열) :(a,b,c)m (b,c,a)==> 순서의 개념, 둘은 다른것\n",
    "#1에서부터 6까지 숫자가 적힌 공이 든 박스에서 2개의 모든 경우의 신 : 6*5*4\n",
    "#without replacement\n",
    "\n",
    "#n=6\n",
    "#r=2\n",
    "# n!/r!"
   ]
  },
  {
   "cell_type": "code",
   "execution_count": null,
   "id": "1a7baa35",
   "metadata": {},
   "outputs": [],
   "source": [
    "#combination (조합) :(a,b,c),(b,c,a)--> 순서의 개념, 둘은 같은것\n",
    "\n",
    "#1에서부터 6까지 숫자가 적힌 공이 든 박스에서 2개의 공를 꺼내면서\n",
    "#꺼낸공을 다시 집어넣고, 섞어서 뽑았을 때 나올수 있는 모든 경우의 수\n",
    "# -- with peplacement\n",
    "\n",
    "# permutation(순열)에서 구멍이 같은 것을 제외 --? 조합"
   ]
  },
  {
   "cell_type": "code",
   "execution_count": 13,
   "id": "9c8340e7",
   "metadata": {},
   "outputs": [
    {
     "ename": "TypeError",
     "evalue": "unsupported operand type(s) for /: 'tuple' and 'int'",
     "output_type": "error",
     "traceback": [
      "\u001b[1;31m---------------------------------------------------------------------------\u001b[0m",
      "\u001b[1;31mTypeError\u001b[0m                                 Traceback (most recent call last)",
      "Cell \u001b[1;32mIn[13], line 24\u001b[0m\n\u001b[0;32m     21\u001b[0m \u001b[38;5;28;01mdef\u001b[39;00m \u001b[38;5;21mcombi\u001b[39m(n,r):\n\u001b[0;32m     22\u001b[0m     \u001b[38;5;28;01mreturn\u001b[39;00m perm(n,r)\u001b[38;5;241m/\u001b[39m fact_r(r)\n\u001b[1;32m---> 24\u001b[0m \u001b[43mcombi\u001b[49m\u001b[43m(\u001b[49m\u001b[38;5;241;43m6\u001b[39;49m\u001b[43m,\u001b[49m\u001b[38;5;241;43m2\u001b[39;49m\u001b[43m)\u001b[49m\n",
      "Cell \u001b[1;32mIn[13], line 22\u001b[0m, in \u001b[0;36mcombi\u001b[1;34m(n, r)\u001b[0m\n\u001b[0;32m     21\u001b[0m \u001b[38;5;28;01mdef\u001b[39;00m \u001b[38;5;21mcombi\u001b[39m(n,r):\n\u001b[1;32m---> 22\u001b[0m     \u001b[38;5;28;01mreturn\u001b[39;00m \u001b[43mperm\u001b[49m\u001b[43m(\u001b[49m\u001b[43mn\u001b[49m\u001b[43m,\u001b[49m\u001b[43mr\u001b[49m\u001b[43m)\u001b[49m\u001b[38;5;241;43m/\u001b[39;49m\u001b[43m \u001b[49m\u001b[43mfact_r\u001b[49m\u001b[43m(\u001b[49m\u001b[43mr\u001b[49m\u001b[43m)\u001b[49m\n",
      "\u001b[1;31mTypeError\u001b[0m: unsupported operand type(s) for /: 'tuple' and 'int'"
     ]
    }
   ],
   "source": [
    "import numpy as np\n",
    "#재귀함수 : 자기 자신을 부르는 함수\n",
    "# - 탈출조건이 중요\n",
    "\n",
    "def fact_r(n):\n",
    "    if n==2 :\n",
    "        return n\n",
    "    return fact_r(n-1)*n\n",
    "\n",
    "def fact_np(n):\n",
    "    return np.arange(2,n+1).prod()\n",
    "    \n",
    "assert fact_np(6)== fact_r(6)\n",
    "    \n",
    "    \n",
    "# 6! = 6*5*4*3*2*1 = 6*5!\n",
    "\n",
    "def perm(n,r):\n",
    "    return fact_r(n),fact_r(n-r)\n",
    "\n",
    "def combi(n,r):\n",
    "    return perm(n,r)/ fact_r(r)\n",
    "\n",
    "combi(6,2)"
   ]
  },
  {
   "cell_type": "code",
   "execution_count": 16,
   "id": "74fc2adf",
   "metadata": {},
   "outputs": [
    {
     "data": {
      "text/plain": [
       "(19,\n",
       " [{'a', 'b', 'c'},\n",
       "  {'a', 'b', 'e'},\n",
       "  {'a', 'c', 'd'},\n",
       "  {'a', 'c', 'f'},\n",
       "  {'a', 'd', 'e'},\n",
       "  {'a', 'c', 'e'},\n",
       "  {'a', 'd', 'f'},\n",
       "  {'a', 'b', 'f'},\n",
       "  {'a', 'b', 'd'},\n",
       "  {'b', 'd', 'e'},\n",
       "  {'b', 'd', 'f'},\n",
       "  {'b', 'c', 'e'},\n",
       "  {'c', 'd', 'f'},\n",
       "  {'c', 'e', 'f'},\n",
       "  {'b', 'c', 'd'},\n",
       "  {'b', 'e', 'f'},\n",
       "  {'a', 'e', 'f'},\n",
       "  {'d', 'e', 'f'},\n",
       "  {'b', 'c', 'f'}])"
      ]
     },
     "execution_count": 16,
     "metadata": {},
     "output_type": "execute_result"
    }
   ],
   "source": [
    "# count_with_replacement_order(list('abcdef'),3)\n",
    "combi_pool(list('abcdef'),3)"
   ]
  }
 ],
 "metadata": {
  "kernelspec": {
   "display_name": "Python 3 (ipykernel)",
   "language": "python",
   "name": "python3"
  },
  "language_info": {
   "codemirror_mode": {
    "name": "ipython",
    "version": 3
   },
   "file_extension": ".py",
   "mimetype": "text/x-python",
   "name": "python",
   "nbconvert_exporter": "python",
   "pygments_lexer": "ipython3",
   "version": "3.10.9"
  }
 },
 "nbformat": 4,
 "nbformat_minor": 5
}
