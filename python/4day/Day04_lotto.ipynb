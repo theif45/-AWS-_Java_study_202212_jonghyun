{
 "cells": [
  {
   "cell_type": "code",
   "execution_count": 1,
   "id": "b393a6dd",
   "metadata": {},
   "outputs": [
    {
     "name": "stdout",
     "output_type": "stream",
     "text": [
      "[['5', '17', '26', '27', '35', '38', '1'], ['21', '26', '30', '32', '33', '35', '44'], ['6', '12', '31', '35', '38', '43', '17']]\n"
     ]
    },
    {
     "data": {
      "text/plain": [
       "1"
      ]
     },
     "execution_count": 1,
     "metadata": {},
     "output_type": "execute_result"
    }
   ],
   "source": [
    "csv_data=[]\n",
    "with open('lott.CSV') as f:\n",
    "    for line in f:\n",
    "        csv_data.append(line[:-1].split(','))\n",
    "        #csv_data.append(line.replace('\\n','').split(','))\n",
    "        \n",
    "print(csv_data[:3])\n",
    "int(csv_data[0][-1])"
   ]
  },
  {
   "cell_type": "code",
   "execution_count": 2,
   "id": "4aadd0fd",
   "metadata": {},
   "outputs": [
    {
     "name": "stdout",
     "output_type": "stream",
     "text": [
      "[[5, 17, 26, 27, 35, 38, 1], [21, 26, 30, 32, 33, 35, 44], [6, 12, 31, 35, 38, 43, 17]]\n"
     ]
    }
   ],
   "source": [
    "for e in csv_data:\n",
    "    for i, s in enumerate(e):\n",
    "        e[i] = int(s)\n",
    "print(csv_data[:3])"
   ]
  },
  {
   "cell_type": "code",
   "execution_count": 3,
   "id": "6e9923b7",
   "metadata": {},
   "outputs": [
    {
     "name": "stdout",
     "output_type": "stream",
     "text": [
      "[5, 17, 26, 27, 35, 38, 1]\n",
      "21.285714285714285\n",
      "None\n",
      "[1, 5, 17, 26, 27, 35, 38]\n",
      "[5, 17, 26, 27, 35, 38]\n",
      "26\n",
      "26.5\n",
      "[-16.285714285714285, -4.285714285714285, 4.714285714285715, 5.714285714285715, 13.714285714285715, 16.714285714285715, -20.285714285714285]\n",
      "202.9047619047619\n",
      "14.244464254746891\n"
     ]
    }
   ],
   "source": [
    "import math\n",
    "# 평균\n",
    "def mean(num_list):\n",
    "    return sum(num_list)/len(num_list)\n",
    "# 중간값\n",
    "def median(num_list):\n",
    "    num_list.sort()\n",
    "    if len(num_list)%2==1:\n",
    "        #//는 몫만 가지고 옴\n",
    "        i = (len(num_list))//2\n",
    "        return num_list[i]\n",
    "    else:\n",
    "        i = len(num_list)//2\n",
    "        return (num_list[i] + num_list[i-1])/2\n",
    "# 편차\n",
    "def dev(num_list):\n",
    "    m = mean(num_list)\n",
    "    return [x-m for x in num_list]\n",
    "# 분산\n",
    "def var(num_list):\n",
    "    n = len(num_list)\n",
    "    d = dev(num_list)\n",
    "    return sum([x*x for x in d])/(n-1)\n",
    "# 표준편차\n",
    "def stdev(num_list):\n",
    "    return math.sqrt(var(num_list))\n",
    "\n",
    "game1 = csv_data[0]\n",
    "print(game1)\n",
    "print(mean(game1))\n",
    "print(game1.sort())\n",
    "print(game1)\n",
    "print(game1[1:])\n",
    "print(median(game1))\n",
    "print(median(game1[1:]))\n",
    "\n",
    "# test를 하여 기능 확인\n",
    "assert median([5, 17, 26, 27, 35, 38, 1])==26\n",
    "assert median([5, 17, 26, 27, 35, 38])==26.5\n",
    "\n",
    "print(dev([5, 17, 26, 27, 35, 38, 1]))\n",
    "print(var([5, 17, 26, 27, 35, 38, 1]))\n",
    "print(stdev([5, 17, 26, 27, 35, 38, 1]))"
   ]
  },
  {
   "cell_type": "code",
   "execution_count": 4,
   "id": "d17df575",
   "metadata": {},
   "outputs": [
    {
     "name": "stdout",
     "output_type": "stream",
     "text": [
      "[1, 5, 17, 26, 27, 35, 38]\n",
      "after sorted: [5, 17, 26, 27, 35, 38, 1]\n",
      "[1, 5, 17, 26, 27, 35, 38]\n"
     ]
    }
   ],
   "source": [
    "# in-place\n",
    "list_a = [5, 17, 26, 27, 35, 38, 1]\n",
    "# 원본을 그대로 놔두는 것\n",
    "print(sorted(list_a))\n",
    "print('after sorted:', list_a)\n",
    "# 원본을 건드리는 것 = in-place\n",
    "list_a.sort()\n",
    "print(list_a)"
   ]
  },
  {
   "cell_type": "code",
   "execution_count": 5,
   "id": "76d03e25",
   "metadata": {},
   "outputs": [
    {
     "name": "stdout",
     "output_type": "stream",
     "text": [
      "list_a: [5, 17, 26, 27, 35, 38, 1]\n",
      "list_b: [5, 17, 26, 27, 35, 38, 1]\n",
      "list_a: [100, 17, 26, 27, 35, 38, 1]\n",
      "list_b: [100, 17, 26, 27, 35, 38, 1]\n"
     ]
    }
   ],
   "source": [
    "# reference\n",
    "list_a = [5, 17, 26, 27, 35, 38, 1]\n",
    "# shallow copy, 얕은 복사\n",
    "list_b = list_a \n",
    "print('list_a:', list_a)\n",
    "print('list_b:', list_b)\n",
    "list_a[0]=100\n",
    "print('list_a:', list_a)\n",
    "print('list_b:', list_b)"
   ]
  },
  {
   "cell_type": "code",
   "execution_count": 6,
   "id": "2e0a5b0d",
   "metadata": {},
   "outputs": [],
   "source": [
    "# reference\n",
    "list_a = [5, 17, 26, 27, 35, 38, 1]\n",
    "list_b = []\n",
    "# deep copy\n",
    "for i in list_a:\n",
    "    list_b.append(i)\n",
    "    "
   ]
  },
  {
   "cell_type": "code",
   "execution_count": 7,
   "id": "71680a0b",
   "metadata": {},
   "outputs": [
    {
     "name": "stdout",
     "output_type": "stream",
     "text": [
      "list_a: [5, 17, 26, 27, 35, 38, 1]\n",
      "list_b: [5, 17, 26, 27, 35, 38, 1]\n",
      "list_a: [100, 17, 26, 27, 35, 38, 1]\n",
      "list_b: [100, 17, 26, 27, 35, 38, 1]\n"
     ]
    }
   ],
   "source": [
    "# reference\n",
    "list_a = [5, 17, 26, 27, 35, 38, 1]\n",
    "list_b = []\n",
    "# deep copy\n",
    "for i in list_a:\n",
    "    list_b.append(i)\n",
    "    \n",
    "list_b = list_a \n",
    "print('list_a:', list_a)\n",
    "print('list_b:', list_b)\n",
    "list_a[0]=100\n",
    "print('list_a:', list_a)\n",
    "print('list_b:', list_b)"
   ]
  }
 ],
 "metadata": {
  "kernelspec": {
   "display_name": "Python 3 (ipykernel)",
   "language": "python",
   "name": "python3"
  },
  "language_info": {
   "codemirror_mode": {
    "name": "ipython",
    "version": 3
   },
   "file_extension": ".py",
   "mimetype": "text/x-python",
   "name": "python",
   "nbconvert_exporter": "python",
   "pygments_lexer": "ipython3",
   "version": "3.10.9"
  }
 },
 "nbformat": 4,
 "nbformat_minor": 5
}
