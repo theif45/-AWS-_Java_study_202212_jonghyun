{
 "cells": [
  {
   "cell_type": "code",
   "execution_count": 25,
   "id": "ed977473",
   "metadata": {},
   "outputs": [
    {
     "name": "stdout",
     "output_type": "stream",
     "text": [
      "[['시설명', '시설장', '주소', '전화번호', '운영단체', '운영단체 구분', '홈페이지 주소', '경도', '위도\\n'], ['중구노인복지관', '이희배', '부산광역시 중구 책방골목길3-1', '051-241-2591', '로사리오 카리타스', '사회복지법인', 'www.junggusilver.or.kr', '129.026183', '35.10414052\\n'], ['중구노인복지관분관', '이희배', '부산광역시 중구 영주로 8-1', '051-462-0316', '로사리오 카리타스', '사회복지법인', 'www.junggusilver.or.kr', '129.0325002', '35.11016227\\n'], ['부민노인복지관', '김문희', '부산광역시 서구 부용로 30', '051-240-3531', '불국토', '사회복지법인', 'bmsenior.bulgukto.or.kr', '129.0180414', '35.10743629\\n'], ['서구노인복지관', '강동인', '부산광역시 서구 장군산로46번길21', '051-240-3541', '대한불교천태종복지재단', '사회복지법인', 'www.woorinoin.or.kr', '129.014347', '35.07312369\\n'], ['동구노인종합복지관', '김채영', '부산광역시 동구 홍곡중로5번길24', '051-467-7887', '새샘복지재단', '사회복지법인', 'www.hyojason.or.kr', '129.0404219', '35.12580585\\n'], ['동구분관', '김채영', '부산광역시 동구 초량남로 12', '051-714-6092', '새샘복지재단', '사회복지법인', 'www.hyojason.or.kr', '129.034846', '35.11956188\\n'], ['동구자성대노인복지관', '이은숙', '부산광역시 동구 자성로140번길32', '051-632-7597', '봉생사회복지회', '사회복지법인', 'silver.bsdonggu.go.kr', '129.0648411', '35.13564405\\n'], ['영도구노인복지관', '박석원', '부산광역시 영도구 절영로29번길14', '051-417-6344', '혜원', '사회복지법인', 'www.youngdosenior.or.kr', '129.0400929', '35.09133006\\n'], ['영도구노인복지관분관', '박석원', '부산광역시 영도구 봉래길 372', '051-418-6300', '혜원', '사회복지법인', 'www.youngdosenior.or.kr', '129.056705', '35.09111411\\n'], ['부산진구 노인장애인복지관', '한정민', '부산광역시 부산진구 전포대로300번길 6 585-1', '051-808-8090', '주는사랑복지재단', '사회복지법인', 'www.onbokji.org', '129.0658484', '35.16404711\\n'], ['부산진구 노인복지관분관', '한정민', '부산광역시 부산진구 신암로135번길35', '051-714-6090', '주는사랑복지재단', '사회복지법인', 'www.onbokji.org', '129.0484094', '35.15146279\\n'], ['다사랑복합문화예술회관', '박성일', '부산광역시 부산진구 대학로60', '051-891-1743', '대한불교천태종복지재단', '사회복지법인', 'www.다사랑시니어.org', '129.0344581', '35.1504381\\n'], ['동래구노인복지관', '정응석', '부산광역시 동래구 명륜로207번길18', '051-554-6252', '박영학원', '학교법인', 'www.dnswc.or.kr', '129.0819668', '35.21238058\\n'], ['남구노인복지관', '박시우', '부산광역시 남구 못골로 97-10', '051-628-1291', '동명문화학원', '학교법인', 'www.ngswc.or.kr', '129.093257', '35.13618392\\n'], ['문현노인복지관', '변정희', '부산광역시 남구 고동골로 11', '051-938-9988', '문수복지재단', '사회복지법인', 'www.moonsubokji.or.kr', '129.070997', '35.13791\\n'], ['실버벨노인복지관', '양인우', '부산광역시 북구 시랑로114번길45', '051-337-5959', '장선종합복지공동체', '사회복지법인', 'www.실버벨.kr', '129.0086824', '35.19427427\\n'], ['어진샘노인종합복지관', '최윤정', '부산광역시 해운대구 재반로12번길16', '051-784-8008', '인천사회사업재단', '사회복지법인', 'www.ojin.saem.or.kr', '129.1275334', '35.17966779\\n'], ['장산노인복지관', '정영욱', '부산광역시 해운대구 좌동로 126', '051-704-9141', '의안복지재단', '사회복지법인', 'www.haeundaejangsan.or.kr', '129.1787854', '35.17384305\\n'], ['반여분관노인복지관', '정영욱', '부산광역시 해운대구 선수촌로207번길 79', '051-529-9141', '의안복지재단', '사회복지법인', 'banyeo.haeundaejangsan.or.kr', '129.1221252', '35.21107713\\n'], ['사하사랑채복지관', '윤현주', '부산광역시 사하구 사리로 35', '051-293-9544', '호산나복지재단', '사회복지법인', 'www.sahasilver.org', '128.9987036', '35.10300921\\n'], ['사하사랑채노인복지관분관', '윤현주', '부산광역시 사하구 다대로130번길34', '051-207-9544', '호산나복지재단', '사회복지법인', 'www.sahasilver.org', '128.9772442', '35.09159221\\n'], ['신장림사랑채노인복지관', '김동현', '부산광역시 다대로 300번길8', '051-266-8515', '늘기쁜마을', '사회복지법인', 'www.sjrsilver.or.kr', '128.9761521', '35.0754297\\n'], ['금정구노인복지관', '조수경', '부산광역시 금정구 청룡예전로 110', '051-792-7200', '범어', '사회복지법인', 'www.geumjeongsilver.kr', '129.0847903', '35.27917441\\n'], ['강서구노인복지관', '윤원찬', '부산광역시 강서구 체육공원로 39', '051-972-4851', '로사리오 카리타스', '사회복지법인', 'www.gangseosenior.or.kr', '128.9734691', '35.20732663\\n'], ['가덕도동노인복지관', '김익현', '부산광역시 강서구 동선길 10', '051-972-0048', '주는사랑복지재단', '사회복지법인', 'www.mjnoin.ai-sw.net', '128.8316513', '35.05664095\\n'], ['명지노인종합복지관', '김익현', '부산광역시 강서구 명지국제13로 33', '051-712-7000', '주는사랑복지재단', '사회복지법인', 'www.mjnoin.ai-sw.net', '128.922964', '35.110585\\n'], ['부산광역시노인종합복지관', '임종린', '부산광역시 연제구 거제천로230번길18', '051-853-1872', '대한노인회 부산광역시연합회', '사단법인', 'www.youngsilver.or.kr', '129.0821016', '35.19110671\\n'], ['연제구노인복지관', '이운철', '부산광역시 연제구 고분로 188', '051-863-9988', '나온', '사회복지법인', 'www.yjsilver.kr', '129.1027986', '35.18536723\\n'], ['수영구노인복지관', '이병호', '부산광역시 수영구 황령대로 489번길83', '051-759-6070', '불국토', '사회복지법인', '6070.bulgukto.or.kr', '129.1111735', '35.14004997\\n'], ['광안노인복지관', '손정환', '부산광역시 수영구 장대골로 75-8', '051-715-6099', '불국토', '사회복지법인', '6099.bulgukto.or.kr', '129.1048646', '35.15956873\\n'], ['사상구 노인복지관', '김익현', '부산광역시 사상구 가야대로 196번길51', '051-325-7555', '주는사랑복지재단', '사회복지법인', 'www.sasang-senior.kr', '128.9948438', '35.14725485\\n'], ['사상구노인복지관 분관', '김익현', '부산광역시 사상구 모라로 91-8', '051-317-7555', '주는사랑복지재단', '사회복지법인', 'www.sasang-senior.kr', '128.9858423', '35.15976786\\n'], ['기장군노인복지관', '이봉규', '부산광역시 기장군 기장읍 대청로22번길61', '051-724-3443', '기장군 도시관리공단', '공단', 'www.nosasa.or.kr', '129.2125973', '35.23509949\\n'], ['기장군 노인복지관 일광 분관', '손병수', '부산광역시 기장군 일광면 이천리 930-2', '051-792-4870', '기장군 도시관리공단', '공단', 'www.nosasa.or.kr', '129.2367325', '35.26753833\\n'], ['정관노인복지관', '금동숙', '부산광역시 기장군 정관읍 정관중앙로 83-14', '051-792-4920', '기장군 도시관리공단', '공단', 'www.nosasa.or.kr', '129.179083', '35.32475608\\n']]\n",
      "[['중구노인복지관', '이희배', '부산광역시 중구 책방골목길3-1', '051-241-2591', '로사리오 카리타스', '사회복지법인', 'www.junggusilver.or.kr', '129.026183', '35.10414052\\n'], ['중구노인복지관분관', '이희배', '부산광역시 중구 영주로 8-1', '051-462-0316', '로사리오 카리타스', '사회복지법인', 'www.junggusilver.or.kr', '129.0325002', '35.11016227\\n'], ['부민노인복지관', '김문희', '부산광역시 서구 부용로 30', '051-240-3531', '불국토', '사회복지법인', 'bmsenior.bulgukto.or.kr', '129.0180414', '35.10743629\\n'], ['서구노인복지관', '강동인', '부산광역시 서구 장군산로46번길21', '051-240-3541', '대한불교천태종복지재단', '사회복지법인', 'www.woorinoin.or.kr', '129.014347', '35.07312369\\n'], ['동구노인종합복지관', '김채영', '부산광역시 동구 홍곡중로5번길24', '051-467-7887', '새샘복지재단', '사회복지법인', 'www.hyojason.or.kr', '129.0404219', '35.12580585\\n'], ['동구분관', '김채영', '부산광역시 동구 초량남로 12', '051-714-6092', '새샘복지재단', '사회복지법인', 'www.hyojason.or.kr', '129.034846', '35.11956188\\n'], ['동구자성대노인복지관', '이은숙', '부산광역시 동구 자성로140번길32', '051-632-7597', '봉생사회복지회', '사회복지법인', 'silver.bsdonggu.go.kr', '129.0648411', '35.13564405\\n'], ['영도구노인복지관', '박석원', '부산광역시 영도구 절영로29번길14', '051-417-6344', '혜원', '사회복지법인', 'www.youngdosenior.or.kr', '129.0400929', '35.09133006\\n'], ['영도구노인복지관분관', '박석원', '부산광역시 영도구 봉래길 372', '051-418-6300', '혜원', '사회복지법인', 'www.youngdosenior.or.kr', '129.056705', '35.09111411\\n'], ['부산진구 노인장애인복지관', '한정민', '부산광역시 부산진구 전포대로300번길 6 585-1', '051-808-8090', '주는사랑복지재단', '사회복지법인', 'www.onbokji.org', '129.0658484', '35.16404711\\n'], ['부산진구 노인복지관분관', '한정민', '부산광역시 부산진구 신암로135번길35', '051-714-6090', '주는사랑복지재단', '사회복지법인', 'www.onbokji.org', '129.0484094', '35.15146279\\n'], ['다사랑복합문화예술회관', '박성일', '부산광역시 부산진구 대학로60', '051-891-1743', '대한불교천태종복지재단', '사회복지법인', 'www.다사랑시니어.org', '129.0344581', '35.1504381\\n'], ['동래구노인복지관', '정응석', '부산광역시 동래구 명륜로207번길18', '051-554-6252', '박영학원', '학교법인', 'www.dnswc.or.kr', '129.0819668', '35.21238058\\n'], ['남구노인복지관', '박시우', '부산광역시 남구 못골로 97-10', '051-628-1291', '동명문화학원', '학교법인', 'www.ngswc.or.kr', '129.093257', '35.13618392\\n'], ['문현노인복지관', '변정희', '부산광역시 남구 고동골로 11', '051-938-9988', '문수복지재단', '사회복지법인', 'www.moonsubokji.or.kr', '129.070997', '35.13791\\n'], ['실버벨노인복지관', '양인우', '부산광역시 북구 시랑로114번길45', '051-337-5959', '장선종합복지공동체', '사회복지법인', 'www.실버벨.kr', '129.0086824', '35.19427427\\n'], ['어진샘노인종합복지관', '최윤정', '부산광역시 해운대구 재반로12번길16', '051-784-8008', '인천사회사업재단', '사회복지법인', 'www.ojin.saem.or.kr', '129.1275334', '35.17966779\\n'], ['장산노인복지관', '정영욱', '부산광역시 해운대구 좌동로 126', '051-704-9141', '의안복지재단', '사회복지법인', 'www.haeundaejangsan.or.kr', '129.1787854', '35.17384305\\n'], ['반여분관노인복지관', '정영욱', '부산광역시 해운대구 선수촌로207번길 79', '051-529-9141', '의안복지재단', '사회복지법인', 'banyeo.haeundaejangsan.or.kr', '129.1221252', '35.21107713\\n'], ['사하사랑채복지관', '윤현주', '부산광역시 사하구 사리로 35', '051-293-9544', '호산나복지재단', '사회복지법인', 'www.sahasilver.org', '128.9987036', '35.10300921\\n'], ['사하사랑채노인복지관분관', '윤현주', '부산광역시 사하구 다대로130번길34', '051-207-9544', '호산나복지재단', '사회복지법인', 'www.sahasilver.org', '128.9772442', '35.09159221\\n'], ['신장림사랑채노인복지관', '김동현', '부산광역시 다대로 300번길8', '051-266-8515', '늘기쁜마을', '사회복지법인', 'www.sjrsilver.or.kr', '128.9761521', '35.0754297\\n'], ['금정구노인복지관', '조수경', '부산광역시 금정구 청룡예전로 110', '051-792-7200', '범어', '사회복지법인', 'www.geumjeongsilver.kr', '129.0847903', '35.27917441\\n'], ['강서구노인복지관', '윤원찬', '부산광역시 강서구 체육공원로 39', '051-972-4851', '로사리오 카리타스', '사회복지법인', 'www.gangseosenior.or.kr', '128.9734691', '35.20732663\\n'], ['가덕도동노인복지관', '김익현', '부산광역시 강서구 동선길 10', '051-972-0048', '주는사랑복지재단', '사회복지법인', 'www.mjnoin.ai-sw.net', '128.8316513', '35.05664095\\n'], ['명지노인종합복지관', '김익현', '부산광역시 강서구 명지국제13로 33', '051-712-7000', '주는사랑복지재단', '사회복지법인', 'www.mjnoin.ai-sw.net', '128.922964', '35.110585\\n'], ['부산광역시노인종합복지관', '임종린', '부산광역시 연제구 거제천로230번길18', '051-853-1872', '대한노인회 부산광역시연합회', '사단법인', 'www.youngsilver.or.kr', '129.0821016', '35.19110671\\n'], ['연제구노인복지관', '이운철', '부산광역시 연제구 고분로 188', '051-863-9988', '나온', '사회복지법인', 'www.yjsilver.kr', '129.1027986', '35.18536723\\n'], ['수영구노인복지관', '이병호', '부산광역시 수영구 황령대로 489번길83', '051-759-6070', '불국토', '사회복지법인', '6070.bulgukto.or.kr', '129.1111735', '35.14004997\\n'], ['광안노인복지관', '손정환', '부산광역시 수영구 장대골로 75-8', '051-715-6099', '불국토', '사회복지법인', '6099.bulgukto.or.kr', '129.1048646', '35.15956873\\n'], ['사상구 노인복지관', '김익현', '부산광역시 사상구 가야대로 196번길51', '051-325-7555', '주는사랑복지재단', '사회복지법인', 'www.sasang-senior.kr', '128.9948438', '35.14725485\\n'], ['사상구노인복지관 분관', '김익현', '부산광역시 사상구 모라로 91-8', '051-317-7555', '주는사랑복지재단', '사회복지법인', 'www.sasang-senior.kr', '128.9858423', '35.15976786\\n'], ['기장군노인복지관', '이봉규', '부산광역시 기장군 기장읍 대청로22번길61', '051-724-3443', '기장군 도시관리공단', '공단', 'www.nosasa.or.kr', '129.2125973', '35.23509949\\n'], ['기장군 노인복지관 일광 분관', '손병수', '부산광역시 기장군 일광면 이천리 930-2', '051-792-4870', '기장군 도시관리공단', '공단', 'www.nosasa.or.kr', '129.2367325', '35.26753833\\n'], ['정관노인복지관', '금동숙', '부산광역시 기장군 정관읍 정관중앙로 83-14', '051-792-4920', '기장군 도시관리공단', '공단', 'www.nosasa.or.kr', '129.179083', '35.32475608\\n']]\n"
     ]
    }
   ],
   "source": [
    "# with 구문을 벗어나면 자동으로 close를 해줌\n",
    "data_list = []\n",
    "with open('부산광역시_노인복지관 현황_20230101.csv') as f:\n",
    "    for line in f:\n",
    "        data_list.append(line.split(','))\n",
    "print(data_list)\n",
    "data_list = data_list[1:]\n",
    "print(data_list)"
   ]
  },
  {
   "cell_type": "code",
   "execution_count": 6,
   "id": "9588fdc7",
   "metadata": {},
   "outputs": [
    {
     "name": "stdout",
     "output_type": "stream",
     "text": [
      "['중구', '중구', '서구', '서구', '동구', '동구', '동구', '영도구', '영도구', '부산진구', '부산진구', '부산진구', '동래구', '남구', '남구', '북구', '해운대구', '해운대구', '해운대구', '사하구', '사하구', '다대로', '금정구', '강서구', '강서구', '강서구', '연제구', '연제구', '수영구', '수영구', '사상구', '사상구', '기장군', '기장군', '기장군']\n",
      "21\n",
      "['중구', '중구', '서구', '서구', '동구', '동구', '동구', '영도구', '영도구', '부산진구', '부산진구', '부산진구', '동래구', '남구', '남구', '북구', '해운대구', '해운대구', '해운대구', '사하구', '사하구', '사하구', '금정구', '강서구', '강서구', '강서구', '연제구', '연제구', '수영구', '수영구', '사상구', '사상구', '기장군', '기장군', '기장군']\n"
     ]
    }
   ],
   "source": [
    "# 주소만 출력\n",
    "gu_list = []\n",
    "for i in data_list:\n",
    "    address = i[2]\n",
    "    address_list = address.split()\n",
    "    gu_list.append(address_list[1])\n",
    "print(gu_list)\n",
    "print(gu_list.index('다대로'))\n",
    "gu_list[21] = '사하구'\n",
    "print(gu_list)"
   ]
  },
  {
   "cell_type": "code",
   "execution_count": 7,
   "id": "502c0721",
   "metadata": {},
   "outputs": [
    {
     "name": "stdout",
     "output_type": "stream",
     "text": [
      "사하구 3\n",
      "동구 3\n",
      "동래구 1\n",
      "연제구 2\n",
      "중구 2\n",
      "해운대구 3\n",
      "금정구 1\n",
      "사상구 2\n",
      "기장군 3\n",
      "강서구 3\n",
      "서구 2\n",
      "북구 1\n",
      "영도구 2\n",
      "수영구 2\n",
      "남구 2\n",
      "부산진구 3\n",
      "['사하구', '동구', '동래구', '연제구', '중구', '해운대구', '금정구', '사상구', '기장군', '강서구', '서구', '북구', '영도구', '수영구', '남구', '부산진구']\n",
      "[3, 3, 1, 2, 2, 3, 1, 2, 3, 3, 2, 1, 2, 2, 2, 3]\n"
     ]
    }
   ],
   "source": [
    "gu_set = set(gu_list)\n",
    "d_gu_list = []\n",
    "d_gu_count = []\n",
    "for i in gu_set:\n",
    "    print(i,gu_list.count(i))\n",
    "    d_gu_list.append(i)\n",
    "    d_gu_count.append(gu_list.count(i))\n",
    "print(d_gu_list)\n",
    "print(d_gu_count)"
   ]
  },
  {
   "cell_type": "code",
   "execution_count": 8,
   "id": "b61af619",
   "metadata": {},
   "outputs": [
    {
     "name": "stdout",
     "output_type": "stream",
     "text": [
      "{'사하구': 3, '동구': 3, '동래구': 1, '연제구': 2, '중구': 2, '해운대구': 3, '금정구': 1, '사상구': 2, '기장군': 3, '강서구': 3, '서구': 2, '북구': 1, '영도구': 2, '수영구': 2, '남구': 2, '부산진구': 3}\n"
     ]
    }
   ],
   "source": [
    "d1 = dict(zip(d_gu_list, d_gu_count))\n",
    "print(d1)"
   ]
  },
  {
   "cell_type": "code",
   "execution_count": 9,
   "id": "ca3042e5",
   "metadata": {},
   "outputs": [
    {
     "name": "stdout",
     "output_type": "stream",
     "text": [
      "value 5\n"
     ]
    },
    {
     "data": {
      "text/plain": [
       "<function __main__.<lambda>(n)>"
      ]
     },
     "execution_count": 9,
     "metadata": {},
     "output_type": "execute_result"
    }
   ],
   "source": [
    "def fn1(n):\n",
    "    print('value {}'.format(n))\n",
    "\n",
    "fn1(5)\n",
    "\n",
    "lambda n: print('value{}.form(n)')"
   ]
  },
  {
   "cell_type": "code",
   "execution_count": 26,
   "id": "8d73db54",
   "metadata": {},
   "outputs": [
    {
     "name": "stdout",
     "output_type": "stream",
     "text": [
      "dict_items([('사하구', 3), ('동구', 3), ('동래구', 1), ('연제구', 2), ('중구', 2), ('해운대구', 3), ('금정구', 1), ('사상구', 2), ('기장군', 3), ('강서구', 3), ('서구', 2), ('북구', 1), ('영도구', 2), ('수영구', 2), ('남구', 2), ('부산진구', 3)])\n",
      "[('동래구', 1), ('금정구', 1), ('북구', 1), ('연제구', 2), ('중구', 2), ('사상구', 2), ('서구', 2), ('영도구', 2), ('수영구', 2), ('남구', 2), ('사하구', 3), ('동구', 3), ('해운대구', 3), ('기장군', 3), ('강서구', 3), ('부산진구', 3)]\n"
     ]
    }
   ],
   "source": [
    "print(d1.items())\n",
    "def fn10(x):\n",
    "    return x[1]\n",
    "# d1_sorted = dict(sorted(d1.items(), key = lambda x: x[1], reverse = True))\n",
    "d1_sorted = dict(sorted(d1.items(), key = fn10))\n",
    "print(d1_sorted)"
   ]
  },
  {
   "cell_type": "code",
   "execution_count": 18,
   "id": "f6469b6f",
   "metadata": {},
   "outputs": [
    {
     "name": "stdout",
     "output_type": "stream",
     "text": [
      "Help on function open in module io:\n",
      "\n",
      "open(file, mode='r', buffering=-1, encoding=None, errors=None, newline=None, closefd=True, opener=None)\n",
      "    Open file and return a stream.  Raise OSError upon failure.\n",
      "    \n",
      "    file is either a text or byte string giving the name (and the path\n",
      "    if the file isn't in the current working directory) of the file to\n",
      "    be opened or an integer file descriptor of the file to be\n",
      "    wrapped. (If a file descriptor is given, it is closed when the\n",
      "    returned I/O object is closed, unless closefd is set to False.)\n",
      "    \n",
      "    mode is an optional string that specifies the mode in which the file\n",
      "    is opened. It defaults to 'r' which means open for reading in text\n",
      "    mode.  Other common values are 'w' for writing (truncating the file if\n",
      "    it already exists), 'x' for creating and writing to a new file, and\n",
      "    'a' for appending (which on some Unix systems, means that all writes\n",
      "    append to the end of the file regardless of the current seek position).\n",
      "    In text mode, if encoding is not specified the encoding used is platform\n",
      "    dependent: locale.getpreferredencoding(False) is called to get the\n",
      "    current locale encoding. (For reading and writing raw bytes use binary\n",
      "    mode and leave encoding unspecified.) The available modes are:\n",
      "    \n",
      "    ========= ===============================================================\n",
      "    Character Meaning\n",
      "    --------- ---------------------------------------------------------------\n",
      "    'r'       open for reading (default)\n",
      "    'w'       open for writing, truncating the file first\n",
      "    'x'       create a new file and open it for writing\n",
      "    'a'       open for writing, appending to the end of the file if it exists\n",
      "    'b'       binary mode\n",
      "    't'       text mode (default)\n",
      "    '+'       open a disk file for updating (reading and writing)\n",
      "    'U'       universal newline mode (deprecated)\n",
      "    ========= ===============================================================\n",
      "    \n",
      "    The default mode is 'rt' (open for reading text). For binary random\n",
      "    access, the mode 'w+b' opens and truncates the file to 0 bytes, while\n",
      "    'r+b' opens the file without truncation. The 'x' mode implies 'w' and\n",
      "    raises an `FileExistsError` if the file already exists.\n",
      "    \n",
      "    Python distinguishes between files opened in binary and text modes,\n",
      "    even when the underlying operating system doesn't. Files opened in\n",
      "    binary mode (appending 'b' to the mode argument) return contents as\n",
      "    bytes objects without any decoding. In text mode (the default, or when\n",
      "    't' is appended to the mode argument), the contents of the file are\n",
      "    returned as strings, the bytes having been first decoded using a\n",
      "    platform-dependent encoding or using the specified encoding if given.\n",
      "    \n",
      "    'U' mode is deprecated and will raise an exception in future versions\n",
      "    of Python.  It has no effect in Python 3.  Use newline to control\n",
      "    universal newlines mode.\n",
      "    \n",
      "    buffering is an optional integer used to set the buffering policy.\n",
      "    Pass 0 to switch buffering off (only allowed in binary mode), 1 to select\n",
      "    line buffering (only usable in text mode), and an integer > 1 to indicate\n",
      "    the size of a fixed-size chunk buffer.  When no buffering argument is\n",
      "    given, the default buffering policy works as follows:\n",
      "    \n",
      "    * Binary files are buffered in fixed-size chunks; the size of the buffer\n",
      "      is chosen using a heuristic trying to determine the underlying device's\n",
      "      \"block size\" and falling back on `io.DEFAULT_BUFFER_SIZE`.\n",
      "      On many systems, the buffer will typically be 4096 or 8192 bytes long.\n",
      "    \n",
      "    * \"Interactive\" text files (files for which isatty() returns True)\n",
      "      use line buffering.  Other text files use the policy described above\n",
      "      for binary files.\n",
      "    \n",
      "    encoding is the name of the encoding used to decode or encode the\n",
      "    file. This should only be used in text mode. The default encoding is\n",
      "    platform dependent, but any encoding supported by Python can be\n",
      "    passed.  See the codecs module for the list of supported encodings.\n",
      "    \n",
      "    errors is an optional string that specifies how encoding errors are to\n",
      "    be handled---this argument should not be used in binary mode. Pass\n",
      "    'strict' to raise a ValueError exception if there is an encoding error\n",
      "    (the default of None has the same effect), or pass 'ignore' to ignore\n",
      "    errors. (Note that ignoring encoding errors can lead to data loss.)\n",
      "    See the documentation for codecs.register or run 'help(codecs.Codec)'\n",
      "    for a list of the permitted encoding error strings.\n",
      "    \n",
      "    newline controls how universal newlines works (it only applies to text\n",
      "    mode). It can be None, '', '\\n', '\\r', and '\\r\\n'.  It works as\n",
      "    follows:\n",
      "    \n",
      "    * On input, if newline is None, universal newlines mode is\n",
      "      enabled. Lines in the input can end in '\\n', '\\r', or '\\r\\n', and\n",
      "      these are translated into '\\n' before being returned to the\n",
      "      caller. If it is '', universal newline mode is enabled, but line\n",
      "      endings are returned to the caller untranslated. If it has any of\n",
      "      the other legal values, input lines are only terminated by the given\n",
      "      string, and the line ending is returned to the caller untranslated.\n",
      "    \n",
      "    * On output, if newline is None, any '\\n' characters written are\n",
      "      translated to the system default line separator, os.linesep. If\n",
      "      newline is '' or '\\n', no translation takes place. If newline is any\n",
      "      of the other legal values, any '\\n' characters written are translated\n",
      "      to the given string.\n",
      "    \n",
      "    If closefd is False, the underlying file descriptor will be kept open\n",
      "    when the file is closed. This does not work when a file name is given\n",
      "    and must be True in that case.\n",
      "    \n",
      "    A custom opener can be used by passing a callable as *opener*. The\n",
      "    underlying file descriptor for the file object is then obtained by\n",
      "    calling *opener* with (*file*, *flags*). *opener* must return an open\n",
      "    file descriptor (passing os.open as *opener* results in functionality\n",
      "    similar to passing None).\n",
      "    \n",
      "    open() returns a file object whose type depends on the mode, and\n",
      "    through which the standard file operations such as reading and writing\n",
      "    are performed. When open() is used to open a file in a text mode ('w',\n",
      "    'r', 'wt', 'rt', etc.), it returns a TextIOWrapper. When used to open\n",
      "    a file in a binary mode, the returned class varies: in read binary\n",
      "    mode, it returns a BufferedReader; in write binary and append binary\n",
      "    modes, it returns a BufferedWriter, and in read/write mode, it returns\n",
      "    a BufferedRandom.\n",
      "    \n",
      "    It is also possible to use a string or bytearray as a file for both\n",
      "    reading and writing. For strings StringIO can be used like a file\n",
      "    opened in a text mode, and for bytes a BytesIO can be used like a file\n",
      "    opened in a binary mode.\n",
      "\n"
     ]
    }
   ],
   "source": [
    "help(open)"
   ]
  }
 ],
 "metadata": {
  "kernelspec": {
   "display_name": "Python 3 (ipykernel)",
   "language": "python",
   "name": "python3"
  },
  "language_info": {
   "codemirror_mode": {
    "name": "ipython",
    "version": 3
   },
   "file_extension": ".py",
   "mimetype": "text/x-python",
   "name": "python",
   "nbconvert_exporter": "python",
   "pygments_lexer": "ipython3",
   "version": "3.10.9"
  }
 },
 "nbformat": 4,
 "nbformat_minor": 5
}
