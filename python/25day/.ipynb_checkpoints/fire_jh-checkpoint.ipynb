{
 "cells": [
  {
   "cell_type": "markdown",
   "id": "b7e99da7",
   "metadata": {},
   "source": [
    "kosis.kr: 소방청->시도별화재발생현황(총괄) 2010~2021\n",
    "* 시각화 기획, 설계, 구현\n",
    "* 지자체별 화재 건수"
   ]
  },
  {
   "cell_type": "code",
   "execution_count": 1,
   "id": "5f997861",
   "metadata": {},
   "outputs": [
    {
     "name": "stdout",
     "output_type": "stream",
     "text": [
      "['HYGothic-Extra', 'sans-serif']\n"
     ]
    }
   ],
   "source": [
    "import numpy as np\n",
    "import pandas as pd\n",
    "import matplotlib.pyplot as plt\n",
    "import seaborn as sns\n",
    "import matplotlib\n",
    "from matplotlib import font_manager, rc\n",
    "\n",
    "current_font_list = matplotlib.rcParams['font.family']\n",
    "\n",
    "font_path = \"C:/Windows/Fonts/H2GTRE.TTF\"\n",
    "font = font_manager.FontProperties(fname=font_path).get_name()\n",
    "# rc('font', family=font)\n",
    "matplotlib.rcParams['font.family'] = [font]+current_font_list\n",
    "print(matplotlib.rcParams['font.family'])"
   ]
  },
  {
   "cell_type": "code",
   "execution_count": 2,
   "id": "00ba7fa3",
   "metadata": {},
   "outputs": [
    {
     "data": {
      "text/plain": [
       "서울특별시      12\n",
       "강원도        12\n",
       "경상남도       12\n",
       "경상북도       12\n",
       "전라남도       12\n",
       "전라북도       12\n",
       "충청남도       12\n",
       "충청북도       12\n",
       "경기도        12\n",
       "부산광역시      12\n",
       "울산광역시      12\n",
       "대전광역시      12\n",
       "광주광역시      12\n",
       "인천광역시      12\n",
       "대구광역시      12\n",
       "제주특별자치도    12\n",
       "세종특별자치시    10\n",
       "Name: 행정구역별, dtype: int64"
      ]
     },
     "execution_count": 2,
     "metadata": {},
     "output_type": "execute_result"
    }
   ],
   "source": [
    "pd_data = pd.read_csv('시도별_화재발생_현황_총괄__20230307153228.csv', encoding='cp949')\n",
    "filter1 = pd_data['행정구역별'] != '전국'\n",
    "pd_data = pd_data[filter1]\n",
    "pd_data = pd_data.reset_index()\n",
    "pd_data = pd_data.drop(['index'], axis=1)\n",
    "\n",
    "pd_data['행정구역별'].value_counts()\n",
    "# pd_data\n",
    "# pd_data.iloc[94]['시점'] = '2010'\n",
    "# pd_data.iloc[83]"
   ]
  },
  {
   "cell_type": "code",
   "execution_count": 3,
   "id": "371b0f58",
   "metadata": {},
   "outputs": [
    {
     "name": "stderr",
     "output_type": "stream",
     "text": [
      "C:\\Users\\ITPS\\AppData\\Local\\Temp\\ipykernel_5376\\4044854760.py:17: FutureWarning: The frame.append method is deprecated and will be removed from pandas in a future version. Use pandas.concat instead.\n",
      "  pd_data = temp1.append(new_data,ignore_index=True).append(temp2, ignore_index=True)\n",
      "C:\\Users\\ITPS\\AppData\\Local\\Temp\\ipykernel_5376\\4044854760.py:17: FutureWarning: The frame.append method is deprecated and will be removed from pandas in a future version. Use pandas.concat instead.\n",
      "  pd_data = temp1.append(new_data,ignore_index=True).append(temp2, ignore_index=True)\n",
      "C:\\Users\\ITPS\\AppData\\Local\\Temp\\ipykernel_5376\\4044854760.py:17: FutureWarning: The frame.append method is deprecated and will be removed from pandas in a future version. Use pandas.concat instead.\n",
      "  pd_data = temp1.append(new_data,ignore_index=True).append(temp2, ignore_index=True)\n"
     ]
    }
   ],
   "source": [
    "pd_data[pd_data['행정구역별'] == '세종특별자치시']\n",
    "for i in range(84,86):\n",
    "    if(i == 84):\n",
    "        new_data = {\n",
    "        '행정구역별' : '세종특별자치시',\n",
    "        '시점' : 2010,\n",
    "        '건수 (건)':0, '사망 (명)':0, '부상 (명)':0, '재산피해(계) (천원)':0, '부동산 (천원)':0, '동산 (천원)':0, '이재가구수 (가구)':0, '이재민수 (명)': 0\n",
    "        }\n",
    "    if(i == 85):\n",
    "        new_data = {\n",
    "        '행정구역별' : '세종특별자치시',\n",
    "        '시점' : 2011,\n",
    "        '건수 (건)':0, '사망 (명)':0, '부상 (명)':0, '재산피해(계) (천원)':0, '부동산 (천원)':0, '동산 (천원)':0, '이재가구수 (가구)':0, '이재민수 (명)': 0\n",
    "        }\n",
    "    temp1 = pd_data[pd_data.index < i]\n",
    "    temp2 = pd_data[pd_data.index >= i]\n",
    "    pd_data = temp1.append(new_data,ignore_index=True).append(temp2, ignore_index=True)"
   ]
  },
  {
   "cell_type": "code",
   "execution_count": 4,
   "id": "0b5f09f9",
   "metadata": {},
   "outputs": [
    {
     "data": {
      "text/html": [
       "<div>\n",
       "<style scoped>\n",
       "    .dataframe tbody tr th:only-of-type {\n",
       "        vertical-align: middle;\n",
       "    }\n",
       "\n",
       "    .dataframe tbody tr th {\n",
       "        vertical-align: top;\n",
       "    }\n",
       "\n",
       "    .dataframe thead th {\n",
       "        text-align: right;\n",
       "    }\n",
       "</style>\n",
       "<table border=\"1\" class=\"dataframe\">\n",
       "  <thead>\n",
       "    <tr style=\"text-align: right;\">\n",
       "      <th></th>\n",
       "      <th>행정구역별</th>\n",
       "      <th>시점</th>\n",
       "      <th>건수 (건)</th>\n",
       "      <th>사망 (명)</th>\n",
       "      <th>부상 (명)</th>\n",
       "      <th>재산피해(계) (천원)</th>\n",
       "      <th>부동산 (천원)</th>\n",
       "      <th>동산 (천원)</th>\n",
       "      <th>이재가구수 (가구)</th>\n",
       "      <th>이재민수 (명)</th>\n",
       "    </tr>\n",
       "  </thead>\n",
       "  <tbody>\n",
       "    <tr>\n",
       "      <th>84</th>\n",
       "      <td>세종특별자치시</td>\n",
       "      <td>2010</td>\n",
       "      <td>0</td>\n",
       "      <td>0</td>\n",
       "      <td>0</td>\n",
       "      <td>0</td>\n",
       "      <td>0</td>\n",
       "      <td>0</td>\n",
       "      <td>0</td>\n",
       "      <td>0</td>\n",
       "    </tr>\n",
       "    <tr>\n",
       "      <th>85</th>\n",
       "      <td>세종특별자치시</td>\n",
       "      <td>2011</td>\n",
       "      <td>0</td>\n",
       "      <td>0</td>\n",
       "      <td>0</td>\n",
       "      <td>0</td>\n",
       "      <td>0</td>\n",
       "      <td>0</td>\n",
       "      <td>0</td>\n",
       "      <td>0</td>\n",
       "    </tr>\n",
       "    <tr>\n",
       "      <th>86</th>\n",
       "      <td>세종특별자치시</td>\n",
       "      <td>2012</td>\n",
       "      <td>66</td>\n",
       "      <td>3</td>\n",
       "      <td>3</td>\n",
       "      <td>2190095</td>\n",
       "      <td>1221722</td>\n",
       "      <td>968373</td>\n",
       "      <td>2</td>\n",
       "      <td>4</td>\n",
       "    </tr>\n",
       "    <tr>\n",
       "      <th>87</th>\n",
       "      <td>세종특별자치시</td>\n",
       "      <td>2013</td>\n",
       "      <td>194</td>\n",
       "      <td>3</td>\n",
       "      <td>3</td>\n",
       "      <td>1153162</td>\n",
       "      <td>623461</td>\n",
       "      <td>529701</td>\n",
       "      <td>2</td>\n",
       "      <td>12</td>\n",
       "    </tr>\n",
       "    <tr>\n",
       "      <th>88</th>\n",
       "      <td>세종특별자치시</td>\n",
       "      <td>2014</td>\n",
       "      <td>223</td>\n",
       "      <td>1</td>\n",
       "      <td>6</td>\n",
       "      <td>1023281</td>\n",
       "      <td>479483</td>\n",
       "      <td>543798</td>\n",
       "      <td>1</td>\n",
       "      <td>4</td>\n",
       "    </tr>\n",
       "    <tr>\n",
       "      <th>89</th>\n",
       "      <td>세종특별자치시</td>\n",
       "      <td>2015</td>\n",
       "      <td>252</td>\n",
       "      <td>1</td>\n",
       "      <td>5</td>\n",
       "      <td>1240542</td>\n",
       "      <td>604540</td>\n",
       "      <td>636002</td>\n",
       "      <td>4</td>\n",
       "      <td>9</td>\n",
       "    </tr>\n",
       "    <tr>\n",
       "      <th>90</th>\n",
       "      <td>세종특별자치시</td>\n",
       "      <td>2016</td>\n",
       "      <td>300</td>\n",
       "      <td>2</td>\n",
       "      <td>12</td>\n",
       "      <td>1585028</td>\n",
       "      <td>773221</td>\n",
       "      <td>811807</td>\n",
       "      <td>11</td>\n",
       "      <td>22</td>\n",
       "    </tr>\n",
       "    <tr>\n",
       "      <th>91</th>\n",
       "      <td>세종특별자치시</td>\n",
       "      <td>2017</td>\n",
       "      <td>316</td>\n",
       "      <td>2</td>\n",
       "      <td>8</td>\n",
       "      <td>4039112</td>\n",
       "      <td>1687347</td>\n",
       "      <td>2351765</td>\n",
       "      <td>10</td>\n",
       "      <td>23</td>\n",
       "    </tr>\n",
       "    <tr>\n",
       "      <th>92</th>\n",
       "      <td>세종특별자치시</td>\n",
       "      <td>2018</td>\n",
       "      <td>236</td>\n",
       "      <td>3</td>\n",
       "      <td>50</td>\n",
       "      <td>10321601</td>\n",
       "      <td>8548417</td>\n",
       "      <td>1773184</td>\n",
       "      <td>10</td>\n",
       "      <td>18</td>\n",
       "    </tr>\n",
       "    <tr>\n",
       "      <th>93</th>\n",
       "      <td>세종특별자치시</td>\n",
       "      <td>2019</td>\n",
       "      <td>191</td>\n",
       "      <td>0</td>\n",
       "      <td>8</td>\n",
       "      <td>2695492</td>\n",
       "      <td>995712</td>\n",
       "      <td>1699780</td>\n",
       "      <td>5</td>\n",
       "      <td>10</td>\n",
       "    </tr>\n",
       "    <tr>\n",
       "      <th>94</th>\n",
       "      <td>세종특별자치시</td>\n",
       "      <td>2020</td>\n",
       "      <td>203</td>\n",
       "      <td>2</td>\n",
       "      <td>16</td>\n",
       "      <td>3196125</td>\n",
       "      <td>1227512</td>\n",
       "      <td>1968613</td>\n",
       "      <td>25</td>\n",
       "      <td>28</td>\n",
       "    </tr>\n",
       "    <tr>\n",
       "      <th>95</th>\n",
       "      <td>세종특별자치시</td>\n",
       "      <td>2021</td>\n",
       "      <td>185</td>\n",
       "      <td>-</td>\n",
       "      <td>15</td>\n",
       "      <td>2085194</td>\n",
       "      <td>940781</td>\n",
       "      <td>1144413</td>\n",
       "      <td>5</td>\n",
       "      <td>9</td>\n",
       "    </tr>\n",
       "  </tbody>\n",
       "</table>\n",
       "</div>"
      ],
      "text/plain": [
       "      행정구역별    시점  건수 (건) 사망 (명)  부상 (명)  재산피해(계) (천원)  부동산 (천원)  동산 (천원)  \\\n",
       "84  세종특별자치시  2010       0      0       0             0         0        0   \n",
       "85  세종특별자치시  2011       0      0       0             0         0        0   \n",
       "86  세종특별자치시  2012      66      3       3       2190095   1221722   968373   \n",
       "87  세종특별자치시  2013     194      3       3       1153162    623461   529701   \n",
       "88  세종특별자치시  2014     223      1       6       1023281    479483   543798   \n",
       "89  세종특별자치시  2015     252      1       5       1240542    604540   636002   \n",
       "90  세종특별자치시  2016     300      2      12       1585028    773221   811807   \n",
       "91  세종특별자치시  2017     316      2       8       4039112   1687347  2351765   \n",
       "92  세종특별자치시  2018     236      3      50      10321601   8548417  1773184   \n",
       "93  세종특별자치시  2019     191      0       8       2695492    995712  1699780   \n",
       "94  세종특별자치시  2020     203      2      16       3196125   1227512  1968613   \n",
       "95  세종특별자치시  2021     185      -      15       2085194    940781  1144413   \n",
       "\n",
       "    이재가구수 (가구)  이재민수 (명)  \n",
       "84           0         0  \n",
       "85           0         0  \n",
       "86           2         4  \n",
       "87           2        12  \n",
       "88           1         4  \n",
       "89           4         9  \n",
       "90          11        22  \n",
       "91          10        23  \n",
       "92          10        18  \n",
       "93           5        10  \n",
       "94          25        28  \n",
       "95           5         9  "
      ]
     },
     "execution_count": 4,
     "metadata": {},
     "output_type": "execute_result"
    }
   ],
   "source": [
    "pd_data[pd_data['행정구역별'] == '세종특별자치시']\n",
    "# pd_data.groupby(['시점','행정구역별'])\n",
    "# pd_data."
   ]
  },
  {
   "cell_type": "code",
   "execution_count": 56,
   "id": "4c93ffb8",
   "metadata": {},
   "outputs": [
    {
     "data": {
      "text/plain": [
       "<matplotlib.legend.Legend at 0x1dbe84932b0>"
      ]
     },
     "execution_count": 56,
     "metadata": {},
     "output_type": "execute_result"
    },
    {
     "data": {
      "image/png": "[encoded data removed]",
      "text/plain": [
       "<Figure size 800x800 with 1 Axes>"
      ]
     },
     "metadata": {},
     "output_type": "display_data"
    }
   ],
   "source": [
    "fig, axe = plt.subplots(figsize=(8, 8))\n",
    "x = pd_data['시점'].unique()\n",
    "axe.set(title='지자체별 화재 건수',xlabel='시점', xticks=x,\n",
    "       ylabel='건수 (건)')\n",
    "# axe.set_xlabel('시점')\n",
    "# axe.set_ylabel('건수 (건)')\n",
    "bottom = np.zeros(len(x))\n",
    "for region in pd_data['행정구역별'].unique():\n",
    "    filter1 = pd_data['행정구역별'] == region\n",
    "    y = list(pd_data.loc[filter1, '건수 (건)']) \n",
    "#     print(bottom)\n",
    "#     print(y)\n",
    "    p = axe.bar(x,y, bottom=bottom)\n",
    "    bottom += y\n",
    "    \n",
    "axe.legend(labels=pd_data['행정구역별'].unique())\n"
   ]
  },
  {
   "cell_type": "code",
   "execution_count": 14,
   "id": "34624e23",
   "metadata": {},
   "outputs": [
    {
     "name": "stderr",
     "output_type": "stream",
     "text": [
      "C:\\Users\\ITPS\\AppData\\Local\\Temp\\ipykernel_5376\\2670409037.py:1: FutureWarning: The default value of numeric_only in DataFrameGroupBy.sum is deprecated. In a future version, numeric_only will default to False. Either specify numeric_only or select only columns which should be valid for the function.\n",
      "  a = pd_data.groupby(['시점','행정구역별']).sum()\n"
     ]
    },
    {
     "data": {
      "image/png": "[encoded data removed]",
      "text/plain": [
       "<Figure size 640x480 with 1 Axes>"
      ]
     },
     "metadata": {},
     "output_type": "display_data"
    }
   ],
   "source": [
    "a = pd_data.groupby(['시점','행정구역별']).sum()\n",
    "a\n",
    "axe = pd_data.plot.bar(x = '시점', y = '건수 (건)', rot=0, stacked=True)"
   ]
  }
 ],
 "metadata": {
  "kernelspec": {
   "display_name": "Python 3 (ipykernel)",
   "language": "python",
   "name": "python3"
  },
  "language_info": {
   "codemirror_mode": {
    "name": "ipython",
    "version": 3
   },
   "file_extension": ".py",
   "mimetype": "text/x-python",
   "name": "python",
   "nbconvert_exporter": "python",
   "pygments_lexer": "ipython3",
   "version": "3.10.9"
  }
 },
 "nbformat": 4,
 "nbformat_minor": 5
}
