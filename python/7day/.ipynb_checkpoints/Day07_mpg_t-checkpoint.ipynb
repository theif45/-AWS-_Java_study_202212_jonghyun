{
 "cells": [
  {
   "cell_type": "markdown",
   "id": "1d563788",
   "metadata": {},
   "source": [
    "## 자동차 연비 데이터 정제\n",
    "\n",
    "uci repo\n",
    "url: https://archive.ics.uci.edu/ml/machine-learning-databases/auto-mpg/auto-mpg.data\n",
    "\n",
    "* requests 패키지 이용 데이터 로딩.\n",
    "* 최대한 많이 정제\n",
    "* 배기량, 연비\n"
   ]
  },
  {
   "cell_type": "code",
   "execution_count": 13,
   "id": "5af0320c",
   "metadata": {},
   "outputs": [],
   "source": [
    "import math\n",
    "# 평균\n",
    "def mean(num_list):\n",
    "    return sum(num_list)/len(num_list)\n",
    "# 중간값\n",
    "def median(num_list):\n",
    "    num_list.sort()\n",
    "    if len(num_list)%2==1:\n",
    "        #//는 몫만 가지고 옴\n",
    "        i = (len(num_list))//2\n",
    "        return num_list[i]\n",
    "    else:\n",
    "        i = len(num_list)//2\n",
    "        return (num_list[i] + num_list[i-1])/2\n",
    "# 편차\n",
    "def dev(num_list):\n",
    "    m = mean(num_list)\n",
    "    return [x-m for x in num_list]\n",
    "# 분산\n",
    "def var(num_list):\n",
    "    n = len(num_list)\n",
    "    d = dev(num_list)\n",
    "    return sum([x*x for x in d])/(n-1)\n",
    "# 표준편차\n",
    "def stdev(num_list):\n",
    "    return math.sqrt(var(num_list))\n",
    "# 공분산\n",
    "def covar(list_1, list_2):\n",
    "    n = len(list_1)\n",
    "    list_1_dev = dev(list_1)\n",
    "    list_2_dev = dev(list_2)\n",
    "    return sum(x*y for x, y in zip (list_1_dev,list_2_dev))/(n-1)\n",
    "#상관도(-1 ~ 1)\n",
    "def corel(list_1,list_2):\n",
    "    return covar(list_1, list_2)/(stdev(list_1)*stdev(list_2))"
   ]
  },
  {
   "cell_type": "code",
   "execution_count": 2,
   "id": "c4aee53b",
   "metadata": {},
   "outputs": [],
   "source": [
    "import requests\n",
    "x = requests.get('https://archive.ics.uci.edu/ml/machine-learning-databases/auto-mpg/auto-mpg.data')"
   ]
  },
  {
   "cell_type": "code",
   "execution_count": 3,
   "id": "b486fd8b",
   "metadata": {},
   "outputs": [
    {
     "name": "stdout",
     "output_type": "stream",
     "text": [
      "[['18.0', '8', '307.0', '130.0', '3504.', '12.0', '70', '1', '\"chevrolet chevelle malibu\"'], ['15.0', '8', '350.0', '165.0', '3693.', '11.5', '70', '1', '\"buick skylark 320\"'], ['18.0', '8', '318.0', '150.0', '3436.', '11.0', '70', '1', '\"plymouth satellite\"']]\n"
     ]
    }
   ],
   "source": [
    "pass1 = x.text.split('\\n') # by-line\n",
    "# print(len(pass1))\n",
    "pass2 = [] #각 샘플(줄)별 숫자부분, 차명 부분 분리, split('\\t')\n",
    "for line in pass1:\n",
    "    pass2.append(line.split('\\t'))\n",
    "    \n",
    "pass3 = [] # 숫자 부분 분리. split()\n",
    "for e in pass2:\n",
    "    try:\n",
    "        y = e[0].split()\n",
    "        y.append(e[1])\n",
    "        pass3.append(y)\n",
    "    except:\n",
    "        pass\n",
    "print(pass3[:3])"
   ]
  },
  {
   "cell_type": "code",
   "execution_count": 4,
   "id": "ea2ba328",
   "metadata": {},
   "outputs": [],
   "source": [
    "# pass4 = [] #float으로 형변환, 차명\"제거\n",
    "for e in pass3:\n",
    "    for i,s in enumerate(e[:-1]):\n",
    "        try:\n",
    "            e[i] = float(s)\n",
    "        except:\n",
    "            e[i] = 0.0\n",
    "    e[-1]=e[-1].strip('\"')"
   ]
  },
  {
   "cell_type": "code",
   "execution_count": 17,
   "id": "3b24ac02",
   "metadata": {},
   "outputs": [],
   "source": [
    "# print(pass3)\n",
    "mpg_list=[] #연비\n",
    "disp_list=[] #배기량\n",
    "wei_list=[]\n",
    "for e in pass3:\n",
    "    mpg_list.append(e[0])\n",
    "    disp_list.append(e[2])\n",
    "    wei_list.append(e[4])"
   ]
  },
  {
   "cell_type": "code",
   "execution_count": 18,
   "id": "c0abcdaa",
   "metadata": {},
   "outputs": [
    {
     "name": "stdout",
     "output_type": "stream",
     "text": [
      "연비 평균 : 23.514572864321615,\n",
      "연비 표준편차 : 7.815984312565782\n",
      "배기량 평균 : 193.42587939698493,\n",
      "배기량 표준편차 : 104.26983817119581\n",
      "무게 평균 : 2970.424623115578,\n",
      "무게 표준편차 : 846.8417741973271\n"
     ]
    }
   ],
   "source": [
    "# 연비 : 평균, 표준편차\n",
    "#배기량 : 평균, 표준편차\n",
    "print('연비 평균 : {},\\n연비 표준편차 : {}'.format(mean(mpg_list),stdev(mpg_list)))\n",
    "print('배기량 평균 : {},\\n배기량 표준편차 : {}'.format(mean(disp_list),stdev(disp_list)))\n",
    "print('무게 평균 : {},\\n무게 표준편차 : {}'.format(mean(wei_list),stdev(wei_list)))"
   ]
  },
  {
   "cell_type": "code",
   "execution_count": 19,
   "id": "52c8bbab",
   "metadata": {},
   "outputs": [
    {
     "name": "stdout",
     "output_type": "stream",
     "text": [
      "상관도 : -0.8042028248058988\n",
      "상관도 : -0.8317409332443351\n"
     ]
    }
   ],
   "source": [
    "print('상관도 : {}'.format(corel(mpg_list,disp_list)))\n",
    "print('상관도 : {}'.format(corel(mpg_list,wei_list)))"
   ]
  }
 ],
 "metadata": {
  "kernelspec": {
   "display_name": "Python 3 (ipykernel)",
   "language": "python",
   "name": "python3"
  },
  "language_info": {
   "codemirror_mode": {
    "name": "ipython",
    "version": 3
   },
   "file_extension": ".py",
   "mimetype": "text/x-python",
   "name": "python",
   "nbconvert_exporter": "python",
   "pygments_lexer": "ipython3",
   "version": "3.10.9"
  }
 },
 "nbformat": 4,
 "nbformat_minor": 5
}
