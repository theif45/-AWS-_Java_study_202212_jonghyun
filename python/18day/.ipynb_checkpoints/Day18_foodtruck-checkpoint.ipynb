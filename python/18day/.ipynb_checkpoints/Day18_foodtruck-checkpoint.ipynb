{
 "cells": [
  {
   "cell_type": "markdown",
   "id": "ffc653b5",
   "metadata": {},
   "source": [
    "## 전국푸드트럭허가구역표준데이터\n",
    "- 전국/지자체별 푸드트럭 허가구역 갯수\n",
    "- 전국/지자체별 푸드트럭 운영대수"
   ]
  },
  {
   "cell_type": "code",
   "execution_count": 1,
   "id": "a08f6eea",
   "metadata": {},
   "outputs": [],
   "source": [
    "import numpy as np\n",
    "import pandas as pd\n",
    "import matplotlib.pyplot as plt\n",
    "\n",
    "food_df = pd.read_csv('전국푸드트럭허가구역표준데이터.csv', encoding='cp949')"
   ]
  },
  {
   "cell_type": "code",
   "execution_count": 17,
   "id": "da7521b5",
   "metadata": {},
   "outputs": [
    {
     "name": "stdout",
     "output_type": "stream",
     "text": [
      "(342, 47)\n",
      "['허가구역명', '장소유형', '시도명', '시군구명', '소재지도로명주소', '소재지지번주소', '위도', '경도', '푸드트럭운영대수', '허가구역사용료', '허가구역운영시작일자', '허가구역운영종료일자', '허가구역휴무일', '허가구역평일운영시작시각', '허가구역평일운영종료시각', '허가구역주말운영시작시각', '허가구역주말운영종료시각', '1월운영시작시각', '1월운영종료시각', '2월운영시작시각', '2월운영종료시각', '3월운영시작시각', '3월운영종료시각', '4월운영시작시각', '4월운영종료시각', '5월운영시작시각', '5월운영종료시각', '6월운영시작시각', '6월운영종료시각', '7월운영시작시각', '7월운영종료시각', '8월운영시작시각', '8월운영종료시각', '9월운영시작시각', '9월운영종료시각', '10월운영시작시각', '10월운영종료시각', '11월운영시작시각', '11월운영종료시각', '12월운영시작시각', '12월운영종료시각', '판매제한품목', '관리기관명', '관리기관전화번호', '데이터기준일자', '제공기관코드', '제공기관명']\n"
     ]
    }
   ],
   "source": [
    "# print(food_df.shape)\n",
    "num_descr_df = food_df.describe()\n",
    "# print(num_descr_df.columns)\n",
    "# print(food_df.columns)\n",
    "lista = list(food_df.columns)\n",
    "for e in list(num_descr_df.columns):\n",
    "    lista.remove(e)\n",
    "lista = list(food_df.columns)\n",
    "print(lista)"
   ]
  },
  {
   "cell_type": "code",
   "execution_count": 2,
   "id": "a5cd4d1d",
   "metadata": {},
   "outputs": [
    {
     "name": "stdout",
     "output_type": "stream",
     "text": [
      "(0, '허가구역명')\n",
      "(1, '장소유형')\n",
      "(2, '시도명')\n",
      "(3, '시군구명')\n",
      "(4, '소재지도로명주소')\n",
      "(5, '소재지지번주소')\n",
      "(6, '위도')\n",
      "(7, '경도')\n",
      "(8, '푸드트럭운영대수')\n",
      "(9, '허가구역사용료')\n",
      "(10, '허가구역운영시작일자')\n",
      "(11, '허가구역운영종료일자')\n",
      "(12, '허가구역휴무일')\n",
      "(13, '허가구역평일운영시작시각')\n",
      "(14, '허가구역평일운영종료시각')\n",
      "(15, '허가구역주말운영시작시각')\n",
      "(16, '허가구역주말운영종료시각')\n",
      "(17, '1월운영시작시각')\n",
      "(18, '1월운영종료시각')\n",
      "(19, '2월운영시작시각')\n",
      "(20, '2월운영종료시각')\n",
      "(21, '3월운영시작시각')\n",
      "(22, '3월운영종료시각')\n",
      "(23, '4월운영시작시각')\n",
      "(24, '4월운영종료시각')\n",
      "(25, '5월운영시작시각')\n",
      "(26, '5월운영종료시각')\n",
      "(27, '6월운영시작시각')\n",
      "(28, '6월운영종료시각')\n",
      "(29, '7월운영시작시각')\n",
      "(30, '7월운영종료시각')\n",
      "(31, '8월운영시작시각')\n",
      "(32, '8월운영종료시각')\n",
      "(33, '9월운영시작시각')\n",
      "(34, '9월운영종료시각')\n",
      "(35, '10월운영시작시각')\n",
      "(36, '10월운영종료시각')\n",
      "(37, '11월운영시작시각')\n",
      "(38, '11월운영종료시각')\n",
      "(39, '12월운영시작시각')\n",
      "(40, '12월운영종료시각')\n",
      "(41, '판매제한품목')\n",
      "(42, '관리기관명')\n",
      "(43, '관리기관전화번호')\n",
      "(44, '데이터기준일자')\n",
      "(45, '제공기관코드')\n",
      "(46, '제공기관명')\n"
     ]
    }
   ],
   "source": [
    "for i in enumerate(food_df.columns):\n",
    "    print(i)"
   ]
  },
  {
   "cell_type": "code",
   "execution_count": 3,
   "id": "6b7d7c72",
   "metadata": {},
   "outputs": [
    {
     "data": {
      "text/plain": [
       "경기도        80\n",
       "경상남도       48\n",
       "충청북도       41\n",
       "강원도        34\n",
       "충청남도       24\n",
       "서울특별시      17\n",
       "제주특별자치도    17\n",
       "광주광역시      14\n",
       "전라남도       13\n",
       "대구광역시      12\n",
       "경상북도       11\n",
       "부산광역시       9\n",
       "인천광역시       8\n",
       "전라북도        7\n",
       "대전광역시       6\n",
       "울산광역시       1\n",
       "Name: 시도명, dtype: int64"
      ]
     },
     "execution_count": 3,
     "metadata": {},
     "output_type": "execute_result"
    }
   ],
   "source": [
    "national_site_count = food_df.shape[0]\n",
    "food_df['시도명'].value_counts()"
   ]
  },
  {
   "cell_type": "code",
   "execution_count": 12,
   "id": "72d55cd2",
   "metadata": {},
   "outputs": [
    {
     "name": "stdout",
     "output_type": "stream",
     "text": [
      "         푸드트럭운영대수\n",
      "count  251.000000\n",
      "mean     1.768924\n",
      "std      2.952015\n",
      "min      0.000000\n",
      "25%      1.000000\n",
      "50%      1.000000\n",
      "75%      1.000000\n",
      "max     25.000000\n"
     ]
    }
   ],
   "source": [
    "# print(food_df['시도명'].describe())\n",
    "# print(food_df['푸드트럭운영대수'].describe())\n",
    "print(food_df[['시도명','푸드트럭운영대수']].describe())"
   ]
  },
  {
   "cell_type": "code",
   "execution_count": 4,
   "id": "4dd6fc29",
   "metadata": {},
   "outputs": [
    {
     "data": {
      "text/plain": [
       "444.0"
      ]
     },
     "execution_count": 4,
     "metadata": {},
     "output_type": "execute_result"
    }
   ],
   "source": [
    "food_df['푸드트럭운영대수'].sum()"
   ]
  },
  {
   "cell_type": "code",
   "execution_count": 8,
   "id": "7ed32d6c",
   "metadata": {},
   "outputs": [
    {
     "name": "stdout",
     "output_type": "stream",
     "text": [
      "<class 'pandas.core.frame.DataFrame'>\n",
      "         푸드트럭운영대수\n",
      "시도명              \n",
      "강원도          25.0\n",
      "경기도         136.0\n",
      "경상남도         57.0\n",
      "경상북도         17.0\n",
      "광주광역시        14.0\n",
      "대구광역시         4.0\n",
      "대전광역시        12.0\n",
      "부산광역시        17.0\n",
      "서울특별시        35.0\n",
      "울산광역시         1.0\n",
      "인천광역시         9.0\n",
      "전라남도         29.0\n",
      "전라북도         10.0\n",
      "제주특별자치도      41.0\n",
      "충청남도         30.0\n",
      "충청북도          7.0\n"
     ]
    }
   ],
   "source": [
    "sub_data = food_df[['시도명','푸드트럭운영대수']]\n",
    "x = sub_data.groupby('시도명').sum()\n",
    "print(type(x))\n",
    "print(x)"
   ]
  },
  {
   "cell_type": "code",
   "execution_count": null,
   "id": "3a9ca6a2",
   "metadata": {},
   "outputs": [],
   "source": []
  }
 ],
 "metadata": {
  "kernelspec": {
   "display_name": "Python 3 (ipykernel)",
   "language": "python",
   "name": "python3"
  },
  "language_info": {
   "codemirror_mode": {
    "name": "ipython",
    "version": 3
   },
   "file_extension": ".py",
   "mimetype": "text/x-python",
   "name": "python",
   "nbconvert_exporter": "python",
   "pygments_lexer": "ipython3",
   "version": "3.10.9"
  }
 },
 "nbformat": 4,
 "nbformat_minor": 5
}
